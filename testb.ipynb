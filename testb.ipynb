{
 "cells": [
  {
   "cell_type": "code",
   "execution_count": 1,
   "metadata": {
    "_cell_guid": "b1076dfc-b9ad-4769-8c92-a6c4dae69d19",
    "_uuid": "8f2839f25d086af736a60e9eeb907d3b93b6e0e5",
    "execution": {
     "iopub.execute_input": "2021-12-30T12:14:17.264526Z",
     "iopub.status.busy": "2021-12-30T12:14:17.263724Z",
     "iopub.status.idle": "2021-12-30T12:14:17.288789Z",
     "shell.execute_reply": "2021-12-30T12:14:17.288011Z",
     "shell.execute_reply.started": "2021-12-28T09:13:10.007464Z"
    },
    "papermill": {
     "duration": 0.096168,
     "end_time": "2021-12-30T12:14:17.288968",
     "exception": false,
     "start_time": "2021-12-30T12:14:17.192800",
     "status": "completed"
    },
    "tags": []
   },
   "outputs": [],
   "source": [
    "# This Python 3 environment comes with many helpful analytics libraries installed\n",
    "# It is defined by the kaggle/python Docker image: https://github.com/kaggle/docker-python\n",
    "# For example, here's several helpful packages to load\n",
    "\n",
    "import numpy as np # linear algebra\n",
    "import pandas as pd # data processing, CSV file I/O (e.g. pd.read_csv)\n",
    "\n",
    "# Input data files are available in the read-only \"../input/\" directory\n",
    "# For example, running this (by clicking run or pressing Shift+Enter) will list all files under the input directory\n",
    "\n",
    "import os\n",
    "for dirname, _, filenames in os.walk('/kaggle/input'):\n",
    "    for filename in filenames:\n",
    "        print(os.path.join(dirname, filename))\n",
    "\n",
    "# You can write up to 20GB to the current directory (/kaggle/working/) that gets preserved as output when you create a version using \"Save & Run All\" \n",
    "# You can also write temporary files to /kaggle/temp/, but they won't be saved outside of the current session"
   ]
  },
  {
   "cell_type": "code",
   "execution_count": 2,
   "metadata": {
    "execution": {
     "iopub.execute_input": "2021-12-30T12:14:17.446149Z",
     "iopub.status.busy": "2021-12-30T12:14:17.445344Z",
     "iopub.status.idle": "2021-12-30T12:14:17.447585Z",
     "shell.execute_reply": "2021-12-30T12:14:17.447058Z",
     "shell.execute_reply.started": "2021-12-28T09:13:10.052967Z"
    },
    "papermill": {
     "duration": 0.072031,
     "end_time": "2021-12-30T12:14:17.447695",
     "exception": false,
     "start_time": "2021-12-30T12:14:17.375664",
     "status": "completed"
    },
    "tags": []
   },
   "outputs": [],
   "source": [
    "\"\"\"\n",
    "本地使用全部原始数据\n",
    "\"\"\"\n",
    "\n",
    "is_sample_data = True\n",
    "islocal = True"
   ]
  },
  {
   "cell_type": "code",
   "execution_count": 3,
   "metadata": {
    "execution": {
     "iopub.execute_input": "2021-12-30T12:14:17.616386Z",
     "iopub.status.busy": "2021-12-30T12:14:17.615811Z",
     "iopub.status.idle": "2021-12-30T12:14:40.152119Z",
     "shell.execute_reply": "2021-12-30T12:14:40.151229Z",
     "shell.execute_reply.started": "2021-12-28T09:13:10.060914Z"
    },
    "papermill": {
     "duration": 22.625002,
     "end_time": "2021-12-30T12:14:40.152270",
     "exception": false,
     "start_time": "2021-12-30T12:14:17.527268",
     "status": "completed"
    },
    "tags": []
   },
   "outputs": [
    {
     "name": "stdout",
     "output_type": "stream",
     "text": [
      "Wall time: 1.22 s\n",
      "Wall time: 50.4 ms\n",
      "Wall time: 2.5 s\n",
      "Wall time: 271 ms\n",
      "Wall time: 2.98 s\n"
     ]
    }
   ],
   "source": [
    "if islocal:\n",
    "    %time df_app = pd.read_csv('wsdm_train_data/app_launch_logs.csv')\n",
    "    %time df_inter = pd.read_csv('wsdm_train_data/user_interaction_data.csv')\n",
    "    %time df_play = pd.read_feather('wsdm_train_data/user_playback_data.feather')\n",
    "    %time df_port = pd.read_csv('wsdm_train_data/user_portrait_data.csv')\n",
    "    %time df_video = pd.read_csv('wsdm_train_data/video_related_data.csv')\n",
    "    test = pd.read_csv('test_B数据集.csv')\n",
    "elif is_sample_data:\n",
    "    df_app = pd.read_csv('/kaggle/input/iqiyi/df_app')\n",
    "    df_inter = pd.read_csv('/kaggle/input/iqiyi/df_inter')\n",
    "    df_play = pd.read_csv('/kaggle/input/iqiyi/df_play')\n",
    "    df_port = pd.read_csv('/kaggle/input/iqiyi/df_port')\n",
    "    df_video = pd.read_csv('/kaggle/input/iqiyi/df_video')\n",
    "    test = pd.read_csv('/kaggle/input/aiqiyi-competition/test-a.csv')\n",
    "else:\n",
    "    df_app = pd.read_csv('/kaggle/input/aiqiyi-competition/app_launch_logs.csv')\n",
    "    df_inter = pd.read_csv('/kaggle/input/aiqiyi-competition/user_interaction_data.csv')\n",
    "    df_play = pd.read_csv('/kaggle/input/aiqiyi-competition/user_playback_data.csv')\n",
    "    df_port = pd.read_csv('/kaggle/input/aiqiyi-competition/user_portrait_data.csv')\n",
    "    df_video = pd.read_csv('/kaggle/input/aiqiyi-competition/video_related_data.csv')\n",
    "\n",
    "    test = pd.read_csv('/kaggle/input/aiqiyi-competition/test-a.csv')"
   ]
  },
  {
   "cell_type": "code",
   "execution_count": 4,
   "metadata": {
    "execution": {
     "iopub.execute_input": "2021-12-30T12:14:40.269891Z",
     "iopub.status.busy": "2021-12-30T12:14:40.269014Z",
     "iopub.status.idle": "2021-12-30T12:14:40.271544Z",
     "shell.execute_reply": "2021-12-30T12:14:40.271058Z",
     "shell.execute_reply.started": "2021-12-28T09:13:33.355578Z"
    },
    "papermill": {
     "duration": 0.062564,
     "end_time": "2021-12-30T12:14:40.271655",
     "exception": false,
     "start_time": "2021-12-30T12:14:40.209091",
     "status": "completed"
    },
    "tags": []
   },
   "outputs": [],
   "source": [
    "# df_app = df_app[df_app.date >= df_app[['user_id','date']].groupby('user_id')['date'].transform(\n",
    "# 'max') - 60]\n",
    "# len(df_app)"
   ]
  },
  {
   "cell_type": "code",
   "execution_count": 6,
   "metadata": {
    "execution": {
     "iopub.execute_input": "2021-12-30T12:14:40.515756Z",
     "iopub.status.busy": "2021-12-30T12:14:40.515094Z",
     "iopub.status.idle": "2021-12-30T12:14:40.517268Z",
     "shell.execute_reply": "2021-12-30T12:14:40.517710Z",
     "shell.execute_reply.started": "2021-12-28T09:13:33.374811Z"
    },
    "papermill": {
     "duration": 0.061671,
     "end_time": "2021-12-30T12:14:40.517833",
     "exception": false,
     "start_time": "2021-12-30T12:14:40.456162",
     "status": "completed"
    },
    "tags": []
   },
   "outputs": [],
   "source": [
    "# np.random.seed(0)\n",
    "# def f(x,ratio=0.05):\n",
    "#     xmax, x_min = x.max(),x.min()\n",
    "#     n_sample = min(xmax - x_min - 6,np.ceil((xmax - x_min)*ratio))\n",
    "#     n_sample = int(n_sample) \n",
    "#     if n_sample > 0:\n",
    "#         return np.random.choice(np.arange(x_min,xmax-6), size=n_sample, replace=False).tolist()\n",
    "#     else:\n",
    "#         return []\n",
    "# train_date = df_app.groupby('user_id')[['date']].agg(f)\n",
    "# train_date = train_date[train_date.date.apply(len)>0]\n",
    "# train_date = train_date.explode('date').reset_index()"
   ]
  },
  {
   "cell_type": "code",
   "execution_count": null,
   "metadata": {
    "papermill": {
     "duration": 0.055819,
     "end_time": "2021-12-30T12:14:40.630233",
     "exception": false,
     "start_time": "2021-12-30T12:14:40.574414",
     "status": "completed"
    },
    "tags": []
   },
   "outputs": [],
   "source": []
  },
  {
   "cell_type": "code",
   "execution_count": 7,
   "metadata": {
    "execution": {
     "iopub.execute_input": "2021-12-30T12:14:40.754115Z",
     "iopub.status.busy": "2021-12-30T12:14:40.753252Z",
     "iopub.status.idle": "2021-12-30T12:14:47.108872Z",
     "shell.execute_reply": "2021-12-30T12:14:47.107943Z",
     "shell.execute_reply.started": "2021-12-28T09:13:33.384979Z"
    },
    "papermill": {
     "duration": 6.423038,
     "end_time": "2021-12-30T12:14:47.109021",
     "exception": false,
     "start_time": "2021-12-30T12:14:40.685983",
     "status": "completed"
    },
    "tags": []
   },
   "outputs": [],
   "source": [
    "\"\"\"\n",
    "训练集抽样\n",
    "\"\"\"\n",
    "\n",
    "np.random.seed(0)\n",
    "def f(x):\n",
    "    xmax, x_min = x.max(),x.min()\n",
    "    if xmax - x_min > 10:\n",
    "        return np.random.randint(low=x_min,high=xmax-6)\n",
    "    else:\n",
    "        return np.nan\n",
    "train_date = df_app.groupby('user_id')['date'].agg(f)\n",
    "train_date = train_date.reset_index()\n",
    "train_date = train_date[~train_date.date.isnull()]"
   ]
  },
  {
   "cell_type": "code",
   "execution_count": 8,
   "metadata": {
    "execution": {
     "iopub.execute_input": "2021-12-30T12:14:47.230061Z",
     "iopub.status.busy": "2021-12-30T12:14:47.228998Z",
     "iopub.status.idle": "2021-12-30T12:14:47.250063Z",
     "shell.execute_reply": "2021-12-30T12:14:47.249594Z",
     "shell.execute_reply.started": "2021-12-28T09:13:39.98369Z"
    },
    "papermill": {
     "duration": 0.084739,
     "end_time": "2021-12-30T12:14:47.250195",
     "exception": false,
     "start_time": "2021-12-30T12:14:47.165456",
     "status": "completed"
    },
    "tags": []
   },
   "outputs": [],
   "source": [
    "train_date['date'] = train_date['date'].astype('int')\n",
    "df = pd.concat([df_app,train_date,test.rename(columns={'end_date':'date'})],ignore_index=True)"
   ]
  },
  {
   "cell_type": "code",
   "execution_count": 9,
   "metadata": {
    "execution": {
     "iopub.execute_input": "2021-12-30T12:14:47.379020Z",
     "iopub.status.busy": "2021-12-30T12:14:47.378187Z",
     "iopub.status.idle": "2021-12-30T12:14:48.940651Z",
     "shell.execute_reply": "2021-12-30T12:14:48.939870Z",
     "shell.execute_reply.started": "2021-12-28T09:13:40.015251Z"
    },
    "papermill": {
     "duration": 1.631418,
     "end_time": "2021-12-30T12:14:48.940798",
     "exception": false,
     "start_time": "2021-12-30T12:14:47.309380",
     "status": "completed"
    },
    "tags": []
   },
   "outputs": [],
   "source": [
    "df = df.groupby(['user_id','date']).agg({'launch_type':['count','sum']}).reset_index()\n",
    "df.columns =['user_id','date','launch_count','type1_count']"
   ]
  },
  {
   "cell_type": "code",
   "execution_count": 10,
   "metadata": {
    "execution": {
     "iopub.execute_input": "2021-12-30T12:14:49.074631Z",
     "iopub.status.busy": "2021-12-30T12:14:49.073730Z",
     "iopub.status.idle": "2021-12-30T12:14:49.102234Z",
     "shell.execute_reply": "2021-12-30T12:14:49.102703Z",
     "shell.execute_reply.started": "2021-12-28T09:13:41.360461Z"
    },
    "papermill": {
     "duration": 0.094893,
     "end_time": "2021-12-30T12:14:49.102904",
     "exception": false,
     "start_time": "2021-12-30T12:14:49.008011",
     "status": "completed"
    },
    "tags": []
   },
   "outputs": [],
   "source": [
    "for col in ['launch_count','type1_count']:\n",
    "    df[col] = df[col].fillna(0).astype('int8')\n",
    "df['type0_count'] = df['launch_count'] - df['type1_count']\n",
    "df['islogin'] = (df['launch_count'] > 0).astype('int8')"
   ]
  },
  {
   "cell_type": "code",
   "execution_count": null,
   "metadata": {
    "papermill": {
     "duration": 0.056271,
     "end_time": "2021-12-30T12:14:49.220829",
     "exception": false,
     "start_time": "2021-12-30T12:14:49.164558",
     "status": "completed"
    },
    "tags": []
   },
   "outputs": [],
   "source": []
  },
  {
   "cell_type": "code",
   "execution_count": 11,
   "metadata": {
    "execution": {
     "iopub.execute_input": "2021-12-30T12:14:49.343809Z",
     "iopub.status.busy": "2021-12-30T12:14:49.340676Z",
     "iopub.status.idle": "2021-12-30T12:14:50.881902Z",
     "shell.execute_reply": "2021-12-30T12:14:50.882453Z",
     "shell.execute_reply.started": "2021-12-28T09:13:41.392309Z"
    },
    "papermill": {
     "duration": 1.605429,
     "end_time": "2021-12-30T12:14:50.882651",
     "exception": false,
     "start_time": "2021-12-30T12:14:49.277222",
     "status": "completed"
    },
    "tags": []
   },
   "outputs": [
    {
     "name": "stdout",
     "output_type": "stream",
     "text": [
      "Wall time: 1.4 s\n"
     ]
    }
   ],
   "source": [
    "\"\"\"\n",
    "生产label\n",
    "\"\"\"\n",
    "\n",
    "import numba\n",
    "\n",
    "@numba.jit(nopython=True)\n",
    "def get_ndays_login(arr,n_days):\n",
    "    res = np.zeros(len(arr),dtype=np.int8)\n",
    "    for i in numba.prange(len(res)):\n",
    "        for j in range(1,n_days+1):\n",
    "            if i+j < len(arr) and arr[i+j][0] == arr[i][0] and arr[i+j][1] - arr[i][1] <= n_days:\n",
    "                res[i] += arr[i+j][2]\n",
    "            else:\n",
    "                break\n",
    "    return res\n",
    "\n",
    "%time df['label'] = get_ndays_login(df[['user_id','date','islogin']].values,n_days=7)\n",
    "df['label'] = np.where(df['date'] >= df['user_id'].map(df.groupby('user_id')['date'].max())-6,-1,df.label)\n"
   ]
  },
  {
   "cell_type": "markdown",
   "metadata": {},
   "source": [
    "生成特征"
   ]
  },
  {
   "cell_type": "code",
   "execution_count": 12,
   "metadata": {
    "execution": {
     "iopub.execute_input": "2021-12-30T12:14:51.008593Z",
     "iopub.status.busy": "2021-12-30T12:14:51.008050Z",
     "iopub.status.idle": "2021-12-30T12:14:51.011059Z",
     "shell.execute_reply": "2021-12-30T12:14:51.011958Z",
     "shell.execute_reply.started": "2021-12-28T09:13:43.150854Z"
    },
    "papermill": {
     "duration": 0.072273,
     "end_time": "2021-12-30T12:14:51.012104",
     "exception": false,
     "start_time": "2021-12-30T12:14:50.939831",
     "status": "completed"
    },
    "tags": []
   },
   "outputs": [],
   "source": [
    "@numba.jit(nopython=True)\n",
    "def future_n_login_mean(arr,n_days):\n",
    "    res = np.zeros(len(arr),dtype=np.float32)\n",
    "    res -= 1\n",
    "    tmp_id = arr[0][0]\n",
    "    for i in range(1,len(arr)):\n",
    "        if arr[i][0] != tmp_id:\n",
    "            tmp_id =  arr[i][0]\n",
    "            continue\n",
    "        tmp_sum = 0\n",
    "        count = 0\n",
    "        for j in range(1,i+1):\n",
    "            if arr[i-j][0] == tmp_id:\n",
    "                if arr[i][1] - arr[i-j][1] >= n_days and arr[i-j][2] >= 0:\n",
    "                    tmp_sum += arr[i-j][2]\n",
    "                    count += 1\n",
    "            else:\n",
    "\n",
    "                break\n",
    "        if count > 0:\n",
    "            res[i] = tmp_sum / count\n",
    "    return res\n",
    "    "
   ]
  },
  {
   "cell_type": "code",
   "execution_count": 13,
   "metadata": {
    "execution": {
     "iopub.execute_input": "2021-12-30T12:14:51.140538Z",
     "iopub.status.busy": "2021-12-30T12:14:51.139077Z",
     "iopub.status.idle": "2021-12-30T12:14:53.553747Z",
     "shell.execute_reply": "2021-12-30T12:14:53.553190Z",
     "shell.execute_reply.started": "2021-12-28T09:13:43.161121Z"
    },
    "papermill": {
     "duration": 2.480169,
     "end_time": "2021-12-30T12:14:53.553895",
     "exception": false,
     "start_time": "2021-12-30T12:14:51.073726",
     "status": "completed"
    },
    "tags": []
   },
   "outputs": [],
   "source": [
    "for n_days in range(1,7):\n",
    "    df['tmp'] = get_ndays_login(df[['user_id','date','islogin']].values,n_days)\n",
    "    df['tmp'] = np.where(df['date'] >= df['user_id'].map(df.groupby('user_id')['date'].max())-n_days+1,-1,df.tmp)\n",
    "    df[f'future_{n_days}_login_mean'] = future_n_login_mean(df[['user_id','date','tmp']].values,n_days)\n",
    "    df[f'future_{n_days}_login_mean'] = np.where(df[f'future_{n_days}_login_mean'] <0,np.nan,df[f'future_{n_days}_login_mean'] )\n",
    "df[f'future_label_login_mean'] = future_n_login_mean(df[['user_id','date','label']].values,7)\n",
    "df[f'future_label_login_mean'] = np.where(df[f'future_label_login_mean'] <0,np.nan,df[f'future_label_login_mean'] )\n",
    "\n",
    "del df['tmp']"
   ]
  },
  {
   "cell_type": "code",
   "execution_count": 14,
   "metadata": {
    "execution": {
     "iopub.execute_input": "2021-12-30T12:14:53.673344Z",
     "iopub.status.busy": "2021-12-30T12:14:53.671777Z",
     "iopub.status.idle": "2021-12-30T12:14:53.673919Z",
     "shell.execute_reply": "2021-12-30T12:14:53.674306Z",
     "shell.execute_reply.started": "2021-12-28T09:13:45.841152Z"
    },
    "papermill": {
     "duration": 0.062547,
     "end_time": "2021-12-30T12:14:53.674457",
     "exception": false,
     "start_time": "2021-12-30T12:14:53.611910",
     "status": "completed"
    },
    "tags": []
   },
   "outputs": [],
   "source": [
    "# @numba.jit(nopython=True)\n",
    "# def is_ndays_login(x,ndays):\n",
    "#     res = np.zeros(len(x),dtype=np.int8)\n",
    "#     #res -= 1\n",
    "#     login_day = np.zeros(300,dtype=np.int8)\n",
    "#     for i in range(len(x)):\n",
    "#         login_day[x[i]] = 1\n",
    "#         if login_day[x[i]-ndays] == 1:\n",
    "#             res[i] = 1\n",
    "#         else:\n",
    "#             res[i] = 0\n",
    "#     return res\n",
    "# for ndays in range(1,8):\n",
    "#     df[f'is_{ndays}_login_01'] = df.groupby('user_id')['date'].transform(lambda x:is_ndays_login(x.values,ndays))"
   ]
  },
  {
   "cell_type": "code",
   "execution_count": 15,
   "metadata": {
    "execution": {
     "iopub.execute_input": "2021-12-30T12:14:53.796034Z",
     "iopub.status.busy": "2021-12-30T12:14:53.794942Z",
     "iopub.status.idle": "2021-12-30T12:14:54.078158Z",
     "shell.execute_reply": "2021-12-30T12:14:54.077672Z",
     "shell.execute_reply.started": "2021-12-28T09:13:45.84715Z"
    },
    "papermill": {
     "duration": 0.347607,
     "end_time": "2021-12-30T12:14:54.078290",
     "exception": false,
     "start_time": "2021-12-30T12:14:53.730683",
     "status": "completed"
    },
    "tags": []
   },
   "outputs": [],
   "source": [
    "@numba.jit(nopython=True)\n",
    "def max_login_day(arr):\n",
    "    res = np.zeros(len(arr),dtype=np.int8)\n",
    "    res -= 1\n",
    "    tmp_id = -1\n",
    "    for i in range(0,len(arr)):\n",
    "        if arr[i][0] != tmp_id:\n",
    "            tmp_id = arr[i][0]\n",
    "            tmp_day = 0\n",
    "            continue\n",
    "        else:\n",
    "            if arr[i][1] - arr[i-1][1] == 1 and arr[i-1][2] == 1:\n",
    "                tmp_day += 1\n",
    "            else:\n",
    "                tmp_day = 0\n",
    "\n",
    "        res[i] = tmp_day\n",
    "    return res\n",
    "    \n",
    "\n",
    "df['max_login_day'] = max_login_day(df[['user_id','date','islogin']].values)\n",
    "df['max_login_day'] = np.where(df['max_login_day'] < 0,0,df['max_login_day'])\n"
   ]
  },
  {
   "cell_type": "code",
   "execution_count": 16,
   "metadata": {
    "execution": {
     "iopub.execute_input": "2021-12-30T12:14:54.202736Z",
     "iopub.status.busy": "2021-12-30T12:14:54.199720Z",
     "iopub.status.idle": "2021-12-30T12:14:56.180936Z",
     "shell.execute_reply": "2021-12-30T12:14:56.180021Z",
     "shell.execute_reply.started": "2021-12-28T09:13:46.173515Z"
    },
    "papermill": {
     "duration": 2.045348,
     "end_time": "2021-12-30T12:14:56.181079",
     "exception": false,
     "start_time": "2021-12-30T12:14:54.135731",
     "status": "completed"
    },
    "tags": []
   },
   "outputs": [],
   "source": [
    "@numba.jit(nopython=True)\n",
    "def last_n_login_day(arr,n):\n",
    "    res = np.zeros(len(arr),dtype=np.int8)\n",
    "    res -= 1\n",
    "    for i in range(0,len(arr)):\n",
    "        count = n\n",
    "        for j in range(1,130):\n",
    "            if i - j >= 0 and arr[i-j][0] == arr[i][0]:\n",
    "                count -= arr[i-j][2]\n",
    "                if count == 0:\n",
    "                    res[i] = arr[i][1] - arr[i-j][1]\n",
    "                    break\n",
    "            else:\n",
    "                break\n",
    "    return res\n",
    "for n in range(1,15):\n",
    "    df[f'last{n}_login'] = last_n_login_day(df[['user_id','date','islogin']].values,n)\n",
    "    #df[f'last{n}_login'] = df[f'last{n}_login'].replace(-1,np.nan)\n",
    "    if n == 1:\n",
    "        df[f'last{n}_login'] = np.where(df[f'last{n}_login'] < 0,7,df[f'last{n}_login'])\n",
    "    else:\n",
    "        df[f'last{n}_login'] = np.where(df[f'last{n}_login'] < 0,df[f'last{n-1}_login']*(n/(n-1)),df[f'last{n}_login'])\n",
    "    "
   ]
  },
  {
   "cell_type": "code",
   "execution_count": 17,
   "metadata": {
    "execution": {
     "iopub.execute_input": "2021-12-30T12:14:56.302370Z",
     "iopub.status.busy": "2021-12-30T12:14:56.301258Z",
     "iopub.status.idle": "2021-12-30T12:14:56.908499Z",
     "shell.execute_reply": "2021-12-30T12:14:56.907995Z",
     "shell.execute_reply.started": "2021-12-28T09:13:48.341343Z"
    },
    "papermill": {
     "duration": 0.670501,
     "end_time": "2021-12-30T12:14:56.908637",
     "exception": false,
     "start_time": "2021-12-30T12:14:56.238136",
     "status": "completed"
    },
    "tags": []
   },
   "outputs": [],
   "source": [
    "df['day_minus_min_date'] = df['date'] -  df[['user_id','date']].groupby('user_id')['date'].transform('min')\n",
    "df['cum_login'] = df[['user_id','islogin']].groupby('user_id')['islogin'].cumsum()\n",
    "df['cum_launch_count'] = df[['user_id','launch_count']].groupby('user_id')['launch_count'].cumsum()\n",
    "df['cum_type1_count_count'] = df[['user_id','type1_count']].groupby('user_id')['type1_count'].cumsum()\n",
    "df['cum_lauch_ratio'] = df['cum_type1_count_count'] / df['cum_launch_count']\n",
    "df['cum_login_mean'] = df['cum_login'] / df['day_minus_min_date']\n",
    "df['cum_launch_mean'] = df['cum_launch_count'] / df['day_minus_min_date']\n",
    "# df['cum_max_login_day_mean'] = df[['user_id','max_login_day']].groupby('user_id').cummean()"
   ]
  },
  {
   "cell_type": "code",
   "execution_count": 18,
   "metadata": {
    "execution": {
     "iopub.execute_input": "2021-12-30T12:14:57.030260Z",
     "iopub.status.busy": "2021-12-30T12:14:57.029480Z",
     "iopub.status.idle": "2021-12-30T12:14:57.152529Z",
     "shell.execute_reply": "2021-12-30T12:14:57.151856Z",
     "shell.execute_reply.started": "2021-12-28T09:13:48.975374Z"
    },
    "papermill": {
     "duration": 0.187419,
     "end_time": "2021-12-30T12:14:57.152709",
     "exception": false,
     "start_time": "2021-12-30T12:14:56.965290",
     "status": "completed"
    },
    "tags": []
   },
   "outputs": [
    {
     "name": "stdout",
     "output_type": "stream",
     "text": [
      "Wall time: 176 ms\n"
     ]
    }
   ],
   "source": [
    "%%time \n",
    "\n",
    "df_inter_pivot = pd.pivot_table(index=['user_id','date'],data=df_inter,columns=['interact_type'],aggfunc=['count'],fill_value=0).reset_index()\n",
    "df_inter_pivot.columns = ['user_id','date'] + [f'inter_{i}_count' for i in range(1,12)]\n",
    "df_inter = df_inter.groupby(['user_id','date']).agg(\n",
    "    {'item_id':['count','nunique'],\n",
    "    'interact_type':['nunique']}\n",
    ")\n",
    "df_inter = df_inter.reset_index()\n",
    "df_inter.columns = ['user_id','date','inter_count','inter_item_nunique','inter_type_nunique']\n",
    "df_inter['inter_ratio'] = df_inter['inter_count'] / df_inter['inter_item_nunique']"
   ]
  },
  {
   "cell_type": "code",
   "execution_count": 19,
   "metadata": {
    "execution": {
     "iopub.execute_input": "2021-12-30T12:14:57.279101Z",
     "iopub.status.busy": "2021-12-30T12:14:57.278615Z",
     "iopub.status.idle": "2021-12-30T12:14:57.284448Z",
     "shell.execute_reply": "2021-12-30T12:14:57.283936Z",
     "shell.execute_reply.started": "2021-12-28T09:13:49.109407Z"
    },
    "papermill": {
     "duration": 0.067885,
     "end_time": "2021-12-30T12:14:57.284553",
     "exception": false,
     "start_time": "2021-12-30T12:14:57.216668",
     "status": "completed"
    },
    "tags": []
   },
   "outputs": [],
   "source": [
    "df_inter_pivot['inter_argmax'] = np.argmax(df_inter_pivot[[f'inter_{i}_count' for i in range(1,12)]].values,axis=1)"
   ]
  },
  {
   "cell_type": "code",
   "execution_count": 20,
   "metadata": {
    "execution": {
     "iopub.execute_input": "2021-12-30T12:14:57.412016Z",
     "iopub.status.busy": "2021-12-30T12:14:57.409188Z",
     "iopub.status.idle": "2021-12-30T12:15:21.604682Z",
     "shell.execute_reply": "2021-12-30T12:15:21.603734Z",
     "shell.execute_reply.started": "2021-12-28T09:13:49.122892Z"
    },
    "papermill": {
     "duration": 24.254793,
     "end_time": "2021-12-30T12:15:21.604836",
     "exception": false,
     "start_time": "2021-12-30T12:14:57.350043",
     "status": "completed"
    },
    "tags": []
   },
   "outputs": [],
   "source": [
    "df_video['father_id_count'] = df_video.groupby('father_id')['item_id'].transform('nunique')\n",
    "\n",
    "#df_play = pd.read_csv('/kaggle/input/iqiyi/df_play')\n",
    "df_play = df_play.merge(df_video,on = 'item_id',how='left')"
   ]
  },
  {
   "cell_type": "code",
   "execution_count": 21,
   "metadata": {
    "execution": {
     "iopub.execute_input": "2021-12-30T12:15:21.726293Z",
     "iopub.status.busy": "2021-12-30T12:15:21.725509Z",
     "iopub.status.idle": "2021-12-30T12:15:21.740633Z",
     "shell.execute_reply": "2021-12-30T12:15:21.740200Z",
     "shell.execute_reply.started": "2021-12-28T09:14:15.83085Z"
    },
    "papermill": {
     "duration": 0.078652,
     "end_time": "2021-12-30T12:15:21.740749",
     "exception": false,
     "start_time": "2021-12-30T12:15:21.662097",
     "status": "completed"
    },
    "tags": []
   },
   "outputs": [
    {
     "data": {
      "text/html": [
       "<div>\n",
       "<style scoped>\n",
       "    .dataframe tbody tr th:only-of-type {\n",
       "        vertical-align: middle;\n",
       "    }\n",
       "\n",
       "    .dataframe tbody tr th {\n",
       "        vertical-align: top;\n",
       "    }\n",
       "\n",
       "    .dataframe thead th {\n",
       "        text-align: right;\n",
       "    }\n",
       "</style>\n",
       "<table border=\"1\" class=\"dataframe\">\n",
       "  <thead>\n",
       "    <tr style=\"text-align: right;\">\n",
       "      <th></th>\n",
       "      <th>user_id</th>\n",
       "      <th>item_id</th>\n",
       "      <th>playtime</th>\n",
       "      <th>date</th>\n",
       "      <th>duration</th>\n",
       "      <th>father_id</th>\n",
       "      <th>tag_list</th>\n",
       "      <th>cast</th>\n",
       "      <th>father_id_count</th>\n",
       "    </tr>\n",
       "  </thead>\n",
       "  <tbody>\n",
       "    <tr>\n",
       "      <th>0</th>\n",
       "      <td>10057286</td>\n",
       "      <td>20628283.0</td>\n",
       "      <td>2208.612</td>\n",
       "      <td>145</td>\n",
       "      <td>11.0</td>\n",
       "      <td>30038149.0</td>\n",
       "      <td>50444644;50260120;50057164;50323629;50107634;5...</td>\n",
       "      <td>40015213;40019805;40021027;40005903;40004251;4...</td>\n",
       "      <td>1317.0</td>\n",
       "    </tr>\n",
       "    <tr>\n",
       "      <th>1</th>\n",
       "      <td>10522615</td>\n",
       "      <td>23930557.0</td>\n",
       "      <td>31.054</td>\n",
       "      <td>145</td>\n",
       "      <td>4.0</td>\n",
       "      <td>NaN</td>\n",
       "      <td>NaN</td>\n",
       "      <td>NaN</td>\n",
       "      <td>NaN</td>\n",
       "    </tr>\n",
       "    <tr>\n",
       "      <th>2</th>\n",
       "      <td>10494028</td>\n",
       "      <td>20173699.0</td>\n",
       "      <td>115.952</td>\n",
       "      <td>145</td>\n",
       "      <td>6.0</td>\n",
       "      <td>NaN</td>\n",
       "      <td>50207929;50391748;50335664</td>\n",
       "      <td>NaN</td>\n",
       "      <td>NaN</td>\n",
       "    </tr>\n",
       "    <tr>\n",
       "      <th>3</th>\n",
       "      <td>10181987</td>\n",
       "      <td>21350426.0</td>\n",
       "      <td>1.585</td>\n",
       "      <td>145</td>\n",
       "      <td>NaN</td>\n",
       "      <td>NaN</td>\n",
       "      <td>NaN</td>\n",
       "      <td>NaN</td>\n",
       "      <td>NaN</td>\n",
       "    </tr>\n",
       "    <tr>\n",
       "      <th>4</th>\n",
       "      <td>10439175</td>\n",
       "      <td>22946929.0</td>\n",
       "      <td>51.726</td>\n",
       "      <td>145</td>\n",
       "      <td>8.0</td>\n",
       "      <td>30094115.0</td>\n",
       "      <td>50205544;50392322;50150172;50050918;50237137;5...</td>\n",
       "      <td>NaN</td>\n",
       "      <td>204.0</td>\n",
       "    </tr>\n",
       "  </tbody>\n",
       "</table>\n",
       "</div>"
      ],
      "text/plain": [
       "    user_id     item_id  playtime  date  duration   father_id  \\\n",
       "0  10057286  20628283.0  2208.612   145      11.0  30038149.0   \n",
       "1  10522615  23930557.0    31.054   145       4.0         NaN   \n",
       "2  10494028  20173699.0   115.952   145       6.0         NaN   \n",
       "3  10181987  21350426.0     1.585   145       NaN         NaN   \n",
       "4  10439175  22946929.0    51.726   145       8.0  30094115.0   \n",
       "\n",
       "                                            tag_list  \\\n",
       "0  50444644;50260120;50057164;50323629;50107634;5...   \n",
       "1                                                NaN   \n",
       "2                         50207929;50391748;50335664   \n",
       "3                                                NaN   \n",
       "4  50205544;50392322;50150172;50050918;50237137;5...   \n",
       "\n",
       "                                                cast  father_id_count  \n",
       "0  40015213;40019805;40021027;40005903;40004251;4...           1317.0  \n",
       "1                                                NaN              NaN  \n",
       "2                                                NaN              NaN  \n",
       "3                                                NaN              NaN  \n",
       "4                                                NaN            204.0  "
      ]
     },
     "execution_count": 21,
     "metadata": {},
     "output_type": "execute_result"
    }
   ],
   "source": [
    "df_play.head()"
   ]
  },
  {
   "cell_type": "code",
   "execution_count": 22,
   "metadata": {
    "execution": {
     "iopub.execute_input": "2021-12-30T12:15:21.874990Z",
     "iopub.status.busy": "2021-12-30T12:15:21.874190Z",
     "iopub.status.idle": "2021-12-30T12:15:30.638497Z",
     "shell.execute_reply": "2021-12-30T12:15:30.638922Z",
     "shell.execute_reply.started": "2021-12-28T09:14:15.852354Z"
    },
    "papermill": {
     "duration": 8.840355,
     "end_time": "2021-12-30T12:15:30.639083",
     "exception": false,
     "start_time": "2021-12-30T12:15:21.798728",
     "status": "completed"
    },
    "tags": []
   },
   "outputs": [],
   "source": [
    "df_play['duration'] = np.where(df_play['duration']>15,15,df_play['duration'])\n",
    "#df_play['duration'] = df_play['duration'].astype('int8')\n",
    "df_play_pivot = pd.pivot_table(index=['user_id','date'],data=df_play[['user_id','date','duration','item_id']],columns=['duration'],aggfunc=['count'],fill_value=0).reset_index()\n",
    "df_play_pivot.columns = ['user_id','date'] + [f'duration{i}' for i in range(1,16)]\n",
    "df_play_pivot['duration_argmax'] = np.argmax(df_play_pivot[[f'duration{i}' for i in range(1,16)]].values,axis=1)\n",
    "#df_play= df_play.merge(df_tmp, on =['user_id','date'])"
   ]
  },
  {
   "cell_type": "code",
   "execution_count": 23,
   "metadata": {
    "execution": {
     "iopub.execute_input": "2021-12-30T12:15:30.770625Z",
     "iopub.status.busy": "2021-12-30T12:15:30.769957Z",
     "iopub.status.idle": "2021-12-30T12:15:30.773217Z",
     "shell.execute_reply": "2021-12-30T12:15:30.773642Z",
     "shell.execute_reply.started": "2021-12-28T09:14:25.320993Z"
    },
    "papermill": {
     "duration": 0.077077,
     "end_time": "2021-12-30T12:15:30.773776",
     "exception": false,
     "start_time": "2021-12-30T12:15:30.696699",
     "status": "completed"
    },
    "tags": []
   },
   "outputs": [
    {
     "data": {
      "text/html": [
       "<div>\n",
       "<style scoped>\n",
       "    .dataframe tbody tr th:only-of-type {\n",
       "        vertical-align: middle;\n",
       "    }\n",
       "\n",
       "    .dataframe tbody tr th {\n",
       "        vertical-align: top;\n",
       "    }\n",
       "\n",
       "    .dataframe thead th {\n",
       "        text-align: right;\n",
       "    }\n",
       "</style>\n",
       "<table border=\"1\" class=\"dataframe\">\n",
       "  <thead>\n",
       "    <tr style=\"text-align: right;\">\n",
       "      <th></th>\n",
       "      <th>user_id</th>\n",
       "      <th>date</th>\n",
       "      <th>duration1</th>\n",
       "      <th>duration2</th>\n",
       "      <th>duration3</th>\n",
       "      <th>duration4</th>\n",
       "      <th>duration5</th>\n",
       "      <th>duration6</th>\n",
       "      <th>duration7</th>\n",
       "      <th>duration8</th>\n",
       "      <th>duration9</th>\n",
       "      <th>duration10</th>\n",
       "      <th>duration11</th>\n",
       "      <th>duration12</th>\n",
       "      <th>duration13</th>\n",
       "      <th>duration14</th>\n",
       "      <th>duration15</th>\n",
       "      <th>duration_argmax</th>\n",
       "    </tr>\n",
       "  </thead>\n",
       "  <tbody>\n",
       "    <tr>\n",
       "      <th>0</th>\n",
       "      <td>10000000</td>\n",
       "      <td>131</td>\n",
       "      <td>0</td>\n",
       "      <td>0</td>\n",
       "      <td>0</td>\n",
       "      <td>0</td>\n",
       "      <td>0</td>\n",
       "      <td>0</td>\n",
       "      <td>0</td>\n",
       "      <td>0</td>\n",
       "      <td>0</td>\n",
       "      <td>0</td>\n",
       "      <td>3</td>\n",
       "      <td>0</td>\n",
       "      <td>0</td>\n",
       "      <td>0</td>\n",
       "      <td>0</td>\n",
       "      <td>10</td>\n",
       "    </tr>\n",
       "    <tr>\n",
       "      <th>1</th>\n",
       "      <td>10000000</td>\n",
       "      <td>132</td>\n",
       "      <td>0</td>\n",
       "      <td>0</td>\n",
       "      <td>0</td>\n",
       "      <td>0</td>\n",
       "      <td>0</td>\n",
       "      <td>0</td>\n",
       "      <td>0</td>\n",
       "      <td>0</td>\n",
       "      <td>0</td>\n",
       "      <td>0</td>\n",
       "      <td>2</td>\n",
       "      <td>0</td>\n",
       "      <td>0</td>\n",
       "      <td>0</td>\n",
       "      <td>0</td>\n",
       "      <td>10</td>\n",
       "    </tr>\n",
       "    <tr>\n",
       "      <th>2</th>\n",
       "      <td>10000000</td>\n",
       "      <td>195</td>\n",
       "      <td>0</td>\n",
       "      <td>0</td>\n",
       "      <td>0</td>\n",
       "      <td>0</td>\n",
       "      <td>0</td>\n",
       "      <td>0</td>\n",
       "      <td>0</td>\n",
       "      <td>0</td>\n",
       "      <td>0</td>\n",
       "      <td>0</td>\n",
       "      <td>1</td>\n",
       "      <td>0</td>\n",
       "      <td>0</td>\n",
       "      <td>0</td>\n",
       "      <td>0</td>\n",
       "      <td>10</td>\n",
       "    </tr>\n",
       "    <tr>\n",
       "      <th>3</th>\n",
       "      <td>10000002</td>\n",
       "      <td>128</td>\n",
       "      <td>0</td>\n",
       "      <td>0</td>\n",
       "      <td>0</td>\n",
       "      <td>0</td>\n",
       "      <td>0</td>\n",
       "      <td>0</td>\n",
       "      <td>0</td>\n",
       "      <td>0</td>\n",
       "      <td>0</td>\n",
       "      <td>0</td>\n",
       "      <td>0</td>\n",
       "      <td>1</td>\n",
       "      <td>0</td>\n",
       "      <td>0</td>\n",
       "      <td>0</td>\n",
       "      <td>11</td>\n",
       "    </tr>\n",
       "    <tr>\n",
       "      <th>4</th>\n",
       "      <td>10000002</td>\n",
       "      <td>140</td>\n",
       "      <td>0</td>\n",
       "      <td>0</td>\n",
       "      <td>0</td>\n",
       "      <td>0</td>\n",
       "      <td>0</td>\n",
       "      <td>0</td>\n",
       "      <td>0</td>\n",
       "      <td>0</td>\n",
       "      <td>0</td>\n",
       "      <td>0</td>\n",
       "      <td>0</td>\n",
       "      <td>1</td>\n",
       "      <td>0</td>\n",
       "      <td>0</td>\n",
       "      <td>0</td>\n",
       "      <td>11</td>\n",
       "    </tr>\n",
       "    <tr>\n",
       "      <th>...</th>\n",
       "      <td>...</td>\n",
       "      <td>...</td>\n",
       "      <td>...</td>\n",
       "      <td>...</td>\n",
       "      <td>...</td>\n",
       "      <td>...</td>\n",
       "      <td>...</td>\n",
       "      <td>...</td>\n",
       "      <td>...</td>\n",
       "      <td>...</td>\n",
       "      <td>...</td>\n",
       "      <td>...</td>\n",
       "      <td>...</td>\n",
       "      <td>...</td>\n",
       "      <td>...</td>\n",
       "      <td>...</td>\n",
       "      <td>...</td>\n",
       "      <td>...</td>\n",
       "    </tr>\n",
       "    <tr>\n",
       "      <th>4548487</th>\n",
       "      <td>10599997</td>\n",
       "      <td>161</td>\n",
       "      <td>0</td>\n",
       "      <td>0</td>\n",
       "      <td>0</td>\n",
       "      <td>0</td>\n",
       "      <td>0</td>\n",
       "      <td>0</td>\n",
       "      <td>0</td>\n",
       "      <td>0</td>\n",
       "      <td>0</td>\n",
       "      <td>0</td>\n",
       "      <td>1</td>\n",
       "      <td>0</td>\n",
       "      <td>0</td>\n",
       "      <td>0</td>\n",
       "      <td>0</td>\n",
       "      <td>10</td>\n",
       "    </tr>\n",
       "    <tr>\n",
       "      <th>4548488</th>\n",
       "      <td>10599997</td>\n",
       "      <td>164</td>\n",
       "      <td>0</td>\n",
       "      <td>0</td>\n",
       "      <td>0</td>\n",
       "      <td>0</td>\n",
       "      <td>0</td>\n",
       "      <td>0</td>\n",
       "      <td>0</td>\n",
       "      <td>0</td>\n",
       "      <td>0</td>\n",
       "      <td>0</td>\n",
       "      <td>1</td>\n",
       "      <td>0</td>\n",
       "      <td>0</td>\n",
       "      <td>0</td>\n",
       "      <td>0</td>\n",
       "      <td>10</td>\n",
       "    </tr>\n",
       "    <tr>\n",
       "      <th>4548489</th>\n",
       "      <td>10599997</td>\n",
       "      <td>165</td>\n",
       "      <td>0</td>\n",
       "      <td>0</td>\n",
       "      <td>0</td>\n",
       "      <td>0</td>\n",
       "      <td>0</td>\n",
       "      <td>0</td>\n",
       "      <td>0</td>\n",
       "      <td>0</td>\n",
       "      <td>0</td>\n",
       "      <td>0</td>\n",
       "      <td>1</td>\n",
       "      <td>0</td>\n",
       "      <td>0</td>\n",
       "      <td>0</td>\n",
       "      <td>0</td>\n",
       "      <td>10</td>\n",
       "    </tr>\n",
       "    <tr>\n",
       "      <th>4548490</th>\n",
       "      <td>10599997</td>\n",
       "      <td>166</td>\n",
       "      <td>0</td>\n",
       "      <td>0</td>\n",
       "      <td>0</td>\n",
       "      <td>0</td>\n",
       "      <td>0</td>\n",
       "      <td>0</td>\n",
       "      <td>0</td>\n",
       "      <td>0</td>\n",
       "      <td>0</td>\n",
       "      <td>0</td>\n",
       "      <td>1</td>\n",
       "      <td>0</td>\n",
       "      <td>0</td>\n",
       "      <td>0</td>\n",
       "      <td>0</td>\n",
       "      <td>10</td>\n",
       "    </tr>\n",
       "    <tr>\n",
       "      <th>4548491</th>\n",
       "      <td>10599999</td>\n",
       "      <td>144</td>\n",
       "      <td>0</td>\n",
       "      <td>0</td>\n",
       "      <td>0</td>\n",
       "      <td>0</td>\n",
       "      <td>0</td>\n",
       "      <td>0</td>\n",
       "      <td>0</td>\n",
       "      <td>0</td>\n",
       "      <td>0</td>\n",
       "      <td>1</td>\n",
       "      <td>0</td>\n",
       "      <td>0</td>\n",
       "      <td>0</td>\n",
       "      <td>0</td>\n",
       "      <td>0</td>\n",
       "      <td>9</td>\n",
       "    </tr>\n",
       "  </tbody>\n",
       "</table>\n",
       "<p>4548492 rows × 18 columns</p>\n",
       "</div>"
      ],
      "text/plain": [
       "          user_id  date  duration1  duration2  duration3  duration4  \\\n",
       "0        10000000   131          0          0          0          0   \n",
       "1        10000000   132          0          0          0          0   \n",
       "2        10000000   195          0          0          0          0   \n",
       "3        10000002   128          0          0          0          0   \n",
       "4        10000002   140          0          0          0          0   \n",
       "...           ...   ...        ...        ...        ...        ...   \n",
       "4548487  10599997   161          0          0          0          0   \n",
       "4548488  10599997   164          0          0          0          0   \n",
       "4548489  10599997   165          0          0          0          0   \n",
       "4548490  10599997   166          0          0          0          0   \n",
       "4548491  10599999   144          0          0          0          0   \n",
       "\n",
       "         duration5  duration6  duration7  duration8  duration9  duration10  \\\n",
       "0                0          0          0          0          0           0   \n",
       "1                0          0          0          0          0           0   \n",
       "2                0          0          0          0          0           0   \n",
       "3                0          0          0          0          0           0   \n",
       "4                0          0          0          0          0           0   \n",
       "...            ...        ...        ...        ...        ...         ...   \n",
       "4548487          0          0          0          0          0           0   \n",
       "4548488          0          0          0          0          0           0   \n",
       "4548489          0          0          0          0          0           0   \n",
       "4548490          0          0          0          0          0           0   \n",
       "4548491          0          0          0          0          0           1   \n",
       "\n",
       "         duration11  duration12  duration13  duration14  duration15  \\\n",
       "0                 3           0           0           0           0   \n",
       "1                 2           0           0           0           0   \n",
       "2                 1           0           0           0           0   \n",
       "3                 0           1           0           0           0   \n",
       "4                 0           1           0           0           0   \n",
       "...             ...         ...         ...         ...         ...   \n",
       "4548487           1           0           0           0           0   \n",
       "4548488           1           0           0           0           0   \n",
       "4548489           1           0           0           0           0   \n",
       "4548490           1           0           0           0           0   \n",
       "4548491           0           0           0           0           0   \n",
       "\n",
       "         duration_argmax  \n",
       "0                     10  \n",
       "1                     10  \n",
       "2                     10  \n",
       "3                     11  \n",
       "4                     11  \n",
       "...                  ...  \n",
       "4548487               10  \n",
       "4548488               10  \n",
       "4548489               10  \n",
       "4548490               10  \n",
       "4548491                9  \n",
       "\n",
       "[4548492 rows x 18 columns]"
      ]
     },
     "execution_count": 23,
     "metadata": {},
     "output_type": "execute_result"
    }
   ],
   "source": [
    "df_play_pivot"
   ]
  },
  {
   "cell_type": "code",
   "execution_count": 24,
   "metadata": {
    "execution": {
     "iopub.execute_input": "2021-12-30T12:15:30.894763Z",
     "iopub.status.busy": "2021-12-30T12:15:30.893936Z",
     "iopub.status.idle": "2021-12-30T12:15:38.543513Z",
     "shell.execute_reply": "2021-12-30T12:15:38.542582Z",
     "shell.execute_reply.started": "2021-12-28T09:14:25.3442Z"
    },
    "papermill": {
     "duration": 7.712069,
     "end_time": "2021-12-30T12:15:38.543655",
     "exception": false,
     "start_time": "2021-12-30T12:15:30.831586",
     "status": "completed"
    },
    "tags": []
   },
   "outputs": [],
   "source": [
    "df_play  = df_play.merge(df[df.label>=0][['user_id','date','label']],on = ['user_id','date'], how='left')"
   ]
  },
  {
   "cell_type": "code",
   "execution_count": 25,
   "metadata": {
    "execution": {
     "iopub.execute_input": "2021-12-30T12:15:38.676223Z",
     "iopub.status.busy": "2021-12-30T12:15:38.675641Z",
     "iopub.status.idle": "2021-12-30T12:15:38.679584Z",
     "shell.execute_reply": "2021-12-30T12:15:38.679150Z",
     "shell.execute_reply.started": "2021-12-28T09:14:33.10231Z"
    },
    "papermill": {
     "duration": 0.077871,
     "end_time": "2021-12-30T12:15:38.679692",
     "exception": false,
     "start_time": "2021-12-30T12:15:38.601821",
     "status": "completed"
    },
    "tags": []
   },
   "outputs": [
    {
     "data": {
      "text/html": [
       "<div>\n",
       "<style scoped>\n",
       "    .dataframe tbody tr th:only-of-type {\n",
       "        vertical-align: middle;\n",
       "    }\n",
       "\n",
       "    .dataframe tbody tr th {\n",
       "        vertical-align: top;\n",
       "    }\n",
       "\n",
       "    .dataframe thead th {\n",
       "        text-align: right;\n",
       "    }\n",
       "</style>\n",
       "<table border=\"1\" class=\"dataframe\">\n",
       "  <thead>\n",
       "    <tr style=\"text-align: right;\">\n",
       "      <th></th>\n",
       "      <th>user_id</th>\n",
       "      <th>item_id</th>\n",
       "      <th>playtime</th>\n",
       "      <th>date</th>\n",
       "      <th>duration</th>\n",
       "      <th>father_id</th>\n",
       "      <th>tag_list</th>\n",
       "      <th>cast</th>\n",
       "      <th>father_id_count</th>\n",
       "      <th>label</th>\n",
       "    </tr>\n",
       "  </thead>\n",
       "  <tbody>\n",
       "    <tr>\n",
       "      <th>0</th>\n",
       "      <td>10057286</td>\n",
       "      <td>20628283.0</td>\n",
       "      <td>2208.612</td>\n",
       "      <td>145</td>\n",
       "      <td>11.0</td>\n",
       "      <td>30038149.0</td>\n",
       "      <td>50444644;50260120;50057164;50323629;50107634;5...</td>\n",
       "      <td>40015213;40019805;40021027;40005903;40004251;4...</td>\n",
       "      <td>1317.0</td>\n",
       "      <td>1.0</td>\n",
       "    </tr>\n",
       "    <tr>\n",
       "      <th>1</th>\n",
       "      <td>10522615</td>\n",
       "      <td>23930557.0</td>\n",
       "      <td>31.054</td>\n",
       "      <td>145</td>\n",
       "      <td>4.0</td>\n",
       "      <td>NaN</td>\n",
       "      <td>NaN</td>\n",
       "      <td>NaN</td>\n",
       "      <td>NaN</td>\n",
       "      <td>2.0</td>\n",
       "    </tr>\n",
       "    <tr>\n",
       "      <th>2</th>\n",
       "      <td>10494028</td>\n",
       "      <td>20173699.0</td>\n",
       "      <td>115.952</td>\n",
       "      <td>145</td>\n",
       "      <td>6.0</td>\n",
       "      <td>NaN</td>\n",
       "      <td>50207929;50391748;50335664</td>\n",
       "      <td>NaN</td>\n",
       "      <td>NaN</td>\n",
       "      <td>1.0</td>\n",
       "    </tr>\n",
       "    <tr>\n",
       "      <th>3</th>\n",
       "      <td>10181987</td>\n",
       "      <td>21350426.0</td>\n",
       "      <td>1.585</td>\n",
       "      <td>145</td>\n",
       "      <td>NaN</td>\n",
       "      <td>NaN</td>\n",
       "      <td>NaN</td>\n",
       "      <td>NaN</td>\n",
       "      <td>NaN</td>\n",
       "      <td>7.0</td>\n",
       "    </tr>\n",
       "    <tr>\n",
       "      <th>4</th>\n",
       "      <td>10439175</td>\n",
       "      <td>22946929.0</td>\n",
       "      <td>51.726</td>\n",
       "      <td>145</td>\n",
       "      <td>8.0</td>\n",
       "      <td>30094115.0</td>\n",
       "      <td>50205544;50392322;50150172;50050918;50237137;5...</td>\n",
       "      <td>NaN</td>\n",
       "      <td>204.0</td>\n",
       "      <td>2.0</td>\n",
       "    </tr>\n",
       "  </tbody>\n",
       "</table>\n",
       "</div>"
      ],
      "text/plain": [
       "    user_id     item_id  playtime  date  duration   father_id  \\\n",
       "0  10057286  20628283.0  2208.612   145      11.0  30038149.0   \n",
       "1  10522615  23930557.0    31.054   145       4.0         NaN   \n",
       "2  10494028  20173699.0   115.952   145       6.0         NaN   \n",
       "3  10181987  21350426.0     1.585   145       NaN         NaN   \n",
       "4  10439175  22946929.0    51.726   145       8.0  30094115.0   \n",
       "\n",
       "                                            tag_list  \\\n",
       "0  50444644;50260120;50057164;50323629;50107634;5...   \n",
       "1                                                NaN   \n",
       "2                         50207929;50391748;50335664   \n",
       "3                                                NaN   \n",
       "4  50205544;50392322;50150172;50050918;50237137;5...   \n",
       "\n",
       "                                                cast  father_id_count  label  \n",
       "0  40015213;40019805;40021027;40005903;40004251;4...           1317.0    1.0  \n",
       "1                                                NaN              NaN    2.0  \n",
       "2                                                NaN              NaN    1.0  \n",
       "3                                                NaN              NaN    7.0  \n",
       "4                                                NaN            204.0    2.0  "
      ]
     },
     "execution_count": 25,
     "metadata": {},
     "output_type": "execute_result"
    }
   ],
   "source": [
    "df_play.head()"
   ]
  },
  {
   "cell_type": "code",
   "execution_count": 26,
   "metadata": {
    "execution": {
     "iopub.execute_input": "2021-12-30T12:15:38.814238Z",
     "iopub.status.busy": "2021-12-30T12:15:38.812422Z",
     "iopub.status.idle": "2021-12-30T12:15:38.814933Z",
     "shell.execute_reply": "2021-12-30T12:15:38.815425Z",
     "shell.execute_reply.started": "2021-12-28T09:14:33.124632Z"
    },
    "papermill": {
     "duration": 0.073086,
     "end_time": "2021-12-30T12:15:38.815571",
     "exception": false,
     "start_time": "2021-12-30T12:15:38.742485",
     "status": "completed"
    },
    "tags": []
   },
   "outputs": [],
   "source": [
    "\"\"\"\n",
    "参考baseline\n",
    "\"\"\"\n",
    "\n",
    "def target_encoding(name, df, m=1):\n",
    "#     df[name] = df[name].str.split(\";\")\n",
    "   # df = df.explode(name)\n",
    "    overall = df[~df.label.isnull()][\"label\"].mean()\n",
    "    df = df.groupby(name).agg(\n",
    "        freq=(\"label\", \"count\"), \n",
    "        in_category=(\"label\", np.mean)\n",
    "    ).reset_index()\n",
    "    df[\"weight\"] = df[\"freq\"] / (df[\"freq\"] + m)\n",
    "    df[\"score\"] = df[\"weight\"] * df[\"in_category\"] + (1 - df[\"weight\"]) * overall\n",
    "    return df"
   ]
  },
  {
   "cell_type": "code",
   "execution_count": 27,
   "metadata": {
    "execution": {
     "iopub.execute_input": "2021-12-30T12:15:38.961040Z",
     "iopub.status.busy": "2021-12-30T12:15:38.953775Z",
     "iopub.status.idle": "2021-12-30T12:15:44.353962Z",
     "shell.execute_reply": "2021-12-30T12:15:44.354356Z",
     "shell.execute_reply.started": "2021-12-28T09:14:33.134401Z"
    },
    "papermill": {
     "duration": 5.469912,
     "end_time": "2021-12-30T12:15:44.354508",
     "exception": false,
     "start_time": "2021-12-30T12:15:38.884596",
     "status": "completed"
    },
    "tags": []
   },
   "outputs": [
    {
     "data": {
      "text/html": [
       "<div>\n",
       "<style scoped>\n",
       "    .dataframe tbody tr th:only-of-type {\n",
       "        vertical-align: middle;\n",
       "    }\n",
       "\n",
       "    .dataframe tbody tr th {\n",
       "        vertical-align: top;\n",
       "    }\n",
       "\n",
       "    .dataframe thead th {\n",
       "        text-align: right;\n",
       "    }\n",
       "</style>\n",
       "<table border=\"1\" class=\"dataframe\">\n",
       "  <thead>\n",
       "    <tr style=\"text-align: right;\">\n",
       "      <th></th>\n",
       "      <th>father_id</th>\n",
       "      <th>freq</th>\n",
       "      <th>in_category</th>\n",
       "      <th>weight</th>\n",
       "      <th>score</th>\n",
       "    </tr>\n",
       "  </thead>\n",
       "  <tbody>\n",
       "    <tr>\n",
       "      <th>0</th>\n",
       "      <td>30000000.0</td>\n",
       "      <td>7</td>\n",
       "      <td>5.857143</td>\n",
       "      <td>0.875000</td>\n",
       "      <td>5.721450</td>\n",
       "    </tr>\n",
       "    <tr>\n",
       "      <th>1</th>\n",
       "      <td>30000001.0</td>\n",
       "      <td>2</td>\n",
       "      <td>4.500000</td>\n",
       "      <td>0.666667</td>\n",
       "      <td>4.590533</td>\n",
       "    </tr>\n",
       "    <tr>\n",
       "      <th>2</th>\n",
       "      <td>30000002.0</td>\n",
       "      <td>17</td>\n",
       "      <td>3.588235</td>\n",
       "      <td>0.944444</td>\n",
       "      <td>3.653978</td>\n",
       "    </tr>\n",
       "    <tr>\n",
       "      <th>3</th>\n",
       "      <td>30000003.0</td>\n",
       "      <td>1</td>\n",
       "      <td>7.000000</td>\n",
       "      <td>0.500000</td>\n",
       "      <td>5.885799</td>\n",
       "    </tr>\n",
       "    <tr>\n",
       "      <th>4</th>\n",
       "      <td>30000004.0</td>\n",
       "      <td>2</td>\n",
       "      <td>4.000000</td>\n",
       "      <td>0.666667</td>\n",
       "      <td>4.257199</td>\n",
       "    </tr>\n",
       "    <tr>\n",
       "      <th>...</th>\n",
       "      <td>...</td>\n",
       "      <td>...</td>\n",
       "      <td>...</td>\n",
       "      <td>...</td>\n",
       "      <td>...</td>\n",
       "    </tr>\n",
       "    <tr>\n",
       "      <th>84375</th>\n",
       "      <td>30094643.0</td>\n",
       "      <td>106</td>\n",
       "      <td>3.962264</td>\n",
       "      <td>0.990654</td>\n",
       "      <td>3.969828</td>\n",
       "    </tr>\n",
       "    <tr>\n",
       "      <th>84376</th>\n",
       "      <td>30094644.0</td>\n",
       "      <td>5</td>\n",
       "      <td>4.400000</td>\n",
       "      <td>0.833333</td>\n",
       "      <td>4.461933</td>\n",
       "    </tr>\n",
       "    <tr>\n",
       "      <th>84377</th>\n",
       "      <td>30094645.0</td>\n",
       "      <td>47</td>\n",
       "      <td>5.680851</td>\n",
       "      <td>0.979167</td>\n",
       "      <td>5.661908</td>\n",
       "    </tr>\n",
       "    <tr>\n",
       "      <th>84378</th>\n",
       "      <td>30094646.0</td>\n",
       "      <td>2</td>\n",
       "      <td>3.500000</td>\n",
       "      <td>0.666667</td>\n",
       "      <td>3.923866</td>\n",
       "    </tr>\n",
       "    <tr>\n",
       "      <th>84379</th>\n",
       "      <td>30094647.0</td>\n",
       "      <td>2</td>\n",
       "      <td>7.000000</td>\n",
       "      <td>0.666667</td>\n",
       "      <td>6.257199</td>\n",
       "    </tr>\n",
       "  </tbody>\n",
       "</table>\n",
       "<p>84380 rows × 5 columns</p>\n",
       "</div>"
      ],
      "text/plain": [
       "        father_id  freq  in_category    weight     score\n",
       "0      30000000.0     7     5.857143  0.875000  5.721450\n",
       "1      30000001.0     2     4.500000  0.666667  4.590533\n",
       "2      30000002.0    17     3.588235  0.944444  3.653978\n",
       "3      30000003.0     1     7.000000  0.500000  5.885799\n",
       "4      30000004.0     2     4.000000  0.666667  4.257199\n",
       "...           ...   ...          ...       ...       ...\n",
       "84375  30094643.0   106     3.962264  0.990654  3.969828\n",
       "84376  30094644.0     5     4.400000  0.833333  4.461933\n",
       "84377  30094645.0    47     5.680851  0.979167  5.661908\n",
       "84378  30094646.0     2     3.500000  0.666667  3.923866\n",
       "84379  30094647.0     2     7.000000  0.666667  6.257199\n",
       "\n",
       "[84380 rows x 5 columns]"
      ]
     },
     "execution_count": 27,
     "metadata": {},
     "output_type": "execute_result"
    }
   ],
   "source": [
    "father_id_score = target_encoding(\"father_id\", df_play[df_play.label>=0])\n",
    "father_id_score"
   ]
  },
  {
   "cell_type": "code",
   "execution_count": 28,
   "metadata": {
    "execution": {
     "iopub.execute_input": "2021-12-30T12:15:44.476878Z",
     "iopub.status.busy": "2021-12-30T12:15:44.476361Z",
     "iopub.status.idle": "2021-12-30T12:15:50.947513Z",
     "shell.execute_reply": "2021-12-30T12:15:50.947066Z",
     "shell.execute_reply.started": "2021-12-28T09:14:38.249911Z"
    },
    "papermill": {
     "duration": 6.53391,
     "end_time": "2021-12-30T12:15:50.947636",
     "exception": false,
     "start_time": "2021-12-30T12:15:44.413726",
     "status": "completed"
    },
    "tags": []
   },
   "outputs": [
    {
     "data": {
      "text/html": [
       "<div>\n",
       "<style scoped>\n",
       "    .dataframe tbody tr th:only-of-type {\n",
       "        vertical-align: middle;\n",
       "    }\n",
       "\n",
       "    .dataframe tbody tr th {\n",
       "        vertical-align: top;\n",
       "    }\n",
       "\n",
       "    .dataframe thead th {\n",
       "        text-align: right;\n",
       "    }\n",
       "</style>\n",
       "<table border=\"1\" class=\"dataframe\">\n",
       "  <thead>\n",
       "    <tr style=\"text-align: right;\">\n",
       "      <th></th>\n",
       "      <th>item_id</th>\n",
       "      <th>freq</th>\n",
       "      <th>in_category</th>\n",
       "      <th>weight</th>\n",
       "      <th>score</th>\n",
       "    </tr>\n",
       "  </thead>\n",
       "  <tbody>\n",
       "    <tr>\n",
       "      <th>0</th>\n",
       "      <td>20000001.0</td>\n",
       "      <td>2</td>\n",
       "      <td>7.000000</td>\n",
       "      <td>0.666667</td>\n",
       "      <td>6.257199</td>\n",
       "    </tr>\n",
       "    <tr>\n",
       "      <th>1</th>\n",
       "      <td>20000002.0</td>\n",
       "      <td>3</td>\n",
       "      <td>3.333333</td>\n",
       "      <td>0.750000</td>\n",
       "      <td>3.692899</td>\n",
       "    </tr>\n",
       "    <tr>\n",
       "      <th>2</th>\n",
       "      <td>20000003.0</td>\n",
       "      <td>1</td>\n",
       "      <td>0.000000</td>\n",
       "      <td>0.500000</td>\n",
       "      <td>2.385799</td>\n",
       "    </tr>\n",
       "    <tr>\n",
       "      <th>3</th>\n",
       "      <td>20000004.0</td>\n",
       "      <td>15</td>\n",
       "      <td>5.266667</td>\n",
       "      <td>0.937500</td>\n",
       "      <td>5.235725</td>\n",
       "    </tr>\n",
       "    <tr>\n",
       "      <th>4</th>\n",
       "      <td>20000005.0</td>\n",
       "      <td>1</td>\n",
       "      <td>7.000000</td>\n",
       "      <td>0.500000</td>\n",
       "      <td>5.885799</td>\n",
       "    </tr>\n",
       "    <tr>\n",
       "      <th>...</th>\n",
       "      <td>...</td>\n",
       "      <td>...</td>\n",
       "      <td>...</td>\n",
       "      <td>...</td>\n",
       "      <td>...</td>\n",
       "    </tr>\n",
       "    <tr>\n",
       "      <th>4625291</th>\n",
       "      <td>25074434.0</td>\n",
       "      <td>21</td>\n",
       "      <td>5.428571</td>\n",
       "      <td>0.954545</td>\n",
       "      <td>5.398709</td>\n",
       "    </tr>\n",
       "    <tr>\n",
       "      <th>4625292</th>\n",
       "      <td>25074435.0</td>\n",
       "      <td>2</td>\n",
       "      <td>3.500000</td>\n",
       "      <td>0.666667</td>\n",
       "      <td>3.923866</td>\n",
       "    </tr>\n",
       "    <tr>\n",
       "      <th>4625293</th>\n",
       "      <td>25074436.0</td>\n",
       "      <td>1</td>\n",
       "      <td>5.000000</td>\n",
       "      <td>0.500000</td>\n",
       "      <td>4.885799</td>\n",
       "    </tr>\n",
       "    <tr>\n",
       "      <th>4625294</th>\n",
       "      <td>25074437.0</td>\n",
       "      <td>23</td>\n",
       "      <td>3.956522</td>\n",
       "      <td>0.958333</td>\n",
       "      <td>3.990483</td>\n",
       "    </tr>\n",
       "    <tr>\n",
       "      <th>4625295</th>\n",
       "      <td>25074439.0</td>\n",
       "      <td>4</td>\n",
       "      <td>5.750000</td>\n",
       "      <td>0.800000</td>\n",
       "      <td>5.554320</td>\n",
       "    </tr>\n",
       "  </tbody>\n",
       "</table>\n",
       "<p>4625296 rows × 5 columns</p>\n",
       "</div>"
      ],
      "text/plain": [
       "            item_id  freq  in_category    weight     score\n",
       "0        20000001.0     2     7.000000  0.666667  6.257199\n",
       "1        20000002.0     3     3.333333  0.750000  3.692899\n",
       "2        20000003.0     1     0.000000  0.500000  2.385799\n",
       "3        20000004.0    15     5.266667  0.937500  5.235725\n",
       "4        20000005.0     1     7.000000  0.500000  5.885799\n",
       "...             ...   ...          ...       ...       ...\n",
       "4625291  25074434.0    21     5.428571  0.954545  5.398709\n",
       "4625292  25074435.0     2     3.500000  0.666667  3.923866\n",
       "4625293  25074436.0     1     5.000000  0.500000  4.885799\n",
       "4625294  25074437.0    23     3.956522  0.958333  3.990483\n",
       "4625295  25074439.0     4     5.750000  0.800000  5.554320\n",
       "\n",
       "[4625296 rows x 5 columns]"
      ]
     },
     "execution_count": 28,
     "metadata": {},
     "output_type": "execute_result"
    }
   ],
   "source": [
    "item_id_score = target_encoding(\"item_id\", df_play[df_play.label>=0])\n",
    "item_id_score"
   ]
  },
  {
   "cell_type": "code",
   "execution_count": 29,
   "metadata": {
    "execution": {
     "iopub.execute_input": "2021-12-30T12:15:51.078060Z",
     "iopub.status.busy": "2021-12-30T12:15:51.077261Z",
     "iopub.status.idle": "2021-12-30T12:15:55.095562Z",
     "shell.execute_reply": "2021-12-30T12:15:55.095125Z",
     "shell.execute_reply.started": "2021-12-28T09:14:44.976472Z"
    },
    "papermill": {
     "duration": 4.080803,
     "end_time": "2021-12-30T12:15:55.095684",
     "exception": false,
     "start_time": "2021-12-30T12:15:51.014881",
     "status": "completed"
    },
    "tags": []
   },
   "outputs": [
    {
     "data": {
      "text/html": [
       "<div>\n",
       "<style scoped>\n",
       "    .dataframe tbody tr th:only-of-type {\n",
       "        vertical-align: middle;\n",
       "    }\n",
       "\n",
       "    .dataframe tbody tr th {\n",
       "        vertical-align: top;\n",
       "    }\n",
       "\n",
       "    .dataframe thead th {\n",
       "        text-align: right;\n",
       "    }\n",
       "</style>\n",
       "<table border=\"1\" class=\"dataframe\">\n",
       "  <thead>\n",
       "    <tr style=\"text-align: right;\">\n",
       "      <th></th>\n",
       "      <th>date</th>\n",
       "      <th>freq</th>\n",
       "      <th>in_category</th>\n",
       "      <th>weight</th>\n",
       "      <th>score</th>\n",
       "    </tr>\n",
       "  </thead>\n",
       "  <tbody>\n",
       "    <tr>\n",
       "      <th>0</th>\n",
       "      <td>100</td>\n",
       "      <td>304859</td>\n",
       "      <td>4.224986</td>\n",
       "      <td>0.999997</td>\n",
       "      <td>4.224988</td>\n",
       "    </tr>\n",
       "    <tr>\n",
       "      <th>1</th>\n",
       "      <td>101</td>\n",
       "      <td>303845</td>\n",
       "      <td>4.189511</td>\n",
       "      <td>0.999997</td>\n",
       "      <td>4.189513</td>\n",
       "    </tr>\n",
       "    <tr>\n",
       "      <th>2</th>\n",
       "      <td>102</td>\n",
       "      <td>317462</td>\n",
       "      <td>4.081225</td>\n",
       "      <td>0.999997</td>\n",
       "      <td>4.081228</td>\n",
       "    </tr>\n",
       "    <tr>\n",
       "      <th>3</th>\n",
       "      <td>103</td>\n",
       "      <td>311854</td>\n",
       "      <td>3.930692</td>\n",
       "      <td>0.999997</td>\n",
       "      <td>3.930695</td>\n",
       "    </tr>\n",
       "    <tr>\n",
       "      <th>4</th>\n",
       "      <td>104</td>\n",
       "      <td>283605</td>\n",
       "      <td>3.997609</td>\n",
       "      <td>0.999996</td>\n",
       "      <td>3.997612</td>\n",
       "    </tr>\n",
       "    <tr>\n",
       "      <th>...</th>\n",
       "      <td>...</td>\n",
       "      <td>...</td>\n",
       "      <td>...</td>\n",
       "      <td>...</td>\n",
       "      <td>...</td>\n",
       "    </tr>\n",
       "    <tr>\n",
       "      <th>111</th>\n",
       "      <td>211</td>\n",
       "      <td>234607</td>\n",
       "      <td>5.308772</td>\n",
       "      <td>0.999996</td>\n",
       "      <td>5.308769</td>\n",
       "    </tr>\n",
       "    <tr>\n",
       "      <th>112</th>\n",
       "      <td>212</td>\n",
       "      <td>231197</td>\n",
       "      <td>5.400170</td>\n",
       "      <td>0.999996</td>\n",
       "      <td>5.400167</td>\n",
       "    </tr>\n",
       "    <tr>\n",
       "      <th>113</th>\n",
       "      <td>213</td>\n",
       "      <td>214714</td>\n",
       "      <td>5.471944</td>\n",
       "      <td>0.999995</td>\n",
       "      <td>5.471941</td>\n",
       "    </tr>\n",
       "    <tr>\n",
       "      <th>114</th>\n",
       "      <td>214</td>\n",
       "      <td>190880</td>\n",
       "      <td>5.801734</td>\n",
       "      <td>0.999995</td>\n",
       "      <td>5.801729</td>\n",
       "    </tr>\n",
       "    <tr>\n",
       "      <th>115</th>\n",
       "      <td>215</td>\n",
       "      <td>164586</td>\n",
       "      <td>6.102554</td>\n",
       "      <td>0.999994</td>\n",
       "      <td>6.102546</td>\n",
       "    </tr>\n",
       "  </tbody>\n",
       "</table>\n",
       "<p>116 rows × 5 columns</p>\n",
       "</div>"
      ],
      "text/plain": [
       "     date    freq  in_category    weight     score\n",
       "0     100  304859     4.224986  0.999997  4.224988\n",
       "1     101  303845     4.189511  0.999997  4.189513\n",
       "2     102  317462     4.081225  0.999997  4.081228\n",
       "3     103  311854     3.930692  0.999997  3.930695\n",
       "4     104  283605     3.997609  0.999996  3.997612\n",
       "..    ...     ...          ...       ...       ...\n",
       "111   211  234607     5.308772  0.999996  5.308769\n",
       "112   212  231197     5.400170  0.999996  5.400167\n",
       "113   213  214714     5.471944  0.999995  5.471941\n",
       "114   214  190880     5.801734  0.999995  5.801729\n",
       "115   215  164586     6.102554  0.999994  6.102546\n",
       "\n",
       "[116 rows x 5 columns]"
      ]
     },
     "execution_count": 29,
     "metadata": {},
     "output_type": "execute_result"
    }
   ],
   "source": [
    "date_score = target_encoding(\"date\", df_play[df_play.label>=0])\n",
    "date_score"
   ]
  },
  {
   "cell_type": "code",
   "execution_count": 30,
   "metadata": {
    "execution": {
     "iopub.execute_input": "2021-12-30T12:15:55.226495Z",
     "iopub.status.busy": "2021-12-30T12:15:55.225699Z",
     "iopub.status.idle": "2021-12-30T12:15:55.232721Z",
     "shell.execute_reply": "2021-12-30T12:15:55.233203Z",
     "shell.execute_reply.started": "2021-12-28T09:14:49.026729Z"
    },
    "papermill": {
     "duration": 0.075222,
     "end_time": "2021-12-30T12:15:55.233378",
     "exception": false,
     "start_time": "2021-12-30T12:15:55.158156",
     "status": "completed"
    },
    "tags": []
   },
   "outputs": [],
   "source": [
    "import gc\n",
    "def reduce_mem(df):\n",
    "    start_mem = df.memory_usage().sum() / 1024 ** 2\n",
    "    for col in df.columns:\n",
    "        col_type = df[col].dtypes\n",
    "        if col_type != object:\n",
    "            c_min = df[col].min()\n",
    "            c_max = df[col].max()\n",
    "            if str(col_type)[:3] == 'int':\n",
    "                if c_min > np.iinfo(np.int8).min and c_max < np.iinfo(np.int8).max:\n",
    "                    df[col] = df[col].astype(np.int8)\n",
    "                elif c_min > np.iinfo(np.int16).min and c_max < np.iinfo(np.int16).max:\n",
    "                    df[col] = df[col].astype(np.int16)\n",
    "                elif c_min > np.iinfo(np.int32).min and c_max < np.iinfo(np.int32).max:\n",
    "                    df[col] = df[col].astype(np.int32)\n",
    "                elif c_min > np.iinfo(np.int64).min and c_max < np.iinfo(np.int64).max:\n",
    "                    df[col] = df[col].astype(np.int64)\n",
    "            else:\n",
    "                if c_min > np.finfo(np.float16).min and c_max < np.finfo(np.float16).max:\n",
    "                    df[col] = df[col].astype(np.float16)\n",
    "                elif c_min > np.finfo(np.float32).min and c_max < np.finfo(np.float32).max:\n",
    "                    df[col] = df[col].astype(np.float32)\n",
    "                else:\n",
    "                    df[col] = df[col].astype(np.float64)\n",
    "    end_mem = df.memory_usage().sum() / 1024 ** 2\n",
    "    print('{:.2f} Mb, {:.2f} Mb ({:.2f} %)'.format(start_mem, end_mem, 100 * (start_mem - end_mem) / start_mem))\n",
    "    gc.collect()\n",
    "    return df"
   ]
  },
  {
   "cell_type": "code",
   "execution_count": 31,
   "metadata": {
    "execution": {
     "iopub.execute_input": "2021-12-30T12:15:55.359899Z",
     "iopub.status.busy": "2021-12-30T12:15:55.359107Z",
     "iopub.status.idle": "2021-12-30T12:15:59.975721Z",
     "shell.execute_reply": "2021-12-30T12:15:59.975098Z",
     "shell.execute_reply.started": "2021-12-28T09:14:49.045091Z"
    },
    "papermill": {
     "duration": 4.682121,
     "end_time": "2021-12-30T12:15:59.975891",
     "exception": false,
     "start_time": "2021-12-30T12:15:55.293770",
     "status": "completed"
    },
    "tags": []
   },
   "outputs": [
    {
     "name": "stdout",
     "output_type": "stream",
     "text": [
      "6292.36 Mb, 3432.19 Mb (45.45 %)\n",
      "194.55 Mb, 113.49 Mb (41.67 %)\n",
      "1669.53 Mb, 644.08 Mb (61.42 %)\n",
      "40.99 Mb, 19.35 Mb (52.78 %)\n",
      "1.80 Mb, 0.49 Mb (72.91 %)\n"
     ]
    }
   ],
   "source": [
    "df_play = reduce_mem(df_play)\n",
    "df_video = reduce_mem(df_video)\n",
    "df = reduce_mem(df)\n",
    "df_port = reduce_mem(df_port)\n",
    "df_inter = reduce_mem(df_inter)"
   ]
  },
  {
   "cell_type": "code",
   "execution_count": 32,
   "metadata": {
    "execution": {
     "iopub.execute_input": "2021-12-30T12:16:00.101280Z",
     "iopub.status.busy": "2021-12-30T12:16:00.100485Z",
     "iopub.status.idle": "2021-12-30T12:16:00.102285Z",
     "shell.execute_reply": "2021-12-30T12:16:00.102730Z",
     "shell.execute_reply.started": "2021-12-28T09:14:54.003586Z"
    },
    "papermill": {
     "duration": 0.065434,
     "end_time": "2021-12-30T12:16:00.102864",
     "exception": false,
     "start_time": "2021-12-30T12:16:00.037430",
     "status": "completed"
    },
    "tags": []
   },
   "outputs": [],
   "source": [
    "# father_id_score = reduce_mem(father_id_score)"
   ]
  },
  {
   "cell_type": "code",
   "execution_count": 33,
   "metadata": {
    "execution": {
     "iopub.execute_input": "2021-12-30T12:16:00.228099Z",
     "iopub.status.busy": "2021-12-30T12:16:00.227273Z",
     "iopub.status.idle": "2021-12-30T12:16:07.705588Z",
     "shell.execute_reply": "2021-12-30T12:16:07.705061Z",
     "shell.execute_reply.started": "2021-12-28T09:14:54.01032Z"
    },
    "papermill": {
     "duration": 7.543047,
     "end_time": "2021-12-30T12:16:07.705739",
     "exception": false,
     "start_time": "2021-12-30T12:16:00.162692",
     "status": "completed"
    },
    "tags": []
   },
   "outputs": [],
   "source": [
    "df_play = df_play.merge(\n",
    "    father_id_score[['father_id','freq','score']].rename(columns ={\n",
    "        'freq':'father_id_freq','score':'father_id_score'\n",
    "    }),\n",
    "    on = 'father_id',\n",
    "    how='left'\n",
    ")"
   ]
  },
  {
   "cell_type": "code",
   "execution_count": 34,
   "metadata": {
    "execution": {
     "iopub.execute_input": "2021-12-30T12:16:07.834673Z",
     "iopub.status.busy": "2021-12-30T12:16:07.833403Z",
     "iopub.status.idle": "2021-12-30T12:16:24.472749Z",
     "shell.execute_reply": "2021-12-30T12:16:24.472210Z",
     "shell.execute_reply.started": "2021-12-28T09:15:01.647888Z"
    },
    "papermill": {
     "duration": 16.706598,
     "end_time": "2021-12-30T12:16:24.472888",
     "exception": false,
     "start_time": "2021-12-30T12:16:07.766290",
     "status": "completed"
    },
    "tags": []
   },
   "outputs": [],
   "source": [
    "df_play = df_play.merge(\n",
    "    item_id_score[['item_id','freq','score']].rename(columns = {\n",
    "        'freq':'item_id_freq','score':'item_id_score'\n",
    "    }),\n",
    "    on = 'item_id',\n",
    "    how='left'\n",
    ")"
   ]
  },
  {
   "cell_type": "code",
   "execution_count": 35,
   "metadata": {
    "execution": {
     "iopub.execute_input": "2021-12-30T12:16:24.597146Z",
     "iopub.status.busy": "2021-12-30T12:16:24.596272Z",
     "iopub.status.idle": "2021-12-30T12:16:25.860385Z",
     "shell.execute_reply": "2021-12-30T12:16:25.861072Z",
     "shell.execute_reply.started": "2021-12-28T09:15:19.259074Z"
    },
    "papermill": {
     "duration": 1.327569,
     "end_time": "2021-12-30T12:16:25.861274",
     "exception": false,
     "start_time": "2021-12-30T12:16:24.533705",
     "status": "completed"
    },
    "tags": []
   },
   "outputs": [],
   "source": [
    "df_play['duration_mean'] = df_play['duration'].map(\n",
    "{1.0: 3.7708806818181815,\n",
    " 2.0: 6.50662590535973,\n",
    " 3.0: 11.386861075884855,\n",
    " 4.0: 19.458476060964017,\n",
    " 5.0: 31.75858442584106,\n",
    " 6.0: 53.154826728126096,\n",
    " 7.0: 92.99056310706094,\n",
    " 8.0: 151.86914162681802,\n",
    " 9.0: 266.6738094823002,\n",
    " 10.0: 534.0026326330363,\n",
    " 11.0: 1297.075341192911,\n",
    " 12.0:  2048,\n",
    " 13.0: 3072,\n",
    " 14.0: 4096,\n",
    " 15.0: 5120,\n",
    " 16.0: 5120})\n",
    "df_play['playtime_ratio'] = df_play['playtime'] / df_play['duration_mean']\n",
    "df_play['isskip'] = (df_play['playtime_ratio'] < 0.05).astype('int8')\n",
    "df_play['isend'] = (df_play['playtime_ratio'] >0.9).astype('int8')"
   ]
  },
  {
   "cell_type": "code",
   "execution_count": 36,
   "metadata": {
    "execution": {
     "iopub.execute_input": "2021-12-30T12:16:26.036994Z",
     "iopub.status.busy": "2021-12-30T12:16:26.035864Z",
     "iopub.status.idle": "2021-12-30T12:17:20.999019Z",
     "shell.execute_reply": "2021-12-30T12:17:20.999620Z",
     "shell.execute_reply.started": "2021-12-28T09:15:20.307054Z"
    },
    "papermill": {
     "duration": 55.038809,
     "end_time": "2021-12-30T12:17:20.999828",
     "exception": false,
     "start_time": "2021-12-30T12:16:25.961019",
     "status": "completed"
    },
    "tags": []
   },
   "outputs": [
    {
     "name": "stdout",
     "output_type": "stream",
     "text": [
      "Wall time: 6min 17s\n"
     ]
    }
   ],
   "source": [
    "%%time\n",
    "df_play = df_play.groupby(['user_id','date']).agg(\n",
    "{\n",
    "    'item_id':['count','nunique'],\n",
    "    'playtime':['max','min','std','mean','median','sum'],\n",
    "    'duration':['count','max','min','median','nunique'],\n",
    "    'duration_mean':['max','min','std','mean','sum','median'],\n",
    "     'playtime_ratio':['max','min','std','mean','median'],\n",
    "    'father_id_count':['count','mean','max','min'],\n",
    "    'father_id_freq':['max','mean'],\n",
    "    'father_id_score':['max','min','mean','std'],\n",
    "    'item_id_freq':['max','mean'],\n",
    "    'item_id_score':['max','min','mean','std'],\n",
    "    'isskip':['sum','mean'],\n",
    "    'isend':['sum','mean'],\n",
    "}\n",
    ")\n",
    "df_play.reset_index(inplace=True)\n",
    "df_play.columns = [''.join(col ) for col in df_play.columns]\n",
    "df_play['playtime_ratio_day_mean'] = df_play['playtimesum'] / df_play['duration_meansum']"
   ]
  },
  {
   "cell_type": "code",
   "execution_count": 37,
   "metadata": {
    "execution": {
     "iopub.execute_input": "2021-12-30T12:17:21.128000Z",
     "iopub.status.busy": "2021-12-30T12:17:21.126778Z",
     "iopub.status.idle": "2021-12-30T12:17:21.148300Z",
     "shell.execute_reply": "2021-12-30T12:17:21.147914Z",
     "shell.execute_reply.started": "2021-12-28T09:16:22.179782Z"
    },
    "papermill": {
     "duration": 0.087159,
     "end_time": "2021-12-30T12:17:21.148433",
     "exception": false,
     "start_time": "2021-12-30T12:17:21.061274",
     "status": "completed"
    },
    "tags": []
   },
   "outputs": [
    {
     "data": {
      "text/html": [
       "<div>\n",
       "<style scoped>\n",
       "    .dataframe tbody tr th:only-of-type {\n",
       "        vertical-align: middle;\n",
       "    }\n",
       "\n",
       "    .dataframe tbody tr th {\n",
       "        vertical-align: top;\n",
       "    }\n",
       "\n",
       "    .dataframe thead th {\n",
       "        text-align: right;\n",
       "    }\n",
       "</style>\n",
       "<table border=\"1\" class=\"dataframe\">\n",
       "  <thead>\n",
       "    <tr style=\"text-align: right;\">\n",
       "      <th></th>\n",
       "      <th>user_id</th>\n",
       "      <th>date</th>\n",
       "      <th>item_idcount</th>\n",
       "      <th>item_idnunique</th>\n",
       "      <th>playtimemax</th>\n",
       "      <th>playtimemin</th>\n",
       "      <th>playtimestd</th>\n",
       "      <th>playtimemean</th>\n",
       "      <th>playtimemedian</th>\n",
       "      <th>playtimesum</th>\n",
       "      <th>...</th>\n",
       "      <th>item_id_freqmean</th>\n",
       "      <th>item_id_scoremax</th>\n",
       "      <th>item_id_scoremin</th>\n",
       "      <th>item_id_scoremean</th>\n",
       "      <th>item_id_scorestd</th>\n",
       "      <th>isskipsum</th>\n",
       "      <th>isskipmean</th>\n",
       "      <th>isendsum</th>\n",
       "      <th>isendmean</th>\n",
       "      <th>playtime_ratio_day_mean</th>\n",
       "    </tr>\n",
       "  </thead>\n",
       "  <tbody>\n",
       "    <tr>\n",
       "      <th>0</th>\n",
       "      <td>10000000</td>\n",
       "      <td>131</td>\n",
       "      <td>12</td>\n",
       "      <td>12</td>\n",
       "      <td>2408.826904</td>\n",
       "      <td>11.023000</td>\n",
       "      <td>907.797044</td>\n",
       "      <td>1853.103027</td>\n",
       "      <td>2401.932617</td>\n",
       "      <td>22237.236328</td>\n",
       "      <td>...</td>\n",
       "      <td>64.555556</td>\n",
       "      <td>5.885799</td>\n",
       "      <td>5.217716</td>\n",
       "      <td>5.420889</td>\n",
       "      <td>0.191498</td>\n",
       "      <td>1.0</td>\n",
       "      <td>0.083333</td>\n",
       "      <td>2.0</td>\n",
       "      <td>0.166667</td>\n",
       "      <td>5.714712</td>\n",
       "    </tr>\n",
       "    <tr>\n",
       "      <th>1</th>\n",
       "      <td>10000000</td>\n",
       "      <td>132</td>\n",
       "      <td>2</td>\n",
       "      <td>2</td>\n",
       "      <td>1241.108032</td>\n",
       "      <td>8.096000</td>\n",
       "      <td>871.871169</td>\n",
       "      <td>624.601990</td>\n",
       "      <td>624.601990</td>\n",
       "      <td>1249.203979</td>\n",
       "      <td>...</td>\n",
       "      <td>1.000000</td>\n",
       "      <td>5.385799</td>\n",
       "      <td>5.385799</td>\n",
       "      <td>5.385799</td>\n",
       "      <td>NaN</td>\n",
       "      <td>1.0</td>\n",
       "      <td>0.500000</td>\n",
       "      <td>1.0</td>\n",
       "      <td>0.500000</td>\n",
       "      <td>0.481546</td>\n",
       "    </tr>\n",
       "    <tr>\n",
       "      <th>2</th>\n",
       "      <td>10000000</td>\n",
       "      <td>164</td>\n",
       "      <td>1</td>\n",
       "      <td>1</td>\n",
       "      <td>557.606018</td>\n",
       "      <td>557.606018</td>\n",
       "      <td>NaN</td>\n",
       "      <td>557.606018</td>\n",
       "      <td>557.606018</td>\n",
       "      <td>557.606018</td>\n",
       "      <td>...</td>\n",
       "      <td>NaN</td>\n",
       "      <td>NaN</td>\n",
       "      <td>NaN</td>\n",
       "      <td>NaN</td>\n",
       "      <td>NaN</td>\n",
       "      <td>0.0</td>\n",
       "      <td>0.000000</td>\n",
       "      <td>0.0</td>\n",
       "      <td>0.000000</td>\n",
       "      <td>inf</td>\n",
       "    </tr>\n",
       "    <tr>\n",
       "      <th>3</th>\n",
       "      <td>10000000</td>\n",
       "      <td>195</td>\n",
       "      <td>2</td>\n",
       "      <td>2</td>\n",
       "      <td>2567.687988</td>\n",
       "      <td>19.482000</td>\n",
       "      <td>1801.853734</td>\n",
       "      <td>1293.584961</td>\n",
       "      <td>1293.584961</td>\n",
       "      <td>2587.169922</td>\n",
       "      <td>...</td>\n",
       "      <td>1.000000</td>\n",
       "      <td>5.885799</td>\n",
       "      <td>3.385799</td>\n",
       "      <td>4.635799</td>\n",
       "      <td>1.767767</td>\n",
       "      <td>1.0</td>\n",
       "      <td>0.500000</td>\n",
       "      <td>0.0</td>\n",
       "      <td>0.000000</td>\n",
       "      <td>1.994618</td>\n",
       "    </tr>\n",
       "    <tr>\n",
       "      <th>4</th>\n",
       "      <td>10000001</td>\n",
       "      <td>117</td>\n",
       "      <td>2</td>\n",
       "      <td>2</td>\n",
       "      <td>2519.238037</td>\n",
       "      <td>2512.110107</td>\n",
       "      <td>5.040207</td>\n",
       "      <td>2515.674072</td>\n",
       "      <td>2515.674072</td>\n",
       "      <td>5031.348145</td>\n",
       "      <td>...</td>\n",
       "      <td>7612.000000</td>\n",
       "      <td>3.904475</td>\n",
       "      <td>3.904475</td>\n",
       "      <td>3.904475</td>\n",
       "      <td>NaN</td>\n",
       "      <td>0.0</td>\n",
       "      <td>0.000000</td>\n",
       "      <td>0.0</td>\n",
       "      <td>0.000000</td>\n",
       "      <td>inf</td>\n",
       "    </tr>\n",
       "  </tbody>\n",
       "</table>\n",
       "<p>5 rows × 47 columns</p>\n",
       "</div>"
      ],
      "text/plain": [
       "    user_id  date  item_idcount  item_idnunique  playtimemax  playtimemin  \\\n",
       "0  10000000   131            12              12  2408.826904    11.023000   \n",
       "1  10000000   132             2               2  1241.108032     8.096000   \n",
       "2  10000000   164             1               1   557.606018   557.606018   \n",
       "3  10000000   195             2               2  2567.687988    19.482000   \n",
       "4  10000001   117             2               2  2519.238037  2512.110107   \n",
       "\n",
       "   playtimestd  playtimemean  playtimemedian   playtimesum  ...  \\\n",
       "0   907.797044   1853.103027     2401.932617  22237.236328  ...   \n",
       "1   871.871169    624.601990      624.601990   1249.203979  ...   \n",
       "2          NaN    557.606018      557.606018    557.606018  ...   \n",
       "3  1801.853734   1293.584961     1293.584961   2587.169922  ...   \n",
       "4     5.040207   2515.674072     2515.674072   5031.348145  ...   \n",
       "\n",
       "   item_id_freqmean  item_id_scoremax  item_id_scoremin  item_id_scoremean  \\\n",
       "0         64.555556          5.885799          5.217716           5.420889   \n",
       "1          1.000000          5.385799          5.385799           5.385799   \n",
       "2               NaN               NaN               NaN                NaN   \n",
       "3          1.000000          5.885799          3.385799           4.635799   \n",
       "4       7612.000000          3.904475          3.904475           3.904475   \n",
       "\n",
       "   item_id_scorestd  isskipsum  isskipmean  isendsum  isendmean  \\\n",
       "0          0.191498        1.0    0.083333       2.0   0.166667   \n",
       "1               NaN        1.0    0.500000       1.0   0.500000   \n",
       "2               NaN        0.0    0.000000       0.0   0.000000   \n",
       "3          1.767767        1.0    0.500000       0.0   0.000000   \n",
       "4               NaN        0.0    0.000000       0.0   0.000000   \n",
       "\n",
       "   playtime_ratio_day_mean  \n",
       "0                 5.714712  \n",
       "1                 0.481546  \n",
       "2                      inf  \n",
       "3                 1.994618  \n",
       "4                      inf  \n",
       "\n",
       "[5 rows x 47 columns]"
      ]
     },
     "execution_count": 37,
     "metadata": {},
     "output_type": "execute_result"
    }
   ],
   "source": [
    "df_play.head() "
   ]
  },
  {
   "cell_type": "code",
   "execution_count": 38,
   "metadata": {
    "execution": {
     "iopub.execute_input": "2021-12-30T12:17:21.281253Z",
     "iopub.status.busy": "2021-12-30T12:17:21.280617Z",
     "iopub.status.idle": "2021-12-30T12:17:21.439769Z",
     "shell.execute_reply": "2021-12-30T12:17:21.439152Z",
     "shell.execute_reply.started": "2021-12-28T09:16:22.208937Z"
    },
    "papermill": {
     "duration": 0.229897,
     "end_time": "2021-12-30T12:17:21.439899",
     "exception": false,
     "start_time": "2021-12-30T12:17:21.210002",
     "status": "completed"
    },
    "tags": []
   },
   "outputs": [],
   "source": [
    "def f(x):\n",
    "    if len(x)==0 or x == 'nan':\n",
    "        return np.nan\n",
    "    if ';' in x:\n",
    "        return np.mean([int(num) for num in x.split(';')])\n",
    "    return float(x)\n",
    "df_port['device_ram'] = df_port['device_ram'].astype('str').apply(f)\n",
    "df_port['device_rom'] = df_port['device_rom'].astype('str').apply(f)\n",
    "df_port.territory_code -= 860000\n",
    "df_port['territory_code_cut'] = df_port.territory_code // 1000"
   ]
  },
  {
   "cell_type": "code",
   "execution_count": 39,
   "metadata": {
    "execution": {
     "iopub.execute_input": "2021-12-30T12:17:21.567245Z",
     "iopub.status.busy": "2021-12-30T12:17:21.566496Z",
     "iopub.status.idle": "2021-12-30T12:17:21.913615Z",
     "shell.execute_reply": "2021-12-30T12:17:21.914039Z",
     "shell.execute_reply.started": "2021-12-28T09:16:22.380213Z"
    },
    "papermill": {
     "duration": 0.412574,
     "end_time": "2021-12-30T12:17:21.914201",
     "exception": false,
     "start_time": "2021-12-30T12:17:21.501627",
     "status": "completed"
    },
    "tags": []
   },
   "outputs": [],
   "source": [
    "df_port['label'] = df_port['user_id'].map(df[df.label>=0].groupby('user_id')['label'].mean())"
   ]
  },
  {
   "cell_type": "code",
   "execution_count": 40,
   "metadata": {
    "execution": {
     "iopub.execute_input": "2021-12-30T12:17:22.043156Z",
     "iopub.status.busy": "2021-12-30T12:17:22.041939Z",
     "iopub.status.idle": "2021-12-30T12:17:22.069743Z",
     "shell.execute_reply": "2021-12-30T12:17:22.070143Z",
     "shell.execute_reply.started": "2021-12-28T09:16:22.743692Z"
    },
    "papermill": {
     "duration": 0.094784,
     "end_time": "2021-12-30T12:17:22.070279",
     "exception": false,
     "start_time": "2021-12-30T12:17:21.975495",
     "status": "completed"
    },
    "tags": []
   },
   "outputs": [
    {
     "data": {
      "text/html": [
       "<div>\n",
       "<style scoped>\n",
       "    .dataframe tbody tr th:only-of-type {\n",
       "        vertical-align: middle;\n",
       "    }\n",
       "\n",
       "    .dataframe tbody tr th {\n",
       "        vertical-align: top;\n",
       "    }\n",
       "\n",
       "    .dataframe thead th {\n",
       "        text-align: right;\n",
       "    }\n",
       "</style>\n",
       "<table border=\"1\" class=\"dataframe\">\n",
       "  <thead>\n",
       "    <tr style=\"text-align: right;\">\n",
       "      <th></th>\n",
       "      <th>territory_code</th>\n",
       "      <th>freq</th>\n",
       "      <th>in_category</th>\n",
       "      <th>weight</th>\n",
       "      <th>score</th>\n",
       "    </tr>\n",
       "  </thead>\n",
       "  <tbody>\n",
       "    <tr>\n",
       "      <th>0</th>\n",
       "      <td>0.0</td>\n",
       "      <td>1</td>\n",
       "      <td>0.000000</td>\n",
       "      <td>0.500000</td>\n",
       "      <td>0.813919</td>\n",
       "    </tr>\n",
       "    <tr>\n",
       "      <th>1</th>\n",
       "      <td>1100.0</td>\n",
       "      <td>12128</td>\n",
       "      <td>2.008708</td>\n",
       "      <td>0.999918</td>\n",
       "      <td>2.008676</td>\n",
       "    </tr>\n",
       "    <tr>\n",
       "      <th>2</th>\n",
       "      <td>1200.0</td>\n",
       "      <td>6267</td>\n",
       "      <td>1.852582</td>\n",
       "      <td>0.999840</td>\n",
       "      <td>1.852546</td>\n",
       "    </tr>\n",
       "    <tr>\n",
       "      <th>3</th>\n",
       "      <td>1301.0</td>\n",
       "      <td>4429</td>\n",
       "      <td>1.810205</td>\n",
       "      <td>0.999774</td>\n",
       "      <td>1.810164</td>\n",
       "    </tr>\n",
       "    <tr>\n",
       "      <th>4</th>\n",
       "      <td>1302.0</td>\n",
       "      <td>2728</td>\n",
       "      <td>1.668786</td>\n",
       "      <td>0.999634</td>\n",
       "      <td>1.668771</td>\n",
       "    </tr>\n",
       "    <tr>\n",
       "      <th>...</th>\n",
       "      <td>...</td>\n",
       "      <td>...</td>\n",
       "      <td>...</td>\n",
       "      <td>...</td>\n",
       "      <td>...</td>\n",
       "    </tr>\n",
       "    <tr>\n",
       "      <th>368</th>\n",
       "      <td>7107.0</td>\n",
       "      <td>13</td>\n",
       "      <td>2.035763</td>\n",
       "      <td>0.928571</td>\n",
       "      <td>2.006626</td>\n",
       "    </tr>\n",
       "    <tr>\n",
       "      <th>369</th>\n",
       "      <td>7108.0</td>\n",
       "      <td>36</td>\n",
       "      <td>1.972796</td>\n",
       "      <td>0.972973</td>\n",
       "      <td>1.963473</td>\n",
       "    </tr>\n",
       "    <tr>\n",
       "      <th>370</th>\n",
       "      <td>7109.0</td>\n",
       "      <td>10</td>\n",
       "      <td>1.275501</td>\n",
       "      <td>0.909091</td>\n",
       "      <td>1.307532</td>\n",
       "    </tr>\n",
       "    <tr>\n",
       "      <th>371</th>\n",
       "      <td>8100.0</td>\n",
       "      <td>112</td>\n",
       "      <td>1.412291</td>\n",
       "      <td>0.991150</td>\n",
       "      <td>1.414199</td>\n",
       "    </tr>\n",
       "    <tr>\n",
       "      <th>372</th>\n",
       "      <td>8200.0</td>\n",
       "      <td>43</td>\n",
       "      <td>1.428239</td>\n",
       "      <td>0.977273</td>\n",
       "      <td>1.432775</td>\n",
       "    </tr>\n",
       "  </tbody>\n",
       "</table>\n",
       "<p>373 rows × 5 columns</p>\n",
       "</div>"
      ],
      "text/plain": [
       "     territory_code   freq  in_category    weight     score\n",
       "0               0.0      1     0.000000  0.500000  0.813919\n",
       "1            1100.0  12128     2.008708  0.999918  2.008676\n",
       "2            1200.0   6267     1.852582  0.999840  1.852546\n",
       "3            1301.0   4429     1.810205  0.999774  1.810164\n",
       "4            1302.0   2728     1.668786  0.999634  1.668771\n",
       "..              ...    ...          ...       ...       ...\n",
       "368          7107.0     13     2.035763  0.928571  2.006626\n",
       "369          7108.0     36     1.972796  0.972973  1.963473\n",
       "370          7109.0     10     1.275501  0.909091  1.307532\n",
       "371          8100.0    112     1.412291  0.991150  1.414199\n",
       "372          8200.0     43     1.428239  0.977273  1.432775\n",
       "\n",
       "[373 rows x 5 columns]"
      ]
     },
     "execution_count": 40,
     "metadata": {},
     "output_type": "execute_result"
    }
   ],
   "source": [
    "territory_score = target_encoding(\"territory_code\", df_port[df_port.label>=0])\n",
    "del df_port['label']\n",
    "territory_score "
   ]
  },
  {
   "cell_type": "code",
   "execution_count": 41,
   "metadata": {
    "execution": {
     "iopub.execute_input": "2021-12-30T12:17:22.203570Z",
     "iopub.status.busy": "2021-12-30T12:17:22.203028Z",
     "iopub.status.idle": "2021-12-30T12:17:22.232819Z",
     "shell.execute_reply": "2021-12-30T12:17:22.233222Z",
     "shell.execute_reply.started": "2021-12-28T09:16:22.783954Z"
    },
    "papermill": {
     "duration": 0.100868,
     "end_time": "2021-12-30T12:17:22.233399",
     "exception": false,
     "start_time": "2021-12-30T12:17:22.132531",
     "status": "completed"
    },
    "tags": []
   },
   "outputs": [],
   "source": [
    "df_port = df_port.merge(\n",
    "    territory_score[['territory_code','freq','score']].rename(columns = {\n",
    "        'freq':'territory_code_freq','score':'territory_code_score'\n",
    "    }),\n",
    "    on = 'territory_code',\n",
    "    how='left'\n",
    ")"
   ]
  },
  {
   "cell_type": "code",
   "execution_count": 42,
   "metadata": {
    "execution": {
     "iopub.execute_input": "2021-12-30T12:17:22.371783Z",
     "iopub.status.busy": "2021-12-30T12:17:22.370099Z",
     "iopub.status.idle": "2021-12-30T12:17:29.075036Z",
     "shell.execute_reply": "2021-12-30T12:17:29.075720Z",
     "shell.execute_reply.started": "2021-12-28T09:16:22.821238Z"
    },
    "papermill": {
     "duration": 6.777864,
     "end_time": "2021-12-30T12:17:29.075941",
     "exception": false,
     "start_time": "2021-12-30T12:17:22.298077",
     "status": "completed"
    },
    "tags": []
   },
   "outputs": [
    {
     "name": "stdout",
     "output_type": "stream",
     "text": [
      "Wall time: 26.2 s\n"
     ]
    }
   ],
   "source": [
    "%%time\n",
    "df = df.merge(df_play,on=['user_id','date'],how='left')\n",
    "df = df.merge(df_inter,on=['user_id','date'],how='left')\n",
    "df = df.merge(df_port,on=['user_id'],how='left')\n",
    "df = df.merge(\n",
    "    date_score[['date','freq','score']].rename(columns ={\n",
    "        'freq':'date_freq','score':'date_score'\n",
    "    }),\n",
    "    on = 'date',\n",
    "    how='left'\n",
    ")\n",
    "# df = df.merge(df_inter_pivot,on=['user_id','date'],how='left')\n",
    "# df = df.merge(df_play_pivot,on=['user_id','date'],how='left')"
   ]
  },
  {
   "cell_type": "code",
   "execution_count": 43,
   "metadata": {
    "execution": {
     "iopub.execute_input": "2021-12-30T12:17:29.218548Z",
     "iopub.status.busy": "2021-12-30T12:17:29.217842Z",
     "iopub.status.idle": "2021-12-30T12:17:29.220464Z",
     "shell.execute_reply": "2021-12-30T12:17:29.220866Z",
     "shell.execute_reply.started": "2021-12-28T09:16:29.957698Z"
    },
    "papermill": {
     "duration": 0.074292,
     "end_time": "2021-12-30T12:17:29.220993",
     "exception": false,
     "start_time": "2021-12-30T12:17:29.146701",
     "status": "completed"
    },
    "tags": []
   },
   "outputs": [
    {
     "data": {
      "text/plain": [
       "Index(['user_id', 'date', 'inter_count', 'inter_item_nunique',\n",
       "       'inter_type_nunique', 'inter_ratio'],\n",
       "      dtype='object')"
      ]
     },
     "execution_count": 43,
     "metadata": {},
     "output_type": "execute_result"
    }
   ],
   "source": [
    "df_inter.columns"
   ]
  },
  {
   "cell_type": "code",
   "execution_count": 44,
   "metadata": {
    "execution": {
     "iopub.execute_input": "2021-12-30T12:17:29.348818Z",
     "iopub.status.busy": "2021-12-30T12:17:29.348096Z",
     "iopub.status.idle": "2021-12-30T12:17:29.350057Z",
     "shell.execute_reply": "2021-12-30T12:17:29.350498Z",
     "shell.execute_reply.started": "2021-12-28T09:16:29.966224Z"
    },
    "papermill": {
     "duration": 0.06715,
     "end_time": "2021-12-30T12:17:29.350620",
     "exception": false,
     "start_time": "2021-12-30T12:17:29.283470",
     "status": "completed"
    },
    "tags": []
   },
   "outputs": [],
   "source": [
    "# for col in df_inter_pivot.columns[2:]:\n",
    "#     df[col] = df[col].fillna(0).astype('int8')\n",
    "# for col in df_play_pivot.columns[2:]:\n",
    "#     df[col] = df[col].fillna(0).astype('int8')"
   ]
  },
  {
   "cell_type": "code",
   "execution_count": 45,
   "metadata": {
    "execution": {
     "iopub.execute_input": "2021-12-30T12:17:29.505973Z",
     "iopub.status.busy": "2021-12-30T12:17:29.505201Z",
     "iopub.status.idle": "2021-12-30T12:17:29.605211Z",
     "shell.execute_reply": "2021-12-30T12:17:29.604273Z",
     "shell.execute_reply.started": "2021-12-28T09:16:29.975436Z"
    },
    "papermill": {
     "duration": 0.192787,
     "end_time": "2021-12-30T12:17:29.605398",
     "exception": false,
     "start_time": "2021-12-30T12:17:29.412611",
     "status": "completed"
    },
    "tags": []
   },
   "outputs": [],
   "source": [
    "from tqdm.notebook import tqdm"
   ]
  },
  {
   "cell_type": "code",
   "execution_count": 46,
   "metadata": {
    "execution": {
     "iopub.execute_input": "2021-12-30T12:17:29.823114Z",
     "iopub.status.busy": "2021-12-30T12:17:29.822309Z",
     "iopub.status.idle": "2021-12-30T12:18:19.387392Z",
     "shell.execute_reply": "2021-12-30T12:18:19.386950Z",
     "shell.execute_reply.started": "2021-12-28T09:16:30.038879Z"
    },
    "papermill": {
     "duration": 49.674012,
     "end_time": "2021-12-30T12:18:19.387516",
     "exception": false,
     "start_time": "2021-12-30T12:17:29.713504",
     "status": "completed"
    },
    "tags": []
   },
   "outputs": [
    {
     "data": {
      "application/vnd.jupyter.widget-view+json": {
       "model_id": "3c41930772534dacb379106915d30b98",
       "version_major": 2,
       "version_minor": 0
      },
      "text/plain": [
       "HBox(children=(HTML(value=''), FloatProgress(value=0.0, max=7.0), HTML(value='')))"
      ]
     },
     "metadata": {},
     "output_type": "display_data"
    },
    {
     "name": "stdout",
     "output_type": "stream",
     "text": [
      "\n"
     ]
    }
   ],
   "source": [
    "@numba.jit(nopython=True,fastmath=True)\n",
    "def last_n_days_sum(arr,n_days):\n",
    "    res = np.zeros(len(arr),dtype=np.float32)\n",
    "    res -= 1\n",
    "    \n",
    "    for i in range(0,len(arr)):\n",
    "        tmp_sum = 0\n",
    "        for j in range(1,n_days+1):\n",
    "            if i - j >= 0 and arr[i-j][0] == arr[i][0] and arr[i][1] - arr[i-j][1] <= n_days:\n",
    "                tmp_sum += arr[i-j][2]\n",
    "            else:\n",
    "                break\n",
    "        res[i] = tmp_sum\n",
    "    return res\n",
    "\n",
    "\n",
    "for n_days in tqdm(range(1,8)):\n",
    "    for col in ['islogin','playtimesum','inter_count','launch_count','type1_count','type0_count',\n",
    "                'playtime_ratio_day_mean','item_idnunique']:\n",
    "        df[f'last_{n_days}days_{col}_sum'] = last_n_days_sum(df[['user_id','date',col]].fillna(0).values,n_days)\n",
    "        df[f'last_{n_days}days_{col}_sum'] = np.where(df['day_minus_min_date'] < n_days,\n",
    "                                                  np.nan,\n",
    "                                                 df[f'last_{n_days}days_{col}_sum']) \n",
    "        df[f'last_{n_days}days_{col}_sum'] = np.where(df[f'last_{n_days}days_{col}_sum']< 0,\n",
    "                                                  np.nan,\n",
    "                                                 df[f'last_{n_days}days_{col}_sum'])\n",
    "        if n_days == 1:\n",
    "            df[f'last_{n_days}days_{col}_sum'] = df[f'last_{n_days}days_{col}_sum'].fillna(0)\n",
    "        else:\n",
    "            df[f'last_{n_days}days_{col}_sum'] = np.where(df[f'last_{n_days}days_{col}_sum'].isnull(),\n",
    "                                                         df[f'last_{n_days-1}days_{col}_sum'] *(n/(n-1)),\n",
    "                                                          df[f'last_{n_days}days_{col}_sum']\n",
    "                                                         )"
   ]
  },
  {
   "cell_type": "code",
   "execution_count": null,
   "metadata": {
    "papermill": {
     "duration": 0.06209,
     "end_time": "2021-12-30T12:18:19.512850",
     "exception": false,
     "start_time": "2021-12-30T12:18:19.450760",
     "status": "completed"
    },
    "tags": []
   },
   "outputs": [],
   "source": []
  },
  {
   "cell_type": "code",
   "execution_count": 47,
   "metadata": {
    "execution": {
     "iopub.execute_input": "2021-12-30T12:18:19.643170Z",
     "iopub.status.busy": "2021-12-30T12:18:19.642388Z",
     "iopub.status.idle": "2021-12-30T12:18:19.645292Z",
     "shell.execute_reply": "2021-12-30T12:18:19.645749Z",
     "shell.execute_reply.started": "2021-12-28T09:17:18.360046Z"
    },
    "papermill": {
     "duration": 0.07052,
     "end_time": "2021-12-30T12:18:19.645881",
     "exception": false,
     "start_time": "2021-12-30T12:18:19.575361",
     "status": "completed"
    },
    "tags": []
   },
   "outputs": [
    {
     "data": {
      "text/plain": [
       "Index(['user_id', 'date', 'launch_count', 'type1_count', 'type0_count',\n",
       "       'islogin', 'label', 'future_1_login_mean', 'future_2_login_mean',\n",
       "       'future_3_login_mean',\n",
       "       ...\n",
       "       'last_6days_playtime_ratio_day_mean_sum',\n",
       "       'last_6days_item_idnunique_sum', 'last_7days_islogin_sum',\n",
       "       'last_7days_playtimesum_sum', 'last_7days_inter_count_sum',\n",
       "       'last_7days_launch_count_sum', 'last_7days_type1_count_sum',\n",
       "       'last_7days_type0_count_sum', 'last_7days_playtime_ratio_day_mean_sum',\n",
       "       'last_7days_item_idnunique_sum'],\n",
       "      dtype='object', length=154)"
      ]
     },
     "execution_count": 47,
     "metadata": {},
     "output_type": "execute_result"
    }
   ],
   "source": [
    "df.columns"
   ]
  },
  {
   "cell_type": "code",
   "execution_count": 48,
   "metadata": {
    "execution": {
     "iopub.execute_input": "2021-12-30T12:18:19.782812Z",
     "iopub.status.busy": "2021-12-30T12:18:19.775146Z",
     "iopub.status.idle": "2021-12-30T12:18:48.373733Z",
     "shell.execute_reply": "2021-12-30T12:18:48.374448Z",
     "shell.execute_reply.started": "2021-12-28T09:17:18.368271Z"
    },
    "papermill": {
     "duration": 28.665654,
     "end_time": "2021-12-30T12:18:48.374673",
     "exception": false,
     "start_time": "2021-12-30T12:18:19.709019",
     "status": "completed"
    },
    "tags": []
   },
   "outputs": [
    {
     "name": "stdout",
     "output_type": "stream",
     "text": [
      "7593.41 Mb, 3440.76 Mb (54.69 %)\n"
     ]
    }
   ],
   "source": [
    "df = reduce_mem(df)"
   ]
  },
  {
   "cell_type": "code",
   "execution_count": 49,
   "metadata": {
    "execution": {
     "iopub.execute_input": "2021-12-30T12:18:48.532503Z",
     "iopub.status.busy": "2021-12-30T12:18:48.531687Z",
     "iopub.status.idle": "2021-12-30T12:19:07.980869Z",
     "shell.execute_reply": "2021-12-30T12:19:07.980370Z",
     "shell.execute_reply.started": "2021-12-28T09:17:46.869933Z"
    },
    "papermill": {
     "duration": 19.542205,
     "end_time": "2021-12-30T12:19:07.981007",
     "exception": false,
     "start_time": "2021-12-30T12:18:48.438802",
     "status": "completed"
    },
    "tags": []
   },
   "outputs": [
    {
     "data": {
      "application/vnd.jupyter.widget-view+json": {
       "model_id": "aad04a629e2f4ae09142a426f53761f0",
       "version_major": 2,
       "version_minor": 0
      },
      "text/plain": [
       "HBox(children=(HTML(value=''), FloatProgress(value=0.0, max=8.0), HTML(value='')))"
      ]
     },
     "metadata": {},
     "output_type": "display_data"
    },
    {
     "name": "stdout",
     "output_type": "stream",
     "text": [
      "\n"
     ]
    }
   ],
   "source": [
    "@numba.jit(nopython=True)\n",
    "def ndays_myshift(arr,ndays):\n",
    "    res = np.zeros(len(arr),dtype=np.float32)\n",
    "    #res -= 1\n",
    "  #  login_day = np.zeros(300,dtype=np.int8)\n",
    "    tmp_id = -1\n",
    "    for i in range(len(arr)):\n",
    "        if arr[i][0] != tmp_id:\n",
    "            login_day = np.zeros(300,dtype=np.float32)\n",
    "            tmp_id = arr[i][0]\n",
    "            login_day[int(arr[i][1])] = arr[i][2]\n",
    "        else:\n",
    "            login_day[int(arr[i][1])] = arr[i][2]\n",
    "            res[i] = login_day[int(arr[i][1])-ndays]\n",
    "                \n",
    "    return res\n",
    "for col in tqdm(['playtimesum','item_idcount','inter_count','islogin','launch_count',\n",
    "                 'type1_count','type0_count','playtime_ratio_day_mean']):\n",
    "    for ndays in range(1,8):\n",
    "        df[f'shift_{col}_{ndays}'] = ndays_myshift(df[['user_id','date',col]].fillna(0).values,ndays)\n",
    "        df[f'shift_{col}_{ndays}'] = df[f'shift_{col}_{ndays}'].fillna(0)\n",
    "        df[f'shift_{col}_{ndays}'] = np.where(df['day_minus_min_date'] < ndays,\n",
    "                                                  np.nan,df[f'shift_{col}_{ndays}'])\n",
    "        df[f'shift_{col}_{ndays}'] = np.where(df[f'shift_{col}_{ndays}']<0,\n",
    "                                             np.nan,df[f'shift_{col}_{ndays}'])\n",
    "        \n",
    "\n",
    "for i in range(3,8):\n",
    "    df[f'launch_mode{i}'] = 0\n",
    "    for j in range(1,i+1):\n",
    "        df[f'launch_mode{i}'] += df[f'shift_islogin_{j}'] * 2 ** (j-1) \n",
    "    \n",
    "# df['weight_launch'] = 0\n",
    "# df['weight_playtimesum'] = 0\n",
    "# df['weight_item_idcount'] = 0\n",
    "# alpha = 0.7\n",
    "# for i in range(1,8):\n",
    "#     df['weight_launch'] += df[f'shift_islogin_{i}'] * alpha ** i \n",
    "#     df['weight_playtimesum'] += df[f'shift_playtimesum_{i}'] * alpha ** i \n",
    "#     df['weight_item_idcount'] += df[f'shift_item_idcount_{i}'] * alpha ** i "
   ]
  },
  {
   "cell_type": "code",
   "execution_count": 50,
   "metadata": {
    "execution": {
     "iopub.execute_input": "2021-12-30T12:19:08.113733Z",
     "iopub.status.busy": "2021-12-30T12:19:08.112988Z",
     "iopub.status.idle": "2021-12-30T12:19:08.127524Z",
     "shell.execute_reply": "2021-12-30T12:19:08.126980Z",
     "shell.execute_reply.started": "2021-12-28T09:18:06.978132Z"
    },
    "papermill": {
     "duration": 0.08244,
     "end_time": "2021-12-30T12:19:08.127659",
     "exception": false,
     "start_time": "2021-12-30T12:19:08.045219",
     "status": "completed"
    },
    "tags": []
   },
   "outputs": [],
   "source": [
    "df['weekday'] = df['date'] % 7"
   ]
  },
  {
   "cell_type": "code",
   "execution_count": 51,
   "metadata": {
    "execution": {
     "iopub.execute_input": "2021-12-30T12:19:08.261210Z",
     "iopub.status.busy": "2021-12-30T12:19:08.260247Z",
     "iopub.status.idle": "2021-12-30T12:19:12.392434Z",
     "shell.execute_reply": "2021-12-30T12:19:12.391610Z",
     "shell.execute_reply.started": "2021-12-28T09:18:06.996771Z"
    },
    "papermill": {
     "duration": 4.20167,
     "end_time": "2021-12-30T12:19:12.392572",
     "exception": false,
     "start_time": "2021-12-30T12:19:08.190902",
     "status": "completed"
    },
    "tags": []
   },
   "outputs": [],
   "source": [
    "df['c1'] = df['sex'].astype('str') + '_' + df['age'].astype('str')"
   ]
  },
  {
   "cell_type": "code",
   "execution_count": 52,
   "metadata": {
    "execution": {
     "iopub.execute_input": "2021-12-30T12:19:12.525527Z",
     "iopub.status.busy": "2021-12-30T12:19:12.524759Z",
     "iopub.status.idle": "2021-12-30T12:19:14.440357Z",
     "shell.execute_reply": "2021-12-30T12:19:14.439832Z",
     "shell.execute_reply.started": "2021-12-28T09:18:10.755697Z"
    },
    "papermill": {
     "duration": 1.983939,
     "end_time": "2021-12-30T12:19:14.440507",
     "exception": false,
     "start_time": "2021-12-30T12:19:12.456568",
     "status": "completed"
    },
    "tags": []
   },
   "outputs": [],
   "source": [
    "cat_cols =  ['education', 'occupation_status','device_type','sex','weekday',\n",
    "             'territory_code','territory_code_cut','c1'] + [f'launch_mode{i}' for i in range(3,8)]\n",
    "for col in cat_cols:\n",
    "    df[col] = pd.factorize(df[col].fillna(-1))[0]"
   ]
  },
  {
   "cell_type": "code",
   "execution_count": 53,
   "metadata": {
    "execution": {
     "iopub.execute_input": "2021-12-30T12:19:14.627759Z",
     "iopub.status.busy": "2021-12-30T12:19:14.627044Z",
     "iopub.status.idle": "2021-12-30T12:19:14.631701Z",
     "shell.execute_reply": "2021-12-30T12:19:14.631243Z",
     "shell.execute_reply.started": "2021-12-28T09:18:12.866006Z"
    },
    "papermill": {
     "duration": 0.126851,
     "end_time": "2021-12-30T12:19:14.631817",
     "exception": false,
     "start_time": "2021-12-30T12:19:14.504966",
     "status": "completed"
    },
    "tags": []
   },
   "outputs": [],
   "source": [
    "del df_video\n",
    "del df_app\n",
    "del df_port\n",
    "del df_inter\n",
    "del df_inter_pivot\n",
    "del df_play_pivot"
   ]
  },
  {
   "cell_type": "markdown",
   "metadata": {
    "papermill": {
     "duration": 0.063593,
     "end_time": "2021-12-30T12:19:14.758833",
     "exception": false,
     "start_time": "2021-12-30T12:19:14.695240",
     "status": "completed"
    },
    "tags": []
   },
   "source": []
  },
  {
   "cell_type": "code",
   "execution_count": 54,
   "metadata": {
    "execution": {
     "iopub.execute_input": "2021-12-30T12:19:14.899385Z",
     "iopub.status.busy": "2021-12-30T12:19:14.898430Z",
     "iopub.status.idle": "2021-12-30T12:19:27.716697Z",
     "shell.execute_reply": "2021-12-30T12:19:27.717806Z",
     "shell.execute_reply.started": "2021-12-28T09:18:12.935006Z"
    },
    "papermill": {
     "duration": 12.895766,
     "end_time": "2021-12-30T12:19:27.718131",
     "exception": false,
     "start_time": "2021-12-30T12:19:14.822365",
     "status": "completed"
    },
    "tags": []
   },
   "outputs": [
    {
     "name": "stdout",
     "output_type": "stream",
     "text": [
      "6118.79 Mb, 4889.95 Mb (20.08 %)\n"
     ]
    }
   ],
   "source": [
    "\n",
    "df = reduce_mem(df)"
   ]
  },
  {
   "cell_type": "code",
   "execution_count": null,
   "metadata": {
    "papermill": {
     "duration": 0.100491,
     "end_time": "2021-12-30T12:19:27.924229",
     "exception": false,
     "start_time": "2021-12-30T12:19:27.823738",
     "status": "completed"
    },
    "tags": []
   },
   "outputs": [],
   "source": []
  },
  {
   "cell_type": "code",
   "execution_count": 55,
   "metadata": {
    "execution": {
     "iopub.execute_input": "2021-12-30T12:19:28.063240Z",
     "iopub.status.busy": "2021-12-30T12:19:28.062662Z",
     "iopub.status.idle": "2021-12-30T12:19:30.658500Z",
     "shell.execute_reply": "2021-12-30T12:19:30.658037Z",
     "shell.execute_reply.started": "2021-12-28T09:18:25.835316Z"
    },
    "papermill": {
     "duration": 2.667647,
     "end_time": "2021-12-30T12:19:30.658633",
     "exception": false,
     "start_time": "2021-12-30T12:19:27.990986",
     "status": "completed"
    },
    "tags": []
   },
   "outputs": [
    {
     "data": {
      "text/html": [
       "<style type='text/css'>\n",
       ".datatable table.frame { margin-bottom: 0; }\n",
       ".datatable table.frame thead { border-bottom: none; }\n",
       ".datatable table.frame tr.coltypes td {  color: #FFFFFF;  line-height: 6px;  padding: 0 0.5em;}\n",
       ".datatable .bool    { background: #DDDD99; }\n",
       ".datatable .object  { background: #565656; }\n",
       ".datatable .int     { background: #5D9E5D; }\n",
       ".datatable .float   { background: #4040CC; }\n",
       ".datatable .str     { background: #CC4040; }\n",
       ".datatable .time    { background: #40CC40; }\n",
       ".datatable .row_index {  background: var(--jp-border-color3);  border-right: 1px solid var(--jp-border-color0);  color: var(--jp-ui-font-color3);  font-size: 9px;}\n",
       ".datatable .frame tbody td { text-align: left; }\n",
       ".datatable .frame tr.coltypes .row_index {  background: var(--jp-border-color0);}\n",
       ".datatable th:nth-child(2) { padding-left: 12px; }\n",
       ".datatable .hellipsis {  color: var(--jp-cell-editor-border-color);}\n",
       ".datatable .vellipsis {  background: var(--jp-layout-color0);  color: var(--jp-cell-editor-border-color);}\n",
       ".datatable .na {  color: var(--jp-cell-editor-border-color);  font-size: 80%;}\n",
       ".datatable .sp {  opacity: 0.25;}\n",
       ".datatable .footer { font-size: 9px; }\n",
       ".datatable .frame_dimensions {  background: var(--jp-border-color3);  border-top: 1px solid var(--jp-border-color0);  color: var(--jp-ui-font-color3);  display: inline-block;  opacity: 0.6;  padding: 1px 10px 1px 5px;}\n",
       "</style>\n"
      ],
      "text/plain": [
       "<IPython.core.display.HTML object>"
      ]
     },
     "metadata": {},
     "output_type": "display_data"
    },
    {
     "data": {
      "text/plain": [
       "214"
      ]
     },
     "execution_count": 55,
     "metadata": {},
     "output_type": "execute_result"
    }
   ],
   "source": [
    "from lightgbm import LGBMRegressor\n",
    "from lightgbm import LGBMClassifier\n",
    "from sklearn.model_selection import train_test_split, KFold\n",
    "from sklearn import metrics\n",
    "from sklearn import preprocessing\n",
    "def myscore(y_label,y_pred):\n",
    "    score = np.mean(np.abs(y_label-y_pred))\n",
    "    return score\n",
    "drop_cols = ['user_id','label','shift_1_label','tmp','date']\n",
    "x_cols = [col for col in df.columns if col not in drop_cols \n",
    "      #    and 'label' not in col\n",
    "         ]\n",
    "len(x_cols)"
   ]
  },
  {
   "cell_type": "code",
   "execution_count": 56,
   "metadata": {
    "execution": {
     "iopub.execute_input": "2021-12-30T12:19:30.792128Z",
     "iopub.status.busy": "2021-12-30T12:19:30.791277Z",
     "iopub.status.idle": "2021-12-30T12:19:30.793340Z",
     "shell.execute_reply": "2021-12-30T12:19:30.793711Z",
     "shell.execute_reply.started": "2021-12-28T09:18:28.498135Z"
    },
    "papermill": {
     "duration": 0.070639,
     "end_time": "2021-12-30T12:19:30.793843",
     "exception": false,
     "start_time": "2021-12-30T12:19:30.723204",
     "status": "completed"
    },
    "tags": []
   },
   "outputs": [],
   "source": [
    "# for col in x_cols:\n",
    "#     if col not in cat_cols:\n",
    "#         df[col] = (df[col] - df[col].mean()) / df[col].std()\n",
    "# df = df.fillna(0).replace([float('inf'),-float('inf')],0)\n",
    "# df.to_feather('df.feather')"
   ]
  },
  {
   "cell_type": "code",
   "execution_count": 57,
   "metadata": {
    "execution": {
     "iopub.execute_input": "2021-12-30T12:19:30.929808Z",
     "iopub.status.busy": "2021-12-30T12:19:30.928871Z",
     "iopub.status.idle": "2021-12-30T12:19:43.866497Z",
     "shell.execute_reply": "2021-12-30T12:19:43.866037Z",
     "shell.execute_reply.started": "2021-12-28T09:18:28.504384Z"
    },
    "papermill": {
     "duration": 13.008629,
     "end_time": "2021-12-30T12:19:43.866627",
     "exception": false,
     "start_time": "2021-12-30T12:19:30.857998",
     "status": "completed"
    },
    "tags": []
   },
   "outputs": [
    {
     "data": {
      "text/plain": [
       "0"
      ]
     },
     "execution_count": 57,
     "metadata": {},
     "output_type": "execute_result"
    }
   ],
   "source": [
    "import gc\n",
    "df_train = train_date.merge(df[x_cols+['user_id','date','label']],on=['user_id','date'],how='left')\n",
    "df.to_feather('df.feather')\n",
    "#del df\n",
    "gc.collect()"
   ]
  },
  {
   "cell_type": "code",
   "execution_count": 58,
   "metadata": {
    "execution": {
     "iopub.execute_input": "2021-12-30T12:19:44.001525Z",
     "iopub.status.busy": "2021-12-30T12:19:44.000806Z",
     "iopub.status.idle": "2021-12-30T12:19:44.203261Z",
     "shell.execute_reply": "2021-12-30T12:19:44.203996Z",
     "shell.execute_reply.started": "2021-12-28T09:18:43.005135Z"
    },
    "papermill": {
     "duration": 0.272252,
     "end_time": "2021-12-30T12:19:44.204237",
     "exception": false,
     "start_time": "2021-12-30T12:19:43.931985",
     "status": "completed"
    },
    "tags": []
   },
   "outputs": [],
   "source": [
    "df_tmp = df[df.label==-1]"
   ]
  },
  {
   "cell_type": "code",
   "execution_count": 59,
   "metadata": {
    "execution": {
     "iopub.execute_input": "2021-12-30T12:19:44.356083Z",
     "iopub.status.busy": "2021-12-30T12:19:44.355277Z",
     "iopub.status.idle": "2021-12-30T12:19:44.357222Z",
     "shell.execute_reply": "2021-12-30T12:19:44.357603Z",
     "shell.execute_reply.started": "2021-12-28T12:57:47.508891Z"
    },
    "papermill": {
     "duration": 0.070577,
     "end_time": "2021-12-30T12:19:44.357737",
     "exception": false,
     "start_time": "2021-12-30T12:19:44.287160",
     "status": "completed"
    },
    "tags": []
   },
   "outputs": [],
   "source": [
    "import warnings\n",
    "warnings.filterwarnings('ignore')"
   ]
  },
  {
   "cell_type": "code",
   "execution_count": 60,
   "metadata": {
    "execution": {
     "iopub.execute_input": "2021-12-30T12:19:44.496396Z",
     "iopub.status.busy": "2021-12-30T12:19:44.495558Z",
     "iopub.status.idle": "2021-12-30T12:19:49.352264Z",
     "shell.execute_reply": "2021-12-30T12:19:49.352970Z",
     "shell.execute_reply.started": "2021-12-28T09:18:43.207647Z"
    },
    "papermill": {
     "duration": 4.930446,
     "end_time": "2021-12-30T12:19:49.353239",
     "exception": false,
     "start_time": "2021-12-30T12:19:44.422793",
     "status": "completed"
    },
    "tags": []
   },
   "outputs": [],
   "source": [
    "ss_data = []\n",
    "for col in x_cols.copy():\n",
    "    if col not in cat_cols:\n",
    "        df_train[col] = df_train[col].fillna(0)\n",
    "        tmp_mean = df_train[col].mean()\n",
    "        tmp_std = df_train[col].std()\n",
    "        df_train[col] = (df_train[col] - tmp_mean) / tmp_std\n",
    "        df_tmp[col] = (df_tmp[col] - tmp_mean) / tmp_std\n",
    "        if np.isnan(tmp_mean) or np.isnan(tmp_std):\n",
    "            x_cols.remove(col)\n",
    "df_train = df_train.fillna(0).replace([float('inf'),-float('inf')],0)\n",
    "df_tmp = df_tmp.fillna(0).replace([float('inf'),-float('inf')],0)"
   ]
  },
  {
   "cell_type": "code",
   "execution_count": 61,
   "metadata": {
    "execution": {
     "iopub.execute_input": "2021-12-30T12:19:49.897238Z",
     "iopub.status.busy": "2021-12-30T12:19:49.896427Z",
     "iopub.status.idle": "2021-12-30T12:19:49.899025Z",
     "shell.execute_reply": "2021-12-30T12:19:49.899593Z",
     "shell.execute_reply.started": "2021-12-28T09:18:48.615353Z"
    },
    "papermill": {
     "duration": 0.223637,
     "end_time": "2021-12-30T12:19:49.899790",
     "exception": false,
     "start_time": "2021-12-30T12:19:49.676153",
     "status": "completed"
    },
    "tags": []
   },
   "outputs": [],
   "source": [
    "df_train.index = np.arange(len(df_train))"
   ]
  },
  {
   "cell_type": "code",
   "execution_count": 62,
   "metadata": {
    "execution": {
     "iopub.execute_input": "2021-12-30T12:19:58.984446Z",
     "iopub.status.busy": "2021-12-30T12:19:58.983672Z",
     "iopub.status.idle": "2021-12-30T12:20:00.118465Z",
     "shell.execute_reply": "2021-12-30T12:20:00.117920Z",
     "shell.execute_reply.started": "2021-12-28T09:18:57.052124Z"
    },
    "papermill": {
     "duration": 1.206407,
     "end_time": "2021-12-30T12:20:00.118599",
     "exception": false,
     "start_time": "2021-12-30T12:19:58.912192",
     "status": "completed"
    },
    "tags": []
   },
   "outputs": [],
   "source": [
    "from pytorch_tabnet.tab_model import TabNetClassifier, TabNetRegressor"
   ]
  },
  {
   "cell_type": "code",
   "execution_count": 63,
   "metadata": {
    "execution": {
     "iopub.execute_input": "2021-12-30T12:20:00.259083Z",
     "iopub.status.busy": "2021-12-30T12:20:00.258228Z",
     "iopub.status.idle": "2021-12-30T12:20:00.260356Z",
     "shell.execute_reply": "2021-12-30T12:20:00.259834Z"
    },
    "papermill": {
     "duration": 0.073103,
     "end_time": "2021-12-30T12:20:00.260469",
     "exception": false,
     "start_time": "2021-12-30T12:20:00.187366",
     "status": "completed"
    },
    "tags": []
   },
   "outputs": [],
   "source": [
    "import torch\n",
    "import random"
   ]
  },
  {
   "cell_type": "code",
   "execution_count": 64,
   "metadata": {
    "execution": {
     "iopub.execute_input": "2021-12-30T12:20:00.467839Z",
     "iopub.status.busy": "2021-12-30T12:20:00.466950Z",
     "iopub.status.idle": "2021-12-30T12:20:00.473057Z",
     "shell.execute_reply": "2021-12-30T12:20:00.471914Z"
    },
    "papermill": {
     "duration": 0.134665,
     "end_time": "2021-12-30T12:20:00.473350",
     "exception": false,
     "start_time": "2021-12-30T12:20:00.338685",
     "status": "completed"
    },
    "tags": []
   },
   "outputs": [],
   "source": [
    "def seed_torch(seed=0):\n",
    "    seed = int(seed)\n",
    "    random.seed(seed)\n",
    "    os.environ['PYTHONHASHSEED'] = str(seed)\n",
    "    np.random.seed(seed)\n",
    "    torch.manual_seed(seed)\n",
    "    torch.cuda.manual_seed(seed)\n",
    "    torch.cuda.manual_seed_all(seed)\n",
    "    torch.backends.cudnn.deterministic =True\n",
    "seed_torch(0)"
   ]
  },
  {
   "cell_type": "markdown",
   "metadata": {
    "papermill": {
     "duration": 0.109607,
     "end_time": "2021-12-30T12:20:00.699860",
     "exception": false,
     "start_time": "2021-12-30T12:20:00.590253",
     "status": "completed"
    },
    "tags": []
   },
   "source": [
    "开始模型训练"
   ]
  },
  {
   "cell_type": "code",
   "execution_count": 65,
   "metadata": {
    "execution": {
     "iopub.execute_input": "2021-12-30T12:20:00.926678Z",
     "iopub.status.busy": "2021-12-30T12:20:00.925692Z",
     "iopub.status.idle": "2021-12-30T12:20:00.939199Z",
     "shell.execute_reply": "2021-12-30T12:20:00.939845Z",
     "shell.execute_reply.started": "2021-12-28T09:18:58.137306Z"
    },
    "papermill": {
     "duration": 0.127613,
     "end_time": "2021-12-30T12:20:00.939995",
     "exception": false,
     "start_time": "2021-12-30T12:20:00.812382",
     "status": "completed"
    },
    "tags": []
   },
   "outputs": [],
   "source": [
    "cat_idxs = [x_cols.index(col) for col in cat_cols]\n",
    "cat_dims = [df_train[col].nunique() for col in cat_cols]"
   ]
  },
  {
   "cell_type": "code",
   "execution_count": 66,
   "metadata": {
    "execution": {
     "iopub.execute_input": "2021-12-30T12:20:01.116221Z",
     "iopub.status.busy": "2021-12-30T12:20:01.115285Z",
     "iopub.status.idle": "2021-12-30T12:52:00.082163Z",
     "shell.execute_reply": "2021-12-30T12:52:00.081637Z",
     "shell.execute_reply.started": "2021-12-28T09:18:58.157223Z"
    },
    "papermill": {
     "duration": 1919.068073,
     "end_time": "2021-12-30T12:52:00.082347",
     "exception": false,
     "start_time": "2021-12-30T12:20:01.014274",
     "status": "completed"
    },
    "tags": []
   },
   "outputs": [
    {
     "name": "stdout",
     "output_type": "stream",
     "text": [
      "------------------------------\n",
      "Device used : cuda\n",
      "epoch 0  | loss: 2.79561 | val_0_mae: 1.0758800506591797| val_1_mae: 1.0815999507904053|  0:00:20s\n",
      "epoch 1  | loss: 1.93658 | val_0_mae: 1.01528000831604| val_1_mae: 1.0210100412368774|  0:00:37s\n",
      "epoch 2  | loss: 1.84939 | val_0_mae: 1.0032800436019897| val_1_mae: 1.0096900463104248|  0:00:54s\n",
      "epoch 3  | loss: 1.82765 | val_0_mae: 0.9989200234413147| val_1_mae: 1.0047999620437622|  0:01:11s\n",
      "epoch 4  | loss: 1.81381 | val_0_mae: 0.9974899888038635| val_1_mae: 1.003600001335144|  0:01:27s\n",
      "epoch 5  | loss: 1.80565 | val_0_mae: 1.0017499923706055| val_1_mae: 1.0073599815368652|  0:01:44s\n",
      "epoch 6  | loss: 1.7945  | val_0_mae: 0.9866099953651428| val_1_mae: 0.9935299754142761|  0:02:01s\n",
      "epoch 7  | loss: 1.78576 | val_0_mae: 0.983709990978241| val_1_mae: 0.9897000193595886|  0:02:17s\n",
      "epoch 8  | loss: 1.77355 | val_0_mae: 0.9911999702453613| val_1_mae: 0.9979900121688843|  0:02:34s\n",
      "epoch 9  | loss: 1.76681 | val_0_mae: 0.9827799797058105| val_1_mae: 0.9894199967384338|  0:02:50s\n",
      "epoch 10 | loss: 1.78016 | val_0_mae: 0.9897400140762329| val_1_mae: 0.9962400197982788|  0:03:07s\n",
      "epoch 11 | loss: 1.76567 | val_0_mae: 0.9803699851036072| val_1_mae: 0.9869199991226196|  0:03:24s\n",
      "epoch 12 | loss: 1.75844 | val_0_mae: 0.9806299805641174| val_1_mae: 0.9866499900817871|  0:03:40s\n",
      "epoch 13 | loss: 1.75621 | val_0_mae: 0.9875900149345398| val_1_mae: 0.9937499761581421|  0:03:57s\n",
      "epoch 14 | loss: 1.75587 | val_0_mae: 0.9952700138092041| val_1_mae: 1.0024199485778809|  0:04:13s\n",
      "epoch 15 | loss: 1.75066 | val_0_mae: 0.9860299825668335| val_1_mae: 0.9916300177574158|  0:04:30s\n",
      "epoch 16 | loss: 1.75633 | val_0_mae: 0.9853000044822693| val_1_mae: 0.9919000267982483|  0:04:46s\n",
      "epoch 17 | loss: 1.75957 | val_0_mae: 0.9763799905776978| val_1_mae: 0.98294997215271|  0:05:03s\n",
      "epoch 18 | loss: 1.74935 | val_0_mae: 0.9800900220870972| val_1_mae: 0.9872599840164185|  0:05:20s\n",
      "epoch 19 | loss: 1.7467  | val_0_mae: 0.9829800128936768| val_1_mae: 0.9900500178337097|  0:05:37s\n",
      "epoch 20 | loss: 1.74218 | val_0_mae: 0.9738900065422058| val_1_mae: 0.9814599752426147|  0:05:53s\n",
      "epoch 21 | loss: 1.74048 | val_0_mae: 0.9797199964523315| val_1_mae: 0.9868000149726868|  0:06:10s\n",
      "epoch 22 | loss: 1.73755 | val_0_mae: 0.977180004119873| val_1_mae: 0.9851599931716919|  0:06:26s\n",
      "epoch 23 | loss: 1.73673 | val_0_mae: 0.9752500057220459| val_1_mae: 0.9825699925422668|  0:06:43s\n",
      "epoch 24 | loss: 1.73891 | val_0_mae: 0.9780700206756592| val_1_mae: 0.9859499931335449|  0:07:00s\n",
      "epoch 25 | loss: 1.74037 | val_0_mae: 0.9759299755096436| val_1_mae: 0.9847400188446045|  0:07:16s\n",
      "epoch 26 | loss: 1.73714 | val_0_mae: 0.973800003528595| val_1_mae: 0.9815300107002258|  0:07:33s\n",
      "epoch 27 | loss: 1.73422 | val_0_mae: 0.9744799733161926| val_1_mae: 0.982450008392334|  0:07:50s\n",
      "epoch 28 | loss: 1.73106 | val_0_mae: 0.9924499988555908| val_1_mae: 1.0013400316238403|  0:08:06s\n",
      "epoch 29 | loss: 1.72917 | val_0_mae: 0.9719300270080566| val_1_mae: 0.9809399843215942|  0:08:23s\n",
      "epoch 30 | loss: 1.73034 | val_0_mae: 0.9875400066375732| val_1_mae: 0.9965999722480774|  0:08:40s\n",
      "epoch 31 | loss: 1.73286 | val_0_mae: 0.9714199900627136| val_1_mae: 0.9800500273704529|  0:08:56s\n",
      "epoch 32 | loss: 1.73201 | val_0_mae: 0.9980199933052063| val_1_mae: 1.006469964981079|  0:09:13s\n",
      "epoch 33 | loss: 1.72791 | val_0_mae: 0.9880800247192383| val_1_mae: 0.9971399903297424|  0:09:30s\n",
      "epoch 34 | loss: 1.72557 | val_0_mae: 0.9727200269699097| val_1_mae: 0.9822400212287903|  0:09:46s\n",
      "epoch 35 | loss: 1.72248 | val_0_mae: 0.9754999876022339| val_1_mae: 0.9852200150489807|  0:10:03s\n",
      "epoch 36 | loss: 1.7199  | val_0_mae: 0.973580002784729| val_1_mae: 0.9833599925041199|  0:10:19s\n",
      "epoch 37 | loss: 1.71887 | val_0_mae: 0.9652799963951111| val_1_mae: 0.9753400087356567|  0:10:36s\n",
      "epoch 38 | loss: 1.72023 | val_0_mae: 0.9900199770927429| val_1_mae: 1.0004899501800537|  0:10:53s\n",
      "epoch 39 | loss: 1.71734 | val_0_mae: 0.9683899879455566| val_1_mae: 0.9788299798965454|  0:11:09s\n",
      "epoch 40 | loss: 1.71786 | val_0_mae: 0.9650999903678894| val_1_mae: 0.9764999747276306|  0:11:26s\n",
      "epoch 41 | loss: 1.71516 | val_0_mae: 0.9751499891281128| val_1_mae: 0.9864699840545654|  0:11:43s\n",
      "epoch 42 | loss: 1.71289 | val_0_mae: 0.9724799990653992| val_1_mae: 0.9846600294113159|  0:11:59s\n",
      "epoch 43 | loss: 1.71312 | val_0_mae: 0.9811599850654602| val_1_mae: 0.9932199716567993|  0:12:16s\n",
      "epoch 44 | loss: 1.71359 | val_0_mae: 0.9689900279045105| val_1_mae: 0.981249988079071|  0:12:32s\n",
      "epoch 45 | loss: 1.71676 | val_0_mae: 0.9868199825286865| val_1_mae: 0.9990599751472473|  0:12:49s\n",
      "epoch 46 | loss: 1.71415 | val_0_mae: 0.9629700183868408| val_1_mae: 0.9750400185585022|  0:13:05s\n",
      "epoch 47 | loss: 1.71173 | val_0_mae: 0.9668999910354614| val_1_mae: 0.9792500138282776|  0:13:22s\n",
      "epoch 48 | loss: 1.71006 | val_0_mae: 0.9559800028800964| val_1_mae: 0.9691500067710876|  0:13:39s\n",
      "epoch 49 | loss: 1.7074  | val_0_mae: 0.9601699709892273| val_1_mae: 0.9736999869346619|  0:13:55s\n",
      "epoch 50 | loss: 1.70991 | val_0_mae: 0.9672600030899048| val_1_mae: 0.9805600047111511|  0:14:12s\n",
      "epoch 51 | loss: 1.70508 | val_0_mae: 0.9609799981117249| val_1_mae: 0.9740700125694275|  0:14:28s\n",
      "epoch 52 | loss: 1.70435 | val_0_mae: 0.965179979801178| val_1_mae: 0.9801700115203857|  0:14:45s\n",
      "epoch 53 | loss: 1.70405 | val_0_mae: 0.9678000211715698| val_1_mae: 0.9821599721908569|  0:15:01s\n",
      "epoch 54 | loss: 1.70526 | val_0_mae: 0.9861400127410889| val_1_mae: 1.0008399486541748|  0:15:18s\n",
      "epoch 55 | loss: 1.70156 | val_0_mae: 0.9667500257492065| val_1_mae: 0.9821199774742126|  0:15:34s\n",
      "epoch 56 | loss: 1.70136 | val_0_mae: 0.9652400016784668| val_1_mae: 0.9811499714851379|  0:15:51s\n",
      "epoch 57 | loss: 1.70227 | val_0_mae: 0.9658700227737427| val_1_mae: 0.9804700016975403|  0:16:08s\n",
      "epoch 58 | loss: 1.70123 | val_0_mae: 0.9830700159072876| val_1_mae: 0.998740017414093|  0:16:25s\n",
      "epoch 59 | loss: 1.70117 | val_0_mae: 0.9604499936103821| val_1_mae: 0.9758999943733215|  0:16:41s\n",
      "epoch 60 | loss: 1.70198 | val_0_mae: 0.9583100080490112| val_1_mae: 0.9748200178146362|  0:16:58s\n",
      "epoch 61 | loss: 1.69984 | val_0_mae: 0.9639999866485596| val_1_mae: 0.9800800085067749|  0:17:15s\n",
      "epoch 62 | loss: 1.70222 | val_0_mae: 0.9760299921035767| val_1_mae: 0.9913600087165833|  0:17:31s\n",
      "epoch 63 | loss: 1.69917 | val_0_mae: 0.9783300161361694| val_1_mae: 0.9945099949836731|  0:17:48s\n",
      "epoch 64 | loss: 1.69781 | val_0_mae: 0.9610400199890137| val_1_mae: 0.9785100221633911|  0:18:05s\n",
      "epoch 65 | loss: 1.69606 | val_0_mae: 0.9785100221633911| val_1_mae: 0.995959997177124|  0:18:21s\n",
      "epoch 66 | loss: 1.6941  | val_0_mae: 0.9589700102806091| val_1_mae: 0.9771400094032288|  0:18:38s\n",
      "epoch 67 | loss: 1.69323 | val_0_mae: 0.9686099886894226| val_1_mae: 0.9857199788093567|  0:18:55s\n",
      "epoch 68 | loss: 1.69397 | val_0_mae: 0.9656500220298767| val_1_mae: 0.984250009059906|  0:19:11s\n",
      "epoch 69 | loss: 1.69167 | val_0_mae: 0.9715099930763245| val_1_mae: 0.9898200035095215|  0:19:28s\n",
      "epoch 70 | loss: 1.691   | val_0_mae: 0.9730299711227417| val_1_mae: 0.9929500222206116|  0:19:46s\n",
      "epoch 71 | loss: 1.68961 | val_0_mae: 0.9696699976921082| val_1_mae: 0.9897900223731995|  0:20:03s\n",
      "epoch 72 | loss: 1.69279 | val_0_mae: 0.9754300117492676| val_1_mae: 0.9944999814033508|  0:20:20s\n",
      "epoch 73 | loss: 1.69276 | val_0_mae: 0.9511500000953674| val_1_mae: 0.9696999788284302|  0:20:36s\n",
      "epoch 74 | loss: 1.6862  | val_0_mae: 0.9556000232696533| val_1_mae: 0.9768499732017517|  0:20:53s\n",
      "epoch 75 | loss: 1.68344 | val_0_mae: 0.9560700058937073| val_1_mae: 0.9776300191879272|  0:21:09s\n",
      "epoch 76 | loss: 1.68451 | val_0_mae: 0.956849992275238| val_1_mae: 0.9784500002861023|  0:21:26s\n",
      "epoch 77 | loss: 1.68849 | val_0_mae: 0.9735199809074402| val_1_mae: 0.9945399761199951|  0:21:43s\n",
      "epoch 78 | loss: 1.68951 | val_0_mae: 0.9724599719047546| val_1_mae: 0.9950100183486938|  0:21:59s\n",
      "\n",
      "Early stopping occurred at epoch 78 with best_epoch = 48 and best_val_1_mae = 0.9691500067710876\n",
      "Best weights from best epoch are automatically used!\n",
      "------------------------------\n",
      "Device used : cuda\n",
      "epoch 0  | loss: 2.88549 | val_0_mae: 1.0621999502182007| val_1_mae: 1.0588799715042114|  0:00:16s\n",
      "epoch 1  | loss: 1.96311 | val_0_mae: 1.0170799493789673| val_1_mae: 1.0132399797439575|  0:00:33s\n"
     ]
    },
    {
     "name": "stdout",
     "output_type": "stream",
     "text": [
      "epoch 2  | loss: 1.88655 | val_0_mae: 1.014930009841919| val_1_mae: 1.0110399723052979|  0:00:49s\n",
      "epoch 3  | loss: 1.83568 | val_0_mae: 1.0073200464248657| val_1_mae: 1.0026600360870361|  0:01:06s\n",
      "epoch 4  | loss: 1.81318 | val_0_mae: 1.0110700130462646| val_1_mae: 1.006309986114502|  0:01:22s\n",
      "epoch 5  | loss: 1.80065 | val_0_mae: 0.9941099882125854| val_1_mae: 0.9896199703216553|  0:01:38s\n",
      "epoch 6  | loss: 1.79001 | val_0_mae: 0.9884099960327148| val_1_mae: 0.9836699962615967|  0:01:55s\n",
      "epoch 7  | loss: 1.79274 | val_0_mae: 0.9773899912834167| val_1_mae: 0.9726499915122986|  0:02:11s\n",
      "epoch 8  | loss: 1.79482 | val_0_mae: 0.9925100207328796| val_1_mae: 0.9874100089073181|  0:02:28s\n",
      "epoch 9  | loss: 1.79221 | val_0_mae: 0.9758300185203552| val_1_mae: 0.9701399803161621|  0:02:44s\n",
      "epoch 10 | loss: 1.78446 | val_0_mae: 0.984220027923584| val_1_mae: 0.9793000221252441|  0:03:01s\n",
      "epoch 11 | loss: 1.77528 | val_0_mae: 0.9867900013923645| val_1_mae: 0.9818000197410583|  0:03:17s\n",
      "epoch 12 | loss: 1.7714  | val_0_mae: 0.9862300157546997| val_1_mae: 0.9815000295639038|  0:03:34s\n",
      "epoch 13 | loss: 1.76856 | val_0_mae: 0.9848099946975708| val_1_mae: 0.9803400039672852|  0:03:50s\n",
      "epoch 14 | loss: 1.76473 | val_0_mae: 0.9882599711418152| val_1_mae: 0.9849799871444702|  0:04:07s\n",
      "epoch 15 | loss: 1.76432 | val_0_mae: 0.9856600165367126| val_1_mae: 0.9819499850273132|  0:04:23s\n",
      "epoch 16 | loss: 1.76308 | val_0_mae: 0.9779700040817261| val_1_mae: 0.9734200239181519|  0:04:39s\n",
      "epoch 17 | loss: 1.77339 | val_0_mae: 0.9895600080490112| val_1_mae: 0.9850999712944031|  0:04:56s\n",
      "epoch 18 | loss: 1.76013 | val_0_mae: 0.9871699810028076| val_1_mae: 0.9832500219345093|  0:05:13s\n",
      "epoch 19 | loss: 1.75885 | val_0_mae: 0.981939971446991| val_1_mae: 0.9776399731636047|  0:05:30s\n",
      "epoch 20 | loss: 1.76077 | val_0_mae: 0.9792199730873108| val_1_mae: 0.9747899770736694|  0:05:46s\n",
      "epoch 21 | loss: 1.75858 | val_0_mae: 0.9847400188446045| val_1_mae: 0.9805499911308289|  0:06:02s\n",
      "epoch 22 | loss: 1.75307 | val_0_mae: 0.9836599826812744| val_1_mae: 0.9800999760627747|  0:06:19s\n",
      "epoch 23 | loss: 1.75147 | val_0_mae: 0.9933000206947327| val_1_mae: 0.9898599982261658|  0:06:35s\n",
      "epoch 24 | loss: 1.74942 | val_0_mae: 0.9830399751663208| val_1_mae: 0.9797199964523315|  0:06:52s\n",
      "epoch 25 | loss: 1.75673 | val_0_mae: 1.0008200407028198| val_1_mae: 0.9960899949073792|  0:07:08s\n",
      "epoch 26 | loss: 1.77891 | val_0_mae: 0.984969973564148| val_1_mae: 0.9796000123023987|  0:07:24s\n",
      "epoch 27 | loss: 1.76473 | val_0_mae: 0.9861800074577332| val_1_mae: 0.9809200167655945|  0:07:41s\n",
      "epoch 28 | loss: 1.77511 | val_0_mae: 0.9853000044822693| val_1_mae: 0.9806200265884399|  0:07:57s\n",
      "epoch 29 | loss: 1.76309 | val_0_mae: 0.988860011100769| val_1_mae: 0.9841300249099731|  0:08:13s\n",
      "epoch 30 | loss: 1.76247 | val_0_mae: 0.9787999987602234| val_1_mae: 0.9744899868965149|  0:08:30s\n",
      "epoch 31 | loss: 1.76739 | val_0_mae: 0.9810100197792053| val_1_mae: 0.9760000109672546|  0:08:46s\n",
      "epoch 32 | loss: 1.76824 | val_0_mae: 0.9753199815750122| val_1_mae: 0.9708700180053711|  0:09:02s\n",
      "epoch 33 | loss: 1.76126 | val_0_mae: 1.0023399591445923| val_1_mae: 0.9983299970626831|  0:09:19s\n",
      "epoch 34 | loss: 1.7796  | val_0_mae: 0.9954500198364258| val_1_mae: 0.990369975566864|  0:09:36s\n",
      "epoch 35 | loss: 1.76888 | val_0_mae: 0.9920099973678589| val_1_mae: 0.988569974899292|  0:09:52s\n",
      "epoch 36 | loss: 1.75712 | val_0_mae: 0.9841799736022949| val_1_mae: 0.9803799986839294|  0:10:09s\n",
      "epoch 37 | loss: 1.75027 | val_0_mae: 0.9887599945068359| val_1_mae: 0.9851800203323364|  0:10:25s\n",
      "epoch 38 | loss: 1.74709 | val_0_mae: 0.9912899732589722| val_1_mae: 0.9880300164222717|  0:10:41s\n",
      "epoch 39 | loss: 1.7443  | val_0_mae: 0.9895200133323669| val_1_mae: 0.9865800142288208|  0:10:58s\n",
      "\n",
      "Early stopping occurred at epoch 39 with best_epoch = 9 and best_val_1_mae = 0.9701399803161621\n",
      "Best weights from best epoch are automatically used!\n",
      "------------------------------\n",
      "Device used : cuda\n",
      "epoch 0  | loss: 2.77295 | val_0_mae: 1.0406299829483032| val_1_mae: 1.0437599420547485|  0:00:16s\n",
      "epoch 1  | loss: 1.91955 | val_0_mae: 1.024459958076477| val_1_mae: 1.0277999639511108|  0:00:33s\n",
      "epoch 2  | loss: 1.89759 | val_0_mae: 1.0102800130844116| val_1_mae: 1.0125999450683594|  0:00:49s\n",
      "epoch 3  | loss: 1.83837 | val_0_mae: 0.9971500039100647| val_1_mae: 1.0008800029754639|  0:01:06s\n",
      "epoch 4  | loss: 1.80593 | val_0_mae: 0.9964799880981445| val_1_mae: 1.000059962272644|  0:01:23s\n",
      "epoch 5  | loss: 1.79781 | val_0_mae: 0.9818800091743469| val_1_mae: 0.9855599999427795|  0:01:39s\n",
      "epoch 6  | loss: 1.78376 | val_0_mae: 0.9803900122642517| val_1_mae: 0.9841799736022949|  0:01:56s\n",
      "epoch 7  | loss: 1.76963 | val_0_mae: 0.9860699772834778| val_1_mae: 0.9899600148200989|  0:02:12s\n",
      "epoch 8  | loss: 1.76728 | val_0_mae: 0.9789800047874451| val_1_mae: 0.983210027217865|  0:02:29s\n",
      "epoch 9  | loss: 1.75962 | val_0_mae: 0.9799699783325195| val_1_mae: 0.9844499826431274|  0:02:46s\n",
      "epoch 10 | loss: 1.75922 | val_0_mae: 0.980459988117218| val_1_mae: 0.9848499894142151|  0:03:02s\n",
      "epoch 11 | loss: 1.75487 | val_0_mae: 0.9714099764823914| val_1_mae: 0.9757400155067444|  0:03:18s\n",
      "epoch 12 | loss: 1.75235 | val_0_mae: 0.9825900197029114| val_1_mae: 0.987030029296875|  0:03:35s\n",
      "epoch 13 | loss: 1.74909 | val_0_mae: 0.9854400157928467| val_1_mae: 0.9903200268745422|  0:03:51s\n",
      "epoch 14 | loss: 1.748   | val_0_mae: 0.9858899712562561| val_1_mae: 0.9908900260925293|  0:04:08s\n",
      "epoch 15 | loss: 1.74425 | val_0_mae: 0.9849900007247925| val_1_mae: 0.989300012588501|  0:04:25s\n",
      "epoch 16 | loss: 1.74316 | val_0_mae: 0.9800300002098083| val_1_mae: 0.9853900074958801|  0:04:41s\n",
      "epoch 17 | loss: 1.74171 | val_0_mae: 0.9739699959754944| val_1_mae: 0.9807699918746948|  0:04:58s\n",
      "epoch 18 | loss: 1.74282 | val_0_mae: 0.9722700119018555| val_1_mae: 0.9775599837303162|  0:05:14s\n",
      "epoch 19 | loss: 1.74265 | val_0_mae: 0.9872099757194519| val_1_mae: 0.9925500154495239|  0:05:30s\n",
      "epoch 20 | loss: 1.74362 | val_0_mae: 0.9646199941635132| val_1_mae: 0.9708399772644043|  0:05:47s\n",
      "epoch 21 | loss: 1.73575 | val_0_mae: 0.9810600280761719| val_1_mae: 0.9869199991226196|  0:06:04s\n",
      "epoch 22 | loss: 1.73585 | val_0_mae: 0.989359974861145| val_1_mae: 0.995169997215271|  0:06:20s\n",
      "epoch 23 | loss: 1.73134 | val_0_mae: 0.9712700247764587| val_1_mae: 0.9774900078773499|  0:06:36s\n",
      "epoch 24 | loss: 1.73113 | val_0_mae: 0.977429986000061| val_1_mae: 0.983739972114563|  0:06:52s\n",
      "epoch 25 | loss: 1.72828 | val_0_mae: 0.9781500101089478| val_1_mae: 0.9850599765777588|  0:07:09s\n",
      "epoch 26 | loss: 1.73085 | val_0_mae: 0.9762799739837646| val_1_mae: 0.9825299978256226|  0:07:25s\n",
      "epoch 27 | loss: 1.72883 | val_0_mae: 0.9672899842262268| val_1_mae: 0.9744099974632263|  0:07:42s\n",
      "epoch 28 | loss: 1.72738 | val_0_mae: 0.981249988079071| val_1_mae: 0.987559974193573|  0:07:58s\n",
      "epoch 29 | loss: 1.72643 | val_0_mae: 0.9735699892044067| val_1_mae: 0.9815400242805481|  0:08:15s\n",
      "epoch 30 | loss: 1.72941 | val_0_mae: 0.979960024356842| val_1_mae: 0.987309992313385|  0:08:31s\n",
      "epoch 31 | loss: 1.72271 | val_0_mae: 0.9619600176811218| val_1_mae: 0.9695199728012085|  0:08:47s\n",
      "epoch 32 | loss: 1.72145 | val_0_mae: 0.9707900285720825| val_1_mae: 0.9789699912071228|  0:09:04s\n",
      "epoch 33 | loss: 1.72253 | val_0_mae: 0.984790027141571| val_1_mae: 0.9926499724388123|  0:09:21s\n",
      "epoch 34 | loss: 1.72574 | val_0_mae: 0.9592199921607971| val_1_mae: 0.9674100279808044|  0:09:37s\n",
      "epoch 35 | loss: 1.72172 | val_0_mae: 0.9746000170707703| val_1_mae: 0.983299970626831|  0:09:54s\n",
      "epoch 36 | loss: 1.72392 | val_0_mae: 0.9800800085067749| val_1_mae: 0.9889699816703796|  0:10:10s\n",
      "epoch 37 | loss: 1.72065 | val_0_mae: 0.9767900109291077| val_1_mae: 0.9857699871063232|  0:10:27s\n",
      "epoch 38 | loss: 1.71635 | val_0_mae: 0.9671499729156494| val_1_mae: 0.9762899875640869|  0:10:43s\n",
      "epoch 39 | loss: 1.71448 | val_0_mae: 0.965719997882843| val_1_mae: 0.9761000275611877|  0:10:59s\n",
      "epoch 40 | loss: 1.71384 | val_0_mae: 0.976639986038208| val_1_mae: 0.9865400195121765|  0:11:16s\n",
      "epoch 41 | loss: 1.71582 | val_0_mae: 0.9837300181388855| val_1_mae: 0.992330014705658|  0:11:33s\n",
      "epoch 42 | loss: 1.71773 | val_0_mae: 0.9711199998855591| val_1_mae: 0.9806399941444397|  0:11:49s\n",
      "epoch 43 | loss: 1.72563 | val_0_mae: 0.9716500043869019| val_1_mae: 0.9805499911308289|  0:12:06s\n"
     ]
    },
    {
     "name": "stdout",
     "output_type": "stream",
     "text": [
      "epoch 44 | loss: 1.7215  | val_0_mae: 0.9784799814224243| val_1_mae: 0.9875199794769287|  0:12:22s\n",
      "epoch 45 | loss: 1.71518 | val_0_mae: 0.9836199879646301| val_1_mae: 0.9922900199890137|  0:12:39s\n",
      "epoch 46 | loss: 1.71262 | val_0_mae: 0.9691399931907654| val_1_mae: 0.9789599776268005|  0:12:55s\n",
      "epoch 47 | loss: 1.71151 | val_0_mae: 0.9732099771499634| val_1_mae: 0.9840199947357178|  0:13:12s\n",
      "epoch 48 | loss: 1.70935 | val_0_mae: 0.9681800007820129| val_1_mae: 0.9795399904251099|  0:13:28s\n",
      "epoch 49 | loss: 1.70672 | val_0_mae: 0.9809399843215942| val_1_mae: 0.9925500154495239|  0:13:44s\n",
      "epoch 50 | loss: 1.70763 | val_0_mae: 0.9706799983978271| val_1_mae: 0.9822099804878235|  0:14:01s\n",
      "epoch 51 | loss: 1.70574 | val_0_mae: 0.9728999733924866| val_1_mae: 0.9851400256156921|  0:14:17s\n",
      "epoch 52 | loss: 1.70257 | val_0_mae: 0.9755899906158447| val_1_mae: 0.9884099960327148|  0:14:34s\n",
      "epoch 53 | loss: 1.70341 | val_0_mae: 0.9819899797439575| val_1_mae: 0.9948700070381165|  0:14:50s\n",
      "epoch 54 | loss: 1.70247 | val_0_mae: 0.9683600068092346| val_1_mae: 0.9826700091362|  0:15:07s\n",
      "epoch 55 | loss: 1.70125 | val_0_mae: 0.9668999910354614| val_1_mae: 0.9814199805259705|  0:15:23s\n",
      "epoch 56 | loss: 1.70179 | val_0_mae: 0.9779899716377258| val_1_mae: 0.9921000003814697|  0:15:40s\n",
      "epoch 57 | loss: 1.70009 | val_0_mae: 0.9662200212478638| val_1_mae: 0.9810199737548828|  0:15:56s\n",
      "epoch 58 | loss: 1.70057 | val_0_mae: 0.9640100002288818| val_1_mae: 0.9807299971580505|  0:16:13s\n",
      "epoch 59 | loss: 1.69715 | val_0_mae: 0.9725300073623657| val_1_mae: 0.9875500202178955|  0:16:29s\n",
      "epoch 60 | loss: 1.69725 | val_0_mae: 0.9764599800109863| val_1_mae: 0.9928399920463562|  0:16:46s\n",
      "epoch 61 | loss: 1.69805 | val_0_mae: 0.9664499759674072| val_1_mae: 0.980929970741272|  0:17:03s\n",
      "epoch 62 | loss: 1.69632 | val_0_mae: 0.9587900042533875| val_1_mae: 0.975380003452301|  0:17:19s\n",
      "epoch 63 | loss: 1.69586 | val_0_mae: 0.9753100275993347| val_1_mae: 0.9919999837875366|  0:17:36s\n",
      "epoch 64 | loss: 1.69488 | val_0_mae: 0.9628199934959412| val_1_mae: 0.9807000160217285|  0:17:52s\n",
      "\n",
      "Early stopping occurred at epoch 64 with best_epoch = 34 and best_val_1_mae = 0.9674100279808044\n",
      "Best weights from best epoch are automatically used!\n",
      "------------------------------\n",
      "Device used : cuda\n",
      "epoch 0  | loss: 2.82574 | val_0_mae: 1.0218499898910522| val_1_mae: 1.0191400051116943|  0:00:16s\n",
      "epoch 1  | loss: 1.90533 | val_0_mae: 1.0058799982070923| val_1_mae: 1.0031499862670898|  0:00:32s\n",
      "epoch 2  | loss: 1.8513  | val_0_mae: 1.0001200437545776| val_1_mae: 0.9990000128746033|  0:00:49s\n",
      "epoch 3  | loss: 1.81981 | val_0_mae: 0.9862499833106995| val_1_mae: 0.9842900037765503|  0:01:05s\n",
      "epoch 4  | loss: 1.80034 | val_0_mae: 0.9849900007247925| val_1_mae: 0.9830800294876099|  0:01:22s\n",
      "epoch 5  | loss: 1.79137 | val_0_mae: 0.9944700002670288| val_1_mae: 0.99235999584198|  0:01:38s\n",
      "epoch 6  | loss: 1.78269 | val_0_mae: 0.9849200248718262| val_1_mae: 0.9826300144195557|  0:01:55s\n",
      "epoch 7  | loss: 1.77597 | val_0_mae: 0.9802500009536743| val_1_mae: 0.9786900281906128|  0:02:11s\n",
      "epoch 8  | loss: 1.77028 | val_0_mae: 0.9867100119590759| val_1_mae: 0.9851300120353699|  0:02:28s\n",
      "epoch 9  | loss: 1.76465 | val_0_mae: 0.9774699807167053| val_1_mae: 0.9755200147628784|  0:02:44s\n",
      "epoch 10 | loss: 1.75947 | val_0_mae: 0.975350022315979| val_1_mae: 0.9743000268936157|  0:03:01s\n",
      "epoch 11 | loss: 1.75783 | val_0_mae: 0.9760000109672546| val_1_mae: 0.9757400155067444|  0:03:17s\n",
      "epoch 12 | loss: 1.7548  | val_0_mae: 0.9782400131225586| val_1_mae: 0.9783599972724915|  0:03:34s\n",
      "epoch 13 | loss: 1.75207 | val_0_mae: 0.9872300028800964| val_1_mae: 0.9865400195121765|  0:03:50s\n",
      "epoch 14 | loss: 1.74987 | val_0_mae: 0.9808300137519836| val_1_mae: 0.9803799986839294|  0:04:07s\n",
      "epoch 15 | loss: 1.74864 | val_0_mae: 0.9902499914169312| val_1_mae: 0.9897599816322327|  0:04:23s\n",
      "epoch 16 | loss: 1.74532 | val_0_mae: 0.9919599890708923| val_1_mae: 0.9926699995994568|  0:04:40s\n",
      "epoch 17 | loss: 1.74512 | val_0_mae: 0.9851800203323364| val_1_mae: 0.9847099781036377|  0:04:56s\n",
      "epoch 18 | loss: 1.74052 | val_0_mae: 0.979610025882721| val_1_mae: 0.9799900054931641|  0:05:13s\n",
      "epoch 19 | loss: 1.73862 | val_0_mae: 0.9754599928855896| val_1_mae: 0.9767199754714966|  0:05:29s\n",
      "epoch 20 | loss: 1.73715 | val_0_mae: 0.9840400218963623| val_1_mae: 0.985289990901947|  0:05:46s\n",
      "epoch 21 | loss: 1.73572 | val_0_mae: 0.9879199862480164| val_1_mae: 0.9896299839019775|  0:06:02s\n",
      "epoch 22 | loss: 1.73611 | val_0_mae: 0.9716200232505798| val_1_mae: 0.9734299778938293|  0:06:19s\n",
      "epoch 23 | loss: 1.73443 | val_0_mae: 0.9781799912452698| val_1_mae: 0.9797800183296204|  0:06:35s\n",
      "epoch 24 | loss: 1.73108 | val_0_mae: 0.9744200110435486| val_1_mae: 0.9762499928474426|  0:06:51s\n",
      "epoch 25 | loss: 1.72869 | val_0_mae: 0.9791399836540222| val_1_mae: 0.981939971446991|  0:07:08s\n",
      "epoch 26 | loss: 1.72975 | val_0_mae: 0.9789000153541565| val_1_mae: 0.9817500114440918|  0:07:24s\n",
      "epoch 27 | loss: 1.72903 | val_0_mae: 0.9791499972343445| val_1_mae: 0.9827799797058105|  0:07:41s\n",
      "epoch 28 | loss: 1.73028 | val_0_mae: 0.9817000031471252| val_1_mae: 0.9839500188827515|  0:07:57s\n",
      "epoch 29 | loss: 1.72858 | val_0_mae: 0.9814000129699707| val_1_mae: 0.985069990158081|  0:08:13s\n",
      "epoch 30 | loss: 1.72764 | val_0_mae: 0.9705899953842163| val_1_mae: 0.9742699861526489|  0:08:30s\n",
      "epoch 31 | loss: 1.72365 | val_0_mae: 0.9775000214576721| val_1_mae: 0.9810100197792053|  0:08:46s\n",
      "epoch 32 | loss: 1.72158 | val_0_mae: 0.9681299924850464| val_1_mae: 0.9718400239944458|  0:09:03s\n",
      "epoch 33 | loss: 1.72273 | val_0_mae: 0.9783300161361694| val_1_mae: 0.9819700121879578|  0:09:20s\n",
      "epoch 34 | loss: 1.71937 | val_0_mae: 0.9808200001716614| val_1_mae: 0.9856399893760681|  0:09:36s\n",
      "epoch 35 | loss: 1.7228  | val_0_mae: 0.9789100289344788| val_1_mae: 0.9833400249481201|  0:09:52s\n",
      "epoch 36 | loss: 1.71936 | val_0_mae: 0.979420006275177| val_1_mae: 0.983959972858429|  0:10:09s\n",
      "epoch 37 | loss: 1.7185  | val_0_mae: 0.9688799977302551| val_1_mae: 0.9747899770736694|  0:10:25s\n",
      "epoch 38 | loss: 1.71712 | val_0_mae: 0.9804800152778625| val_1_mae: 0.9854999780654907|  0:10:42s\n",
      "epoch 39 | loss: 1.71851 | val_0_mae: 0.9667999744415283| val_1_mae: 0.9731799960136414|  0:10:58s\n",
      "epoch 40 | loss: 1.71755 | val_0_mae: 0.9732499718666077| val_1_mae: 0.9789999723434448|  0:11:14s\n",
      "epoch 41 | loss: 1.7209  | val_0_mae: 0.9743000268936157| val_1_mae: 0.980970025062561|  0:11:30s\n",
      "epoch 42 | loss: 1.71674 | val_0_mae: 0.9769499897956848| val_1_mae: 0.9830800294876099|  0:11:47s\n",
      "epoch 43 | loss: 1.71416 | val_0_mae: 0.9786499738693237| val_1_mae: 0.9860000014305115|  0:12:03s\n",
      "epoch 44 | loss: 1.71463 | val_0_mae: 0.9764800071716309| val_1_mae: 0.9827700257301331|  0:12:19s\n",
      "epoch 45 | loss: 1.7153  | val_0_mae: 0.9791799783706665| val_1_mae: 0.9864299893379211|  0:12:36s\n",
      "epoch 46 | loss: 1.71846 | val_0_mae: 0.9702399969100952| val_1_mae: 0.9781799912452698|  0:12:52s\n",
      "epoch 47 | loss: 1.71069 | val_0_mae: 0.9722200036048889| val_1_mae: 0.9800099730491638|  0:13:08s\n",
      "epoch 48 | loss: 1.70778 | val_0_mae: 0.9749199748039246| val_1_mae: 0.9826800227165222|  0:13:25s\n",
      "epoch 49 | loss: 1.70807 | val_0_mae: 0.9740700125694275| val_1_mae: 0.9811999797821045|  0:13:41s\n",
      "epoch 50 | loss: 1.71076 | val_0_mae: 0.9678500294685364| val_1_mae: 0.974839985370636|  0:13:58s\n",
      "epoch 51 | loss: 1.70837 | val_0_mae: 0.9723600149154663| val_1_mae: 0.9808800220489502|  0:14:14s\n",
      "epoch 52 | loss: 1.70461 | val_0_mae: 0.9756900072097778| val_1_mae: 0.9846600294113159|  0:14:31s\n",
      "epoch 53 | loss: 1.70917 | val_0_mae: 0.9843999743461609| val_1_mae: 0.9932299852371216|  0:14:47s\n",
      "epoch 54 | loss: 1.70541 | val_0_mae: 0.9634699821472168| val_1_mae: 0.9734600186347961|  0:15:04s\n",
      "epoch 55 | loss: 1.72636 | val_0_mae: 0.96875 | val_1_mae: 0.975820004940033|  0:15:20s\n",
      "epoch 56 | loss: 1.71527 | val_0_mae: 0.9727399945259094| val_1_mae: 0.9800900220870972|  0:15:36s\n",
      "epoch 57 | loss: 1.70706 | val_0_mae: 0.9517899751663208| val_1_mae: 0.9610700011253357|  0:15:53s\n",
      "epoch 58 | loss: 1.70274 | val_0_mae: 0.9830099940299988| val_1_mae: 0.9938799738883972|  0:16:09s\n",
      "epoch 59 | loss: 1.70275 | val_0_mae: 0.9796500205993652| val_1_mae: 0.9910299777984619|  0:16:25s\n"
     ]
    },
    {
     "name": "stdout",
     "output_type": "stream",
     "text": [
      "epoch 60 | loss: 1.70129 | val_0_mae: 0.9633899927139282| val_1_mae: 0.9758300185203552|  0:16:42s\n",
      "epoch 61 | loss: 1.69816 | val_0_mae: 0.9726799726486206| val_1_mae: 0.984250009059906|  0:16:59s\n",
      "epoch 62 | loss: 1.70225 | val_0_mae: 0.9861199855804443| val_1_mae: 0.9958299994468689|  0:17:15s\n",
      "epoch 63 | loss: 1.70523 | val_0_mae: 0.9773600101470947| val_1_mae: 0.9891499876976013|  0:17:32s\n",
      "epoch 64 | loss: 1.69747 | val_0_mae: 0.9712100028991699| val_1_mae: 0.9835799932479858|  0:17:48s\n",
      "epoch 65 | loss: 1.69417 | val_0_mae: 0.9894800186157227| val_1_mae: 1.0026799440383911|  0:18:05s\n",
      "epoch 66 | loss: 1.69257 | val_0_mae: 0.9736700057983398| val_1_mae: 0.9876700043678284|  0:18:21s\n",
      "epoch 67 | loss: 1.69204 | val_0_mae: 0.9590399861335754| val_1_mae: 0.9732199907302856|  0:18:38s\n",
      "epoch 68 | loss: 1.6874  | val_0_mae: 0.9660599827766418| val_1_mae: 0.9806900024414062|  0:18:54s\n",
      "epoch 69 | loss: 1.69035 | val_0_mae: 0.9743199944496155| val_1_mae: 0.988510012626648|  0:19:10s\n",
      "epoch 70 | loss: 1.69033 | val_0_mae: 0.9645599722862244| val_1_mae: 0.9791499972343445|  0:19:27s\n",
      "epoch 71 | loss: 1.68893 | val_0_mae: 0.974120020866394| val_1_mae: 0.9897699952125549|  0:19:43s\n",
      "epoch 72 | loss: 1.68569 | val_0_mae: 0.9666699767112732| val_1_mae: 0.984470009803772|  0:20:00s\n",
      "epoch 73 | loss: 1.68585 | val_0_mae: 0.9757000207901001| val_1_mae: 0.9937099814414978|  0:20:16s\n",
      "epoch 74 | loss: 1.68323 | val_0_mae: 0.9669600129127502| val_1_mae: 0.9867600202560425|  0:20:33s\n",
      "epoch 75 | loss: 1.6835  | val_0_mae: 0.9768999814987183| val_1_mae: 0.992139995098114|  0:20:49s\n",
      "epoch 76 | loss: 1.68575 | val_0_mae: 0.9632400274276733| val_1_mae: 0.9807100296020508|  0:21:05s\n",
      "epoch 77 | loss: 1.68086 | val_0_mae: 0.9652400016784668| val_1_mae: 0.9843500256538391|  0:21:22s\n",
      "epoch 78 | loss: 1.67886 | val_0_mae: 0.9716899991035461| val_1_mae: 0.9899500012397766|  0:21:38s\n",
      "epoch 79 | loss: 1.67648 | val_0_mae: 0.9704599976539612| val_1_mae: 0.9893699884414673|  0:21:55s\n",
      "epoch 80 | loss: 1.67743 | val_0_mae: 0.9637200236320496| val_1_mae: 0.9834799766540527|  0:22:11s\n",
      "epoch 81 | loss: 1.675   | val_0_mae: 0.9666500091552734| val_1_mae: 0.9867900013923645|  0:22:28s\n",
      "epoch 82 | loss: 1.67458 | val_0_mae: 0.9623000025749207| val_1_mae: 0.9832800030708313|  0:22:44s\n",
      "epoch 83 | loss: 1.6779  | val_0_mae: 0.9531099796295166| val_1_mae: 0.9739900231361389|  0:23:01s\n",
      "epoch 84 | loss: 1.67947 | val_0_mae: 0.9882000088691711| val_1_mae: 1.0069600343704224|  0:23:17s\n",
      "epoch 85 | loss: 1.68802 | val_0_mae: 0.9854699969291687| val_1_mae: 1.0021400451660156|  0:23:34s\n",
      "epoch 86 | loss: 1.69217 | val_0_mae: 0.9595400094985962| val_1_mae: 0.9765099883079529|  0:23:50s\n",
      "epoch 87 | loss: 1.68954 | val_0_mae: 0.9799100160598755| val_1_mae: 0.9972699880599976|  0:24:07s\n",
      "\n",
      "Early stopping occurred at epoch 87 with best_epoch = 57 and best_val_1_mae = 0.9610700011253357\n",
      "Best weights from best epoch are automatically used!\n",
      "------------------------------\n",
      "Device used : cuda\n",
      "epoch 0  | loss: 2.76864 | val_0_mae: 1.0323100090026855| val_1_mae: 1.03302001953125|  0:00:16s\n",
      "epoch 1  | loss: 1.94428 | val_0_mae: 1.0177099704742432| val_1_mae: 1.0183000564575195|  0:00:32s\n",
      "epoch 2  | loss: 1.86759 | val_0_mae: 1.0078200101852417| val_1_mae: 1.0101200342178345|  0:00:49s\n",
      "epoch 3  | loss: 1.82174 | val_0_mae: 1.0100500583648682| val_1_mae: 1.010949969291687|  0:01:06s\n",
      "epoch 4  | loss: 1.79891 | val_0_mae: 1.01187002658844| val_1_mae: 1.0130000114440918|  0:01:22s\n",
      "epoch 5  | loss: 1.78698 | val_0_mae: 0.9959099888801575| val_1_mae: 0.9973700046539307|  0:01:39s\n",
      "epoch 6  | loss: 1.77653 | val_0_mae: 0.987500011920929| val_1_mae: 0.9894899725914001|  0:01:55s\n",
      "epoch 7  | loss: 1.7725  | val_0_mae: 0.9868199825286865| val_1_mae: 0.988860011100769|  0:02:12s\n",
      "epoch 8  | loss: 1.76824 | val_0_mae: 0.9907699823379517| val_1_mae: 0.9922999739646912|  0:02:28s\n",
      "epoch 9  | loss: 1.76525 | val_0_mae: 0.9901599884033203| val_1_mae: 0.9916300177574158|  0:02:45s\n",
      "epoch 10 | loss: 1.75974 | val_0_mae: 0.980929970741272| val_1_mae: 0.9827700257301331|  0:03:01s\n",
      "epoch 11 | loss: 1.75823 | val_0_mae: 0.9763799905776978| val_1_mae: 0.9787099957466125|  0:03:18s\n",
      "epoch 12 | loss: 1.75475 | val_0_mae: 0.9700199961662292| val_1_mae: 0.9720900058746338|  0:03:34s\n",
      "epoch 13 | loss: 1.75329 | val_0_mae: 0.977180004119873| val_1_mae: 0.9789100289344788|  0:03:51s\n",
      "epoch 14 | loss: 1.74801 | val_0_mae: 0.9794399738311768| val_1_mae: 0.9809100031852722|  0:04:08s\n",
      "epoch 15 | loss: 1.74966 | val_0_mae: 0.9799299836158752| val_1_mae: 0.9819499850273132|  0:04:25s\n",
      "epoch 16 | loss: 1.74659 | val_0_mae: 0.9777899980545044| val_1_mae: 0.9799799919128418|  0:04:41s\n",
      "epoch 17 | loss: 1.74427 | val_0_mae: 0.9790999889373779| val_1_mae: 0.9810199737548828|  0:04:57s\n",
      "epoch 18 | loss: 1.7456  | val_0_mae: 0.9786099791526794| val_1_mae: 0.9803199768066406|  0:05:14s\n",
      "epoch 19 | loss: 1.74241 | val_0_mae: 0.9696300029754639| val_1_mae: 0.9721099734306335|  0:05:30s\n",
      "epoch 20 | loss: 1.74052 | val_0_mae: 0.9781699776649475| val_1_mae: 0.9806100130081177|  0:05:47s\n",
      "epoch 21 | loss: 1.739   | val_0_mae: 0.9733499884605408| val_1_mae: 0.9758700132369995|  0:06:04s\n",
      "epoch 22 | loss: 1.73633 | val_0_mae: 0.9822499752044678| val_1_mae: 0.9838500022888184|  0:06:20s\n",
      "epoch 23 | loss: 1.73801 | val_0_mae: 0.9807299971580505| val_1_mae: 0.9831100106239319|  0:06:37s\n",
      "epoch 24 | loss: 1.73407 | val_0_mae: 0.9790700078010559| val_1_mae: 0.9819899797439575|  0:06:53s\n",
      "epoch 25 | loss: 1.7366  | val_0_mae: 0.9872300028800964| val_1_mae: 0.9895099997520447|  0:07:10s\n",
      "epoch 26 | loss: 1.73506 | val_0_mae: 0.9674000144004822| val_1_mae: 0.9699900150299072|  0:07:26s\n",
      "epoch 27 | loss: 1.73294 | val_0_mae: 0.9654300212860107| val_1_mae: 0.9684799909591675|  0:07:43s\n",
      "epoch 28 | loss: 1.73218 | val_0_mae: 0.9785400032997131| val_1_mae: 0.9814599752426147|  0:08:00s\n",
      "epoch 29 | loss: 1.72933 | val_0_mae: 0.9773200154304504| val_1_mae: 0.9807000160217285|  0:08:16s\n",
      "epoch 30 | loss: 1.73015 | val_0_mae: 0.9719799757003784| val_1_mae: 0.9749900102615356|  0:08:33s\n",
      "epoch 31 | loss: 1.7273  | val_0_mae: 0.9703099727630615| val_1_mae: 0.9733399748802185|  0:08:49s\n",
      "epoch 32 | loss: 1.72732 | val_0_mae: 0.9686800241470337| val_1_mae: 0.9722899794578552|  0:09:06s\n",
      "epoch 33 | loss: 1.72481 | val_0_mae: 0.9787099957466125| val_1_mae: 0.9822700023651123|  0:09:22s\n",
      "epoch 34 | loss: 1.72406 | val_0_mae: 0.9673100113868713| val_1_mae: 0.9714199900627136|  0:09:39s\n",
      "epoch 35 | loss: 1.72459 | val_0_mae: 0.9651399850845337| val_1_mae: 0.9691600203514099|  0:09:55s\n",
      "epoch 36 | loss: 1.72344 | val_0_mae: 0.9919300079345703| val_1_mae: 0.9960299730300903|  0:10:11s\n",
      "epoch 37 | loss: 1.72159 | val_0_mae: 0.9748299717903137| val_1_mae: 0.9797800183296204|  0:10:28s\n",
      "epoch 38 | loss: 1.72086 | val_0_mae: 0.9767699837684631| val_1_mae: 0.98089998960495|  0:10:45s\n",
      "epoch 39 | loss: 1.72045 | val_0_mae: 0.98089998960495| val_1_mae: 0.985230028629303|  0:11:01s\n",
      "epoch 40 | loss: 1.72006 | val_0_mae: 0.9708999991416931| val_1_mae: 0.975600004196167|  0:11:18s\n",
      "epoch 41 | loss: 1.7187  | val_0_mae: 0.9684699773788452| val_1_mae: 0.9743800163269043|  0:11:34s\n",
      "epoch 42 | loss: 1.71721 | val_0_mae: 0.9719499945640564| val_1_mae: 0.9782999753952026|  0:11:50s\n",
      "epoch 43 | loss: 1.71836 | val_0_mae: 0.9655200242996216| val_1_mae: 0.9714699983596802|  0:12:07s\n",
      "epoch 44 | loss: 1.71634 | val_0_mae: 0.9749199748039246| val_1_mae: 0.9814900159835815|  0:12:24s\n",
      "epoch 45 | loss: 1.71451 | val_0_mae: 0.9802899956703186| val_1_mae: 0.9862300157546997|  0:12:40s\n",
      "epoch 46 | loss: 1.71454 | val_0_mae: 0.9723899960517883| val_1_mae: 0.9790599942207336|  0:12:56s\n",
      "epoch 47 | loss: 1.71351 | val_0_mae: 0.9691200256347656| val_1_mae: 0.9763000011444092|  0:13:12s\n",
      "epoch 48 | loss: 1.7118  | val_0_mae: 0.97816002368927| val_1_mae: 0.9860799908638|  0:13:29s\n",
      "epoch 49 | loss: 1.711   | val_0_mae: 0.9976000189781189| val_1_mae: 1.0045599937438965|  0:13:45s\n",
      "epoch 50 | loss: 1.71036 | val_0_mae: 0.9837899804115295| val_1_mae: 0.9917299747467041|  0:14:01s\n",
      "epoch 51 | loss: 1.71047 | val_0_mae: 0.9730200171470642| val_1_mae: 0.9807999730110168|  0:14:17s\n",
      "epoch 52 | loss: 1.70999 | val_0_mae: 0.9760900139808655| val_1_mae: 0.9850199818611145|  0:14:34s\n"
     ]
    },
    {
     "name": "stdout",
     "output_type": "stream",
     "text": [
      "epoch 53 | loss: 1.70875 | val_0_mae: 0.9638100266456604| val_1_mae: 0.9725900292396545|  0:14:50s\n",
      "epoch 54 | loss: 1.70843 | val_0_mae: 0.9617400169372559| val_1_mae: 0.96875 |  0:15:07s\n",
      "epoch 55 | loss: 1.71317 | val_0_mae: 0.9742000102996826| val_1_mae: 0.9826300144195557|  0:15:23s\n",
      "epoch 56 | loss: 1.70668 | val_0_mae: 0.9660599827766418| val_1_mae: 0.9753400087356567|  0:15:40s\n",
      "epoch 57 | loss: 1.70772 | val_0_mae: 0.9656199812889099| val_1_mae: 0.9752399921417236|  0:15:57s\n",
      "\n",
      "Early stopping occurred at epoch 57 with best_epoch = 27 and best_val_1_mae = 0.9684799909591675\n",
      "Best weights from best epoch are automatically used!\n",
      "0.967249245113862 nan\n"
     ]
    }
   ],
   "source": [
    "train_x = df_train[x_cols]\n",
    "train_y = df_train['label']\n",
    "oof = np.zeros(len(train_x))\n",
    "seeds = [0]\n",
    "models = []\n",
    "scores = []\n",
    "for seed in seeds:\n",
    "    \n",
    "    kfold = KFold(5, random_state = seed, shuffle = True)\n",
    "    for k_fold, (tr_inds, val_inds) in enumerate(kfold.split(train_y)):\n",
    "        print('-'*30)\n",
    "        model = TabNetRegressor(\n",
    "                    n_d = 16,\n",
    "                    n_a = 16,\n",
    "                    n_steps = 3,\n",
    "                    n_independent = 3,\n",
    "                    cat_idxs=cat_idxs,\n",
    "                    cat_dims=cat_dims,\n",
    "        )\n",
    "        \n",
    "       \n",
    "\n",
    "        model.fit(train_x.loc[tr_inds].values, train_y.loc[tr_inds].values.reshape(-1, 1),\n",
    "                  patience = 30,\n",
    "                  eval_set = [\n",
    "                      (train_x.loc[tr_inds].values, train_y.loc[tr_inds].values.reshape(-1, 1)),\n",
    "                      (train_x.loc[val_inds].values, train_y.loc[val_inds].values.reshape(-1, 1))\n",
    "                  ],\n",
    "                   eval_metric =['mae'],\n",
    "                  batch_size = 8192,\n",
    "                  virtual_batch_size = 512,\n",
    "                  max_epochs = 1000,\n",
    "#                   categorical_feature = cat_cols,\n",
    "#                   verbose = 50\n",
    "                  \n",
    "                  \n",
    "                 )\n",
    "        models.append(model)\n",
    "        preds = model.predict(train_x.loc[val_inds].values)\n",
    "        oof[val_inds] += preds.flatten() / len(seeds)\n",
    "#         score = myscore(train_y.loc[val_inds].values,preds)\n",
    "#         scores.append(score)\n",
    "        #print(score)\n",
    "\n",
    "print(myscore(train_y,oof),np.mean(scores))"
   ]
  },
  {
   "cell_type": "code",
   "execution_count": null,
   "metadata": {
    "papermill": {
     "duration": 0.198845,
     "end_time": "2021-12-30T12:52:00.517678",
     "exception": false,
     "start_time": "2021-12-30T12:52:00.318833",
     "status": "completed"
    },
    "tags": []
   },
   "outputs": [],
   "source": []
  },
  {
   "cell_type": "code",
   "execution_count": 67,
   "metadata": {
    "execution": {
     "iopub.execute_input": "2021-12-30T12:52:00.902819Z",
     "iopub.status.busy": "2021-12-30T12:52:00.901212Z",
     "iopub.status.idle": "2021-12-30T12:52:00.903432Z",
     "shell.execute_reply": "2021-12-30T12:52:00.903834Z",
     "shell.execute_reply.started": "2021-12-28T09:42:45.524767Z"
    },
    "papermill": {
     "duration": 0.197094,
     "end_time": "2021-12-30T12:52:00.903961",
     "exception": false,
     "start_time": "2021-12-30T12:52:00.706867",
     "status": "completed"
    },
    "tags": []
   },
   "outputs": [],
   "source": [
    "# train_x = df_train[x_cols]\n",
    "# train_y = df_train['label']\n",
    "# oof = np.zeros(len(train_x))\n",
    "# seeds = [0]\n",
    "# models = []\n",
    "# scores = []\n",
    "# for seed in seeds:\n",
    "    \n",
    "#     kfold = KFold(5, random_state = seed, shuffle = True)\n",
    "#     for k_fold, (tr_inds, val_inds) in enumerate(kfold.split(train_y)):\n",
    "#         print('-'*30)\n",
    "#         model = LGBMRegressor(\n",
    "#             num_leaves=31,\n",
    "# #             max_depth = 9,\n",
    "# #             subsample = 0.9,\n",
    "#            # colsample_bytree = 0.5,\n",
    "#             learning_rate=0.1,\n",
    "#             n_estimators=3000,\n",
    "#             min_child_samples=20,\n",
    "#             #reg_lambda  = 3,\n",
    "#             random_state = seed\n",
    "#         )\n",
    "        \n",
    "       \n",
    "\n",
    "#         model.fit(train_x.loc[tr_inds], train_y.loc[tr_inds],early_stopping_rounds =100,\n",
    "#                   eval_set = [(train_x.loc[tr_inds], train_y.loc[tr_inds]),(train_x.loc[val_inds], train_y.loc[val_inds])],\n",
    "#                    eval_metric ='l1',\n",
    "#                   categorical_feature = cat_cols,\n",
    "#                   verbose = 50\n",
    "                  \n",
    "                  \n",
    "#                  )\n",
    "#         models.append(model)\n",
    "#         preds = model.predict(train_x.loc[val_inds])\n",
    "#         oof[val_inds] += preds / len(seeds)\n",
    "#         score = myscore(train_y.loc[val_inds],preds)\n",
    "#         scores.append(score)\n",
    "#         #print(score)\n",
    "\n",
    "# print(myscore(train_y,oof),np.mean(scores))"
   ]
  },
  {
   "cell_type": "code",
   "execution_count": 68,
   "metadata": {
    "execution": {
     "iopub.execute_input": "2021-12-30T12:52:01.288613Z",
     "iopub.status.busy": "2021-12-30T12:52:01.287973Z",
     "iopub.status.idle": "2021-12-30T12:52:01.293285Z",
     "shell.execute_reply": "2021-12-30T12:52:01.292830Z",
     "shell.execute_reply.started": "2021-12-28T09:42:45.532622Z"
    },
    "papermill": {
     "duration": 0.199312,
     "end_time": "2021-12-30T12:52:01.293424",
     "exception": false,
     "start_time": "2021-12-30T12:52:01.094112",
     "status": "completed"
    },
    "tags": []
   },
   "outputs": [
    {
     "name": "stdout",
     "output_type": "stream",
     "text": [
      "86.18215364123054\n"
     ]
    }
   ],
   "source": [
    "print(100*(1-myscore(train_y,oof) / 7))"
   ]
  },
  {
   "cell_type": "code",
   "execution_count": 72,
   "metadata": {
    "execution": {
     "iopub.execute_input": "2021-12-30T12:52:03.334504Z",
     "iopub.status.busy": "2021-12-30T12:52:03.333194Z",
     "iopub.status.idle": "2021-12-30T12:52:17.958818Z",
     "shell.execute_reply": "2021-12-30T12:52:17.957919Z",
     "shell.execute_reply.started": "2021-12-28T09:42:45.572298Z"
    },
    "papermill": {
     "duration": 14.890343,
     "end_time": "2021-12-30T12:52:17.958963",
     "exception": false,
     "start_time": "2021-12-30T12:52:03.068620",
     "status": "completed"
    },
    "tags": []
   },
   "outputs": [],
   "source": [
    "pred = 0\n",
    "for model in models:\n",
    "    pred +=  model.predict(df_tmp[x_cols].values).flatten() / len(models)\n",
    "df_tmp['label'] = pred"
   ]
  },
  {
   "cell_type": "markdown",
   "metadata": {},
   "source": [
    "抽样偏差处理，详细见思路与方案文档"
   ]
  },
  {
   "cell_type": "code",
   "execution_count": 84,
   "metadata": {
    "execution": {
     "iopub.execute_input": "2021-12-30T12:52:18.738529Z",
     "iopub.status.busy": "2021-12-30T12:52:18.737643Z",
     "iopub.status.idle": "2021-12-30T12:52:18.739980Z",
     "shell.execute_reply": "2021-12-30T12:52:18.739494Z",
     "shell.execute_reply.started": "2021-12-28T09:42:58.651584Z"
    },
    "papermill": {
     "duration": 0.198557,
     "end_time": "2021-12-30T12:52:18.740088",
     "exception": false,
     "start_time": "2021-12-30T12:52:18.541531",
     "status": "completed"
    },
    "tags": []
   },
   "outputs": [],
   "source": [
    "sub = (test.rename(columns={'end_date':'date'})).merge(df_tmp[['user_id','label','date']],on=['user_id','date'],how='left')\n",
    "sub['label'] *= 1.05\n",
    "sub['label'] = round(sub['label'])\n",
    "sub['label'] = np.where((sub['islogin'] > 0),sub['label'],sub['label'])\n",
    "sub['label'] = np.where((sub['islogin'] < 0) &(sub['last1_login']>sorted(sub['last1_login'].unique())[24]),\n",
    "                        0,sub['label'])\n",
    "sub['label'] = np.where((sub['islogin'] < 0) &(sub['last1_login'].between(sorted(sub['last1_login'].unique())[10],\n",
    "    sorted(sub['last1_login'].unique())[25]))&(sub['label']>1),\n",
    "                        1,sub['label'])\n",
    "sub['label'] = np.where((sub['islogin'] < 0) &(sub['last1_login'].between(sorted(sub['last1_login'].unique())[4],\n",
    "    sorted(sub['last1_login'].unique())[9]))&(sub['label']>2),\n",
    "                        2,sub['label'])\n",
    "sub['label']  = np.where(sub['label'] >7,7,sub['label'] )\n",
    "sub['label'] = np.where(sub['label'] <0,0,sub['label'] )\n",
    "sample = pd.read_csv('test_B数据集.csv')\n",
    "sample['label'] = sub['label']\n",
    "sample[['user_id','label']].to_csv('final_sub.csv',index=False,header=None,encoding='UTF-8')"
   ]
  },
  {
   "cell_type": "code",
   "execution_count": null,
   "metadata": {
    "papermill": {
     "duration": 0.202294,
     "end_time": "2021-12-30T12:52:21.177080",
     "exception": false,
     "start_time": "2021-12-30T12:52:20.974786",
     "status": "completed"
    },
    "tags": []
   },
   "outputs": [],
   "source": []
  }
 ],
 "metadata": {
  "kernelspec": {
   "display_name": "Python 3",
   "language": "python",
   "name": "python3"
  },
  "language_info": {
   "codemirror_mode": {
    "name": "ipython",
    "version": 3
   },
   "file_extension": ".py",
   "mimetype": "text/x-python",
   "name": "python",
   "nbconvert_exporter": "python",
   "pygments_lexer": "ipython3",
   "version": "3.8.5"
  },
  "papermill": {
   "default_parameters": {},
   "duration": 2295.406115,
   "end_time": "2021-12-30T12:52:24.729984",
   "environment_variables": {},
   "exception": null,
   "input_path": "__notebook__.ipynb",
   "output_path": "__notebook__.ipynb",
   "parameters": {},
   "start_time": "2021-12-30T12:14:09.323869",
   "version": "2.3.3"
  },
  "widgets": {
   "application/vnd.jupyter.widget-state+json": {
    "state": {
     "07fdd1184ddb4c0190fa57d8aa70df16": {
      "model_module": "@jupyter-widgets/controls",
      "model_module_version": "1.5.0",
      "model_name": "HTMLModel",
      "state": {
       "_dom_classes": [],
       "_model_module": "@jupyter-widgets/controls",
       "_model_module_version": "1.5.0",
       "_model_name": "HTMLModel",
       "_view_count": null,
       "_view_module": "@jupyter-widgets/controls",
       "_view_module_version": "1.5.0",
       "_view_name": "HTMLView",
       "description": "",
       "description_tooltip": null,
       "layout": "IPY_MODEL_f781900d172a435eabcdfe794000b5d2",
       "placeholder": "​",
       "style": "IPY_MODEL_ba76feac9ee14f4d9e7034c1e37a84fd",
       "value": "100%"
      }
     },
     "1a51931b17ed454f9596095999a76aa9": {
      "model_module": "@jupyter-widgets/base",
      "model_module_version": "1.2.0",
      "model_name": "LayoutModel",
      "state": {
       "_model_module": "@jupyter-widgets/base",
       "_model_module_version": "1.2.0",
       "_model_name": "LayoutModel",
       "_view_count": null,
       "_view_module": "@jupyter-widgets/base",
       "_view_module_version": "1.2.0",
       "_view_name": "LayoutView",
       "align_content": null,
       "align_items": null,
       "align_self": null,
       "border": null,
       "bottom": null,
       "display": null,
       "flex": null,
       "flex_flow": null,
       "grid_area": null,
       "grid_auto_columns": null,
       "grid_auto_flow": null,
       "grid_auto_rows": null,
       "grid_column": null,
       "grid_gap": null,
       "grid_row": null,
       "grid_template_areas": null,
       "grid_template_columns": null,
       "grid_template_rows": null,
       "height": null,
       "justify_content": null,
       "justify_items": null,
       "left": null,
       "margin": null,
       "max_height": null,
       "max_width": null,
       "min_height": null,
       "min_width": null,
       "object_fit": null,
       "object_position": null,
       "order": null,
       "overflow": null,
       "overflow_x": null,
       "overflow_y": null,
       "padding": null,
       "right": null,
       "top": null,
       "visibility": null,
       "width": null
      }
     },
     "216125e15b724cf8bb5e09516d8b52d8": {
      "model_module": "@jupyter-widgets/controls",
      "model_module_version": "1.5.0",
      "model_name": "FloatProgressModel",
      "state": {
       "_dom_classes": [],
       "_model_module": "@jupyter-widgets/controls",
       "_model_module_version": "1.5.0",
       "_model_name": "FloatProgressModel",
       "_view_count": null,
       "_view_module": "@jupyter-widgets/controls",
       "_view_module_version": "1.5.0",
       "_view_name": "ProgressView",
       "bar_style": "success",
       "description": "",
       "description_tooltip": null,
       "layout": "IPY_MODEL_f1e90dfef76b4c5a944cd437fe17d9cc",
       "max": 8,
       "min": 0,
       "orientation": "horizontal",
       "style": "IPY_MODEL_a4680638b463422b821553070aa6aa62",
       "value": 8
      }
     },
     "41256e03a9174a70bfbed51dd3bee16b": {
      "model_module": "@jupyter-widgets/controls",
      "model_module_version": "1.5.0",
      "model_name": "HTMLModel",
      "state": {
       "_dom_classes": [],
       "_model_module": "@jupyter-widgets/controls",
       "_model_module_version": "1.5.0",
       "_model_name": "HTMLModel",
       "_view_count": null,
       "_view_module": "@jupyter-widgets/controls",
       "_view_module_version": "1.5.0",
       "_view_name": "HTMLView",
       "description": "",
       "description_tooltip": null,
       "layout": "IPY_MODEL_94e40a969aea4221aa82e753090c7f99",
       "placeholder": "​",
       "style": "IPY_MODEL_ebef381857aa4f87bb2fc3a7392b60cd",
       "value": " 8/8 [00:19&lt;00:00,  2.92s/it]"
      }
     },
     "4821c67707ba4df89ebe3b54497e314a": {
      "model_module": "@jupyter-widgets/controls",
      "model_module_version": "1.5.0",
      "model_name": "DescriptionStyleModel",
      "state": {
       "_model_module": "@jupyter-widgets/controls",
       "_model_module_version": "1.5.0",
       "_model_name": "DescriptionStyleModel",
       "_view_count": null,
       "_view_module": "@jupyter-widgets/base",
       "_view_module_version": "1.2.0",
       "_view_name": "StyleView",
       "description_width": ""
      }
     },
     "4baff27953bb49c09c298d9d0006229f": {
      "model_module": "@jupyter-widgets/controls",
      "model_module_version": "1.5.0",
      "model_name": "ProgressStyleModel",
      "state": {
       "_model_module": "@jupyter-widgets/controls",
       "_model_module_version": "1.5.0",
       "_model_name": "ProgressStyleModel",
       "_view_count": null,
       "_view_module": "@jupyter-widgets/base",
       "_view_module_version": "1.2.0",
       "_view_name": "StyleView",
       "bar_color": null,
       "description_width": ""
      }
     },
     "4e92a53e400e4216b72b2378d64923fe": {
      "model_module": "@jupyter-widgets/base",
      "model_module_version": "1.2.0",
      "model_name": "LayoutModel",
      "state": {
       "_model_module": "@jupyter-widgets/base",
       "_model_module_version": "1.2.0",
       "_model_name": "LayoutModel",
       "_view_count": null,
       "_view_module": "@jupyter-widgets/base",
       "_view_module_version": "1.2.0",
       "_view_name": "LayoutView",
       "align_content": null,
       "align_items": null,
       "align_self": null,
       "border": null,
       "bottom": null,
       "display": null,
       "flex": null,
       "flex_flow": null,
       "grid_area": null,
       "grid_auto_columns": null,
       "grid_auto_flow": null,
       "grid_auto_rows": null,
       "grid_column": null,
       "grid_gap": null,
       "grid_row": null,
       "grid_template_areas": null,
       "grid_template_columns": null,
       "grid_template_rows": null,
       "height": null,
       "justify_content": null,
       "justify_items": null,
       "left": null,
       "margin": null,
       "max_height": null,
       "max_width": null,
       "min_height": null,
       "min_width": null,
       "object_fit": null,
       "object_position": null,
       "order": null,
       "overflow": null,
       "overflow_x": null,
       "overflow_y": null,
       "padding": null,
       "right": null,
       "top": null,
       "visibility": null,
       "width": null
      }
     },
     "5ebd35431a804a528b2daf3eb04f2677": {
      "model_module": "@jupyter-widgets/controls",
      "model_module_version": "1.5.0",
      "model_name": "HBoxModel",
      "state": {
       "_dom_classes": [],
       "_model_module": "@jupyter-widgets/controls",
       "_model_module_version": "1.5.0",
       "_model_name": "HBoxModel",
       "_view_count": null,
       "_view_module": "@jupyter-widgets/controls",
       "_view_module_version": "1.5.0",
       "_view_name": "HBoxView",
       "box_style": "",
       "children": [
        "IPY_MODEL_07fdd1184ddb4c0190fa57d8aa70df16",
        "IPY_MODEL_cc7ab00eef214dcd9f15496c17143049",
        "IPY_MODEL_7586a792d2db49b5bbfe1add67cf31cb"
       ],
       "layout": "IPY_MODEL_e875bdf8820c46b69ce0f3a545f3071e"
      }
     },
     "7586a792d2db49b5bbfe1add67cf31cb": {
      "model_module": "@jupyter-widgets/controls",
      "model_module_version": "1.5.0",
      "model_name": "HTMLModel",
      "state": {
       "_dom_classes": [],
       "_model_module": "@jupyter-widgets/controls",
       "_model_module_version": "1.5.0",
       "_model_name": "HTMLModel",
       "_view_count": null,
       "_view_module": "@jupyter-widgets/controls",
       "_view_module_version": "1.5.0",
       "_view_name": "HTMLView",
       "description": "",
       "description_tooltip": null,
       "layout": "IPY_MODEL_4e92a53e400e4216b72b2378d64923fe",
       "placeholder": "​",
       "style": "IPY_MODEL_4821c67707ba4df89ebe3b54497e314a",
       "value": " 7/7 [00:49&lt;00:00,  8.70s/it]"
      }
     },
     "8efdbb3308d34ba98238d5d13583e24f": {
      "model_module": "@jupyter-widgets/controls",
      "model_module_version": "1.5.0",
      "model_name": "HTMLModel",
      "state": {
       "_dom_classes": [],
       "_model_module": "@jupyter-widgets/controls",
       "_model_module_version": "1.5.0",
       "_model_name": "HTMLModel",
       "_view_count": null,
       "_view_module": "@jupyter-widgets/controls",
       "_view_module_version": "1.5.0",
       "_view_name": "HTMLView",
       "description": "",
       "description_tooltip": null,
       "layout": "IPY_MODEL_c52865a0ee1d4e44b636cc28dfdec55a",
       "placeholder": "​",
       "style": "IPY_MODEL_f9af06a779a64abdaab0841a4127bb32",
       "value": "100%"
      }
     },
     "94e40a969aea4221aa82e753090c7f99": {
      "model_module": "@jupyter-widgets/base",
      "model_module_version": "1.2.0",
      "model_name": "LayoutModel",
      "state": {
       "_model_module": "@jupyter-widgets/base",
       "_model_module_version": "1.2.0",
       "_model_name": "LayoutModel",
       "_view_count": null,
       "_view_module": "@jupyter-widgets/base",
       "_view_module_version": "1.2.0",
       "_view_name": "LayoutView",
       "align_content": null,
       "align_items": null,
       "align_self": null,
       "border": null,
       "bottom": null,
       "display": null,
       "flex": null,
       "flex_flow": null,
       "grid_area": null,
       "grid_auto_columns": null,
       "grid_auto_flow": null,
       "grid_auto_rows": null,
       "grid_column": null,
       "grid_gap": null,
       "grid_row": null,
       "grid_template_areas": null,
       "grid_template_columns": null,
       "grid_template_rows": null,
       "height": null,
       "justify_content": null,
       "justify_items": null,
       "left": null,
       "margin": null,
       "max_height": null,
       "max_width": null,
       "min_height": null,
       "min_width": null,
       "object_fit": null,
       "object_position": null,
       "order": null,
       "overflow": null,
       "overflow_x": null,
       "overflow_y": null,
       "padding": null,
       "right": null,
       "top": null,
       "visibility": null,
       "width": null
      }
     },
     "a4680638b463422b821553070aa6aa62": {
      "model_module": "@jupyter-widgets/controls",
      "model_module_version": "1.5.0",
      "model_name": "ProgressStyleModel",
      "state": {
       "_model_module": "@jupyter-widgets/controls",
       "_model_module_version": "1.5.0",
       "_model_name": "ProgressStyleModel",
       "_view_count": null,
       "_view_module": "@jupyter-widgets/base",
       "_view_module_version": "1.2.0",
       "_view_name": "StyleView",
       "bar_color": null,
       "description_width": ""
      }
     },
     "ba76feac9ee14f4d9e7034c1e37a84fd": {
      "model_module": "@jupyter-widgets/controls",
      "model_module_version": "1.5.0",
      "model_name": "DescriptionStyleModel",
      "state": {
       "_model_module": "@jupyter-widgets/controls",
       "_model_module_version": "1.5.0",
       "_model_name": "DescriptionStyleModel",
       "_view_count": null,
       "_view_module": "@jupyter-widgets/base",
       "_view_module_version": "1.2.0",
       "_view_name": "StyleView",
       "description_width": ""
      }
     },
     "c52865a0ee1d4e44b636cc28dfdec55a": {
      "model_module": "@jupyter-widgets/base",
      "model_module_version": "1.2.0",
      "model_name": "LayoutModel",
      "state": {
       "_model_module": "@jupyter-widgets/base",
       "_model_module_version": "1.2.0",
       "_model_name": "LayoutModel",
       "_view_count": null,
       "_view_module": "@jupyter-widgets/base",
       "_view_module_version": "1.2.0",
       "_view_name": "LayoutView",
       "align_content": null,
       "align_items": null,
       "align_self": null,
       "border": null,
       "bottom": null,
       "display": null,
       "flex": null,
       "flex_flow": null,
       "grid_area": null,
       "grid_auto_columns": null,
       "grid_auto_flow": null,
       "grid_auto_rows": null,
       "grid_column": null,
       "grid_gap": null,
       "grid_row": null,
       "grid_template_areas": null,
       "grid_template_columns": null,
       "grid_template_rows": null,
       "height": null,
       "justify_content": null,
       "justify_items": null,
       "left": null,
       "margin": null,
       "max_height": null,
       "max_width": null,
       "min_height": null,
       "min_width": null,
       "object_fit": null,
       "object_position": null,
       "order": null,
       "overflow": null,
       "overflow_x": null,
       "overflow_y": null,
       "padding": null,
       "right": null,
       "top": null,
       "visibility": null,
       "width": null
      }
     },
     "cc7ab00eef214dcd9f15496c17143049": {
      "model_module": "@jupyter-widgets/controls",
      "model_module_version": "1.5.0",
      "model_name": "FloatProgressModel",
      "state": {
       "_dom_classes": [],
       "_model_module": "@jupyter-widgets/controls",
       "_model_module_version": "1.5.0",
       "_model_name": "FloatProgressModel",
       "_view_count": null,
       "_view_module": "@jupyter-widgets/controls",
       "_view_module_version": "1.5.0",
       "_view_name": "ProgressView",
       "bar_style": "success",
       "description": "",
       "description_tooltip": null,
       "layout": "IPY_MODEL_1a51931b17ed454f9596095999a76aa9",
       "max": 7,
       "min": 0,
       "orientation": "horizontal",
       "style": "IPY_MODEL_4baff27953bb49c09c298d9d0006229f",
       "value": 7
      }
     },
     "e0aa538d374741d09541ad7fbc025474": {
      "model_module": "@jupyter-widgets/controls",
      "model_module_version": "1.5.0",
      "model_name": "HBoxModel",
      "state": {
       "_dom_classes": [],
       "_model_module": "@jupyter-widgets/controls",
       "_model_module_version": "1.5.0",
       "_model_name": "HBoxModel",
       "_view_count": null,
       "_view_module": "@jupyter-widgets/controls",
       "_view_module_version": "1.5.0",
       "_view_name": "HBoxView",
       "box_style": "",
       "children": [
        "IPY_MODEL_8efdbb3308d34ba98238d5d13583e24f",
        "IPY_MODEL_216125e15b724cf8bb5e09516d8b52d8",
        "IPY_MODEL_41256e03a9174a70bfbed51dd3bee16b"
       ],
       "layout": "IPY_MODEL_ee924b1da3f948b19f9c9ba4bce4f0ea"
      }
     },
     "e875bdf8820c46b69ce0f3a545f3071e": {
      "model_module": "@jupyter-widgets/base",
      "model_module_version": "1.2.0",
      "model_name": "LayoutModel",
      "state": {
       "_model_module": "@jupyter-widgets/base",
       "_model_module_version": "1.2.0",
       "_model_name": "LayoutModel",
       "_view_count": null,
       "_view_module": "@jupyter-widgets/base",
       "_view_module_version": "1.2.0",
       "_view_name": "LayoutView",
       "align_content": null,
       "align_items": null,
       "align_self": null,
       "border": null,
       "bottom": null,
       "display": null,
       "flex": null,
       "flex_flow": null,
       "grid_area": null,
       "grid_auto_columns": null,
       "grid_auto_flow": null,
       "grid_auto_rows": null,
       "grid_column": null,
       "grid_gap": null,
       "grid_row": null,
       "grid_template_areas": null,
       "grid_template_columns": null,
       "grid_template_rows": null,
       "height": null,
       "justify_content": null,
       "justify_items": null,
       "left": null,
       "margin": null,
       "max_height": null,
       "max_width": null,
       "min_height": null,
       "min_width": null,
       "object_fit": null,
       "object_position": null,
       "order": null,
       "overflow": null,
       "overflow_x": null,
       "overflow_y": null,
       "padding": null,
       "right": null,
       "top": null,
       "visibility": null,
       "width": null
      }
     },
     "ebef381857aa4f87bb2fc3a7392b60cd": {
      "model_module": "@jupyter-widgets/controls",
      "model_module_version": "1.5.0",
      "model_name": "DescriptionStyleModel",
      "state": {
       "_model_module": "@jupyter-widgets/controls",
       "_model_module_version": "1.5.0",
       "_model_name": "DescriptionStyleModel",
       "_view_count": null,
       "_view_module": "@jupyter-widgets/base",
       "_view_module_version": "1.2.0",
       "_view_name": "StyleView",
       "description_width": ""
      }
     },
     "ee924b1da3f948b19f9c9ba4bce4f0ea": {
      "model_module": "@jupyter-widgets/base",
      "model_module_version": "1.2.0",
      "model_name": "LayoutModel",
      "state": {
       "_model_module": "@jupyter-widgets/base",
       "_model_module_version": "1.2.0",
       "_model_name": "LayoutModel",
       "_view_count": null,
       "_view_module": "@jupyter-widgets/base",
       "_view_module_version": "1.2.0",
       "_view_name": "LayoutView",
       "align_content": null,
       "align_items": null,
       "align_self": null,
       "border": null,
       "bottom": null,
       "display": null,
       "flex": null,
       "flex_flow": null,
       "grid_area": null,
       "grid_auto_columns": null,
       "grid_auto_flow": null,
       "grid_auto_rows": null,
       "grid_column": null,
       "grid_gap": null,
       "grid_row": null,
       "grid_template_areas": null,
       "grid_template_columns": null,
       "grid_template_rows": null,
       "height": null,
       "justify_content": null,
       "justify_items": null,
       "left": null,
       "margin": null,
       "max_height": null,
       "max_width": null,
       "min_height": null,
       "min_width": null,
       "object_fit": null,
       "object_position": null,
       "order": null,
       "overflow": null,
       "overflow_x": null,
       "overflow_y": null,
       "padding": null,
       "right": null,
       "top": null,
       "visibility": null,
       "width": null
      }
     },
     "f1e90dfef76b4c5a944cd437fe17d9cc": {
      "model_module": "@jupyter-widgets/base",
      "model_module_version": "1.2.0",
      "model_name": "LayoutModel",
      "state": {
       "_model_module": "@jupyter-widgets/base",
       "_model_module_version": "1.2.0",
       "_model_name": "LayoutModel",
       "_view_count": null,
       "_view_module": "@jupyter-widgets/base",
       "_view_module_version": "1.2.0",
       "_view_name": "LayoutView",
       "align_content": null,
       "align_items": null,
       "align_self": null,
       "border": null,
       "bottom": null,
       "display": null,
       "flex": null,
       "flex_flow": null,
       "grid_area": null,
       "grid_auto_columns": null,
       "grid_auto_flow": null,
       "grid_auto_rows": null,
       "grid_column": null,
       "grid_gap": null,
       "grid_row": null,
       "grid_template_areas": null,
       "grid_template_columns": null,
       "grid_template_rows": null,
       "height": null,
       "justify_content": null,
       "justify_items": null,
       "left": null,
       "margin": null,
       "max_height": null,
       "max_width": null,
       "min_height": null,
       "min_width": null,
       "object_fit": null,
       "object_position": null,
       "order": null,
       "overflow": null,
       "overflow_x": null,
       "overflow_y": null,
       "padding": null,
       "right": null,
       "top": null,
       "visibility": null,
       "width": null
      }
     },
     "f781900d172a435eabcdfe794000b5d2": {
      "model_module": "@jupyter-widgets/base",
      "model_module_version": "1.2.0",
      "model_name": "LayoutModel",
      "state": {
       "_model_module": "@jupyter-widgets/base",
       "_model_module_version": "1.2.0",
       "_model_name": "LayoutModel",
       "_view_count": null,
       "_view_module": "@jupyter-widgets/base",
       "_view_module_version": "1.2.0",
       "_view_name": "LayoutView",
       "align_content": null,
       "align_items": null,
       "align_self": null,
       "border": null,
       "bottom": null,
       "display": null,
       "flex": null,
       "flex_flow": null,
       "grid_area": null,
       "grid_auto_columns": null,
       "grid_auto_flow": null,
       "grid_auto_rows": null,
       "grid_column": null,
       "grid_gap": null,
       "grid_row": null,
       "grid_template_areas": null,
       "grid_template_columns": null,
       "grid_template_rows": null,
       "height": null,
       "justify_content": null,
       "justify_items": null,
       "left": null,
       "margin": null,
       "max_height": null,
       "max_width": null,
       "min_height": null,
       "min_width": null,
       "object_fit": null,
       "object_position": null,
       "order": null,
       "overflow": null,
       "overflow_x": null,
       "overflow_y": null,
       "padding": null,
       "right": null,
       "top": null,
       "visibility": null,
       "width": null
      }
     },
     "f9af06a779a64abdaab0841a4127bb32": {
      "model_module": "@jupyter-widgets/controls",
      "model_module_version": "1.5.0",
      "model_name": "DescriptionStyleModel",
      "state": {
       "_model_module": "@jupyter-widgets/controls",
       "_model_module_version": "1.5.0",
       "_model_name": "DescriptionStyleModel",
       "_view_count": null,
       "_view_module": "@jupyter-widgets/base",
       "_view_module_version": "1.2.0",
       "_view_name": "StyleView",
       "description_width": ""
      }
     }
    },
    "version_major": 2,
    "version_minor": 0
   }
  }
 },
 "nbformat": 4,
 "nbformat_minor": 5
}
